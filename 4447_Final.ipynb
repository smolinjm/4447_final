{
 "cells": [
  {
   "cell_type": "markdown",
   "metadata": {},
   "source": [
    "<br><br>Tafara Makayi<br>\n",
    "Jeff Smolinski<br>\n",
    "4447 Final Project<br>\n",
    "11/22/2020<br>"
   ]
  },
  {
   "cell_type": "code",
   "execution_count": 3,
   "metadata": {},
   "outputs": [],
   "source": [
    "import sys\n",
    "import time\n",
    "import datetime\n",
    "\n",
    "import numpy as np\n",
    "import pandas as pd\n",
    "import matplotlib.pyplot as plt\n",
    "%matplotlib inline\n",
    "import seaborn as sns"
   ]
  },
  {
   "cell_type": "markdown",
   "metadata": {},
   "source": [
    "Proper tagging of Github repository for final report as per deadlines (0.5 = 0.25 + 0.25 points)"
   ]
  },
  {
   "cell_type": "markdown",
   "metadata": {},
   "source": [
    "<br><br>Dataset and motivation slide (1 points)<br><br>\n",
    "<b>The EFSA Comprehensive European Food Consumption Database</b><br>\n",
    "https://data.europa.eu/euodp/en/data/dataset/the-efsa-comprehensive-european-food-consumption-database/resource/18cce1f2-1586-4bf9-9a28-b5103aa413f6<br><br>\n",
    "\n",
    "<b>World Development Indicators</b><br>\n",
    "https://datacatalog.worldbank.org/dataset/world-development-indicators<br><br>\n",
    "\n",
    "<b>Health Nutrition And Population Statistics</b><br>\n",
    "https://datacatalog.worldbank.org/dataset/health-nutrition-and-population-statistics<br><br>\n",
    "\n",
    "MAYBE - <b>Plotly Express build in population and GDP data by Country from 2007</b><br>\n",
    "df = px.data.gapminder().query(\"year==2007\")<br>\n",
    "- used to help feed the choropleth<br><br>\n"
   ]
  },
  {
   "cell_type": "code",
   "execution_count": 4,
   "metadata": {},
   "outputs": [
    {
     "name": "stdout",
     "output_type": "stream",
     "text": [
      "  % Total    % Received % Xferd  Average Speed   Time    Time     Time  Current\n",
      "                                 Dload  Upload   Total   Spent    Left  Speed\n",
      "100  125M  100  125M    0     0  5695k      0  0:00:22  0:00:22 --:--:-- 6379k5M   34 42.7M    0     0  5105k      0  0:00:25  0:00:08  0:00:17 5624k\n",
      "Archive:  data.zip\n",
      "  inflating: data/ESFA.csv           \n",
      "  inflating: data/HNP_StatsData2.csv  \n",
      "  inflating: data/WDIData.csv        \n"
     ]
    }
   ],
   "source": [
    "# PROJECT DATA\n",
    "\n",
    "# this file is one one of my personal domains - \n",
    "# I learned how to setup a checksum recently... but opted to pass on that this time\n",
    "! curl -O http://enabled.ws/data/data.zip\n",
    "! unzip data.zip"
   ]
  },
  {
   "cell_type": "code",
   "execution_count": null,
   "metadata": {},
   "outputs": [],
   "source": []
  },
  {
   "cell_type": "markdown",
   "metadata": {},
   "source": [
    "How/why the dataset was collected and a description of the metadata of your dataset.<br>\n",
    "• Actual task definition/research question (2 points)<br><br>\n",
    "The data files were downloaded from the above links. Two of the files required conversion from XLS to CSV and CSV to CSV.<br><br>\n",
    "\n",
    "EFSA Nutritional Data<br>\n",
    "avg_chronic : chronic consumption of alcohol <br>\n",
    "avg_chronic_bw : chronic consumption of alcohol by body weight<br>\n",
    "avg_acute : acute consumption of alcohol<br><br>\n",
    "\n",
    "Chronic vs Acute consumption: <br>\n",
    "Summary statistics from the Comprehensive Database have been published for both chronic and acute consumption. <br><br>\n",
    "\n",
    "Chronic Consumption: <br>\n",
    "Intake statistics have been calculated based on individual average consumption over the total survey period. The average value for each subject was then considered only once when calculating the chronic average consumption and other statistics related to chronic consumption at population level.<br><br> \n",
    "\n",
    "Acute Consumption: <br>\n",
    "Statistics have been calculated based on every single reporting day. For example, if subjects in a population had recorded their consumption by means of a 7 day food record, the average intake of each individual over the 7 days was calculated. Acute consumption figures were calculated using each reporting day independently, and in summing eating occasions for a considered food. All days from each subject (7 days in the above reported example) were used to calculate the acute average consumption and the other statistics related to acute consumption at population level.<br><br>\n",
    "\n",
    "Gram/Day and Gram/Kg of body weight per day: <br>\n",
    "This indicate if the data on consumption is relative to a gram per day assumption or to a gram per kg of body weight per day.<br><br>\n",
    "\n",
    "Mortality:\n",
    "Mortality rate, or death rate, is a measure of the number of deaths (in general, or due to a specific cause) in a particular population, scaled to the size of that population, per unit of time.\n",
    "\n",
    "Ploty Express World data<br>\n",
    "Per capita gross domestic product (GDP) is a metric that breaks down a country's economic output per person and is calculated by dividing the GDP of a country by its population.<br><br>\n",
    "\n",
    "Wikipedia GDP per Capita<br>\n",
    "https://en.wikipedia.org/wiki/List_of_countries_by_GDP_(nominal)_per_capita <br>\n"
   ]
  },
  {
   "cell_type": "code",
   "execution_count": null,
   "metadata": {},
   "outputs": [],
   "source": []
  },
  {
   "cell_type": "code",
   "execution_count": 5,
   "metadata": {},
   "outputs": [],
   "source": [
    "nutrition_data = pd.read_csv(\"data/ESFA.csv\", \n",
    "                          usecols= [\"SurveyscountryDESC\",\n",
    "                                    \"ExposurehierarchyL1DESC\",\n",
    "                                    \"PopulationGroupL2DESC\", \n",
    "                                    \"avg_chronic\", \n",
    "                                    \"avg_chronic_bw\", \n",
    "                                    \"avg_acute\",\n",
    "                                    'con_days',\n",
    "                                    'count_days_s_pg',\n",
    "                                    'count_days_wg',\n",
    "                                    'count_subject_s_pg',\n",
    "                                    'count_subject_wg',\n",
    "                                    'per_customer'])"
   ]
  },
  {
   "cell_type": "code",
   "execution_count": 6,
   "metadata": {},
   "outputs": [],
   "source": [
    "nutrition_data.columns = ['country', 'PopulationGroupL2DESC',\n",
    "       'ExposurehierarchyL1DESC', 'con_days', 'count_days_s_pg',\n",
    "       'count_days_wg', 'count_subject_s_pg', 'count_subject_wg',\n",
    "       'per_customer', 'avg_chronic', 'avg_chronic_bw', 'avg_acute']"
   ]
  },
  {
   "cell_type": "code",
   "execution_count": 7,
   "metadata": {},
   "outputs": [
    {
     "data": {
      "text/html": [
       "<div>\n",
       "<style scoped>\n",
       "    .dataframe tbody tr th:only-of-type {\n",
       "        vertical-align: middle;\n",
       "    }\n",
       "\n",
       "    .dataframe tbody tr th {\n",
       "        vertical-align: top;\n",
       "    }\n",
       "\n",
       "    .dataframe thead th {\n",
       "        text-align: right;\n",
       "    }\n",
       "</style>\n",
       "<table border=\"1\" class=\"dataframe\">\n",
       "  <thead>\n",
       "    <tr style=\"text-align: right;\">\n",
       "      <th></th>\n",
       "      <th>country</th>\n",
       "      <th>PopulationGroupL2DESC</th>\n",
       "      <th>ExposurehierarchyL1DESC</th>\n",
       "      <th>con_days</th>\n",
       "      <th>count_days_s_pg</th>\n",
       "      <th>count_days_wg</th>\n",
       "      <th>count_subject_s_pg</th>\n",
       "      <th>count_subject_wg</th>\n",
       "      <th>per_customer</th>\n",
       "      <th>avg_chronic</th>\n",
       "      <th>avg_chronic_bw</th>\n",
       "      <th>avg_acute</th>\n",
       "    </tr>\n",
       "  </thead>\n",
       "  <tbody>\n",
       "    <tr>\n",
       "      <th>282056</th>\n",
       "      <td>Netherlands</td>\n",
       "      <td>Other children</td>\n",
       "      <td>Fruit and fruit products</td>\n",
       "      <td>0.013423</td>\n",
       "      <td>894</td>\n",
       "      <td>12</td>\n",
       "      <td>447</td>\n",
       "      <td>10</td>\n",
       "      <td>0.022371</td>\n",
       "      <td>64.000000</td>\n",
       "      <td>2.379640</td>\n",
       "      <td>106.666667</td>\n",
       "    </tr>\n",
       "    <tr>\n",
       "      <th>281901</th>\n",
       "      <td>Netherlands</td>\n",
       "      <td>Other children</td>\n",
       "      <td>Vegetables and vegetable products</td>\n",
       "      <td>0.029258</td>\n",
       "      <td>1914</td>\n",
       "      <td>56</td>\n",
       "      <td>957</td>\n",
       "      <td>54</td>\n",
       "      <td>0.056426</td>\n",
       "      <td>12.769444</td>\n",
       "      <td>0.659773</td>\n",
       "      <td>24.626786</td>\n",
       "    </tr>\n",
       "    <tr>\n",
       "      <th>14486</th>\n",
       "      <td>Estonia</td>\n",
       "      <td>Infants</td>\n",
       "      <td>Grains and grain-based products</td>\n",
       "      <td>0.021718</td>\n",
       "      <td>1013</td>\n",
       "      <td>22</td>\n",
       "      <td>509</td>\n",
       "      <td>20</td>\n",
       "      <td>0.039293</td>\n",
       "      <td>4.808750</td>\n",
       "      <td>0.527531</td>\n",
       "      <td>8.743182</td>\n",
       "    </tr>\n",
       "  </tbody>\n",
       "</table>\n",
       "</div>"
      ],
      "text/plain": [
       "            country PopulationGroupL2DESC            ExposurehierarchyL1DESC  \\\n",
       "282056  Netherlands        Other children           Fruit and fruit products   \n",
       "281901  Netherlands        Other children  Vegetables and vegetable products   \n",
       "14486       Estonia               Infants    Grains and grain-based products   \n",
       "\n",
       "        con_days  count_days_s_pg  count_days_wg  count_subject_s_pg  \\\n",
       "282056  0.013423              894             12                 447   \n",
       "281901  0.029258             1914             56                 957   \n",
       "14486   0.021718             1013             22                 509   \n",
       "\n",
       "        count_subject_wg  per_customer  avg_chronic  avg_chronic_bw  \\\n",
       "282056                10      0.022371    64.000000        2.379640   \n",
       "281901                54      0.056426    12.769444        0.659773   \n",
       "14486                 20      0.039293     4.808750        0.527531   \n",
       "\n",
       "         avg_acute  \n",
       "282056  106.666667  \n",
       "281901   24.626786  \n",
       "14486     8.743182  "
      ]
     },
     "execution_count": 7,
     "metadata": {},
     "output_type": "execute_result"
    }
   ],
   "source": [
    "nutrition_data.sample(3)"
   ]
  },
  {
   "cell_type": "code",
   "execution_count": 9,
   "metadata": {},
   "outputs": [
    {
     "data": {
      "image/png": "[encoded data removed]",
      "text/plain": [
       "<Figure size 864x432 with 1 Axes>"
      ]
     },
     "metadata": {},
     "output_type": "display_data"
    }
   ],
   "source": [
    "x = nutrition_data['country'].tolist()\n",
    "#print(x[0:5])\n",
    "plt.style.use('seaborn-whitegrid')\n",
    "# the histogram of the data\n",
    "plt.figure(figsize=(12,6))\n",
    "n, bins, patches = plt.hist(x, 300, density=True, facecolor='b', alpha=0.75, width=0.8, )\n",
    "plt.style.use('seaborn-whitegrid')\n",
    "plt.xlabel('Country')\n",
    "plt.ylabel('Counts in Millions')\n",
    "plt.title('Hist nutrition_data by Country Counts')\n",
    "plt.xticks(rotation=78)\n",
    "\n",
    "plt.tight_layout()\n",
    "#plt.grid(False)\n",
    "plt.show();"
   ]
  },
  {
   "cell_type": "code",
   "execution_count": 10,
   "metadata": {},
   "outputs": [
    {
     "data": {
      "text/html": [
       "<div>\n",
       "<style scoped>\n",
       "    .dataframe tbody tr th:only-of-type {\n",
       "        vertical-align: middle;\n",
       "    }\n",
       "\n",
       "    .dataframe tbody tr th {\n",
       "        vertical-align: top;\n",
       "    }\n",
       "\n",
       "    .dataframe thead th {\n",
       "        text-align: right;\n",
       "    }\n",
       "</style>\n",
       "<table border=\"1\" class=\"dataframe\">\n",
       "  <thead>\n",
       "    <tr style=\"text-align: right;\">\n",
       "      <th></th>\n",
       "      <th>country</th>\n",
       "      <th>con_days</th>\n",
       "      <th>count_days_s_pg</th>\n",
       "      <th>count_days_wg</th>\n",
       "      <th>count_subject_s_pg</th>\n",
       "      <th>count_subject_wg</th>\n",
       "      <th>per_customer</th>\n",
       "      <th>avg_chronic</th>\n",
       "      <th>avg_chronic_bw</th>\n",
       "      <th>avg_acute</th>\n",
       "    </tr>\n",
       "  </thead>\n",
       "  <tbody>\n",
       "    <tr>\n",
       "      <th>10</th>\n",
       "      <td>Germany</td>\n",
       "      <td>0.043800</td>\n",
       "      <td>4245.270708</td>\n",
       "      <td>149.468682</td>\n",
       "      <td>1899.874291</td>\n",
       "      <td>105.737947</td>\n",
       "      <td>0.084592</td>\n",
       "      <td>39.269496</td>\n",
       "      <td>1.082497</td>\n",
       "      <td>76.805758</td>\n",
       "    </tr>\n",
       "    <tr>\n",
       "      <th>11</th>\n",
       "      <td>Greece</td>\n",
       "      <td>0.052654</td>\n",
       "      <td>1296.012974</td>\n",
       "      <td>67.281666</td>\n",
       "      <td>407.809150</td>\n",
       "      <td>42.944691</td>\n",
       "      <td>0.121218</td>\n",
       "      <td>35.815959</td>\n",
       "      <td>1.067678</td>\n",
       "      <td>102.573951</td>\n",
       "    </tr>\n",
       "    <tr>\n",
       "      <th>20</th>\n",
       "      <td>Slovakia</td>\n",
       "      <td>0.043392</td>\n",
       "      <td>2761.000000</td>\n",
       "      <td>119.804560</td>\n",
       "      <td>2761.000000</td>\n",
       "      <td>119.804560</td>\n",
       "      <td>0.043392</td>\n",
       "      <td>141.539031</td>\n",
       "      <td>1.939297</td>\n",
       "      <td>141.539031</td>\n",
       "    </tr>\n",
       "  </tbody>\n",
       "</table>\n",
       "</div>"
      ],
      "text/plain": [
       "     country  con_days  count_days_s_pg  count_days_wg  count_subject_s_pg  \\\n",
       "10   Germany  0.043800      4245.270708     149.468682         1899.874291   \n",
       "11    Greece  0.052654      1296.012974      67.281666          407.809150   \n",
       "20  Slovakia  0.043392      2761.000000     119.804560         2761.000000   \n",
       "\n",
       "    count_subject_wg  per_customer  avg_chronic  avg_chronic_bw   avg_acute  \n",
       "10        105.737947      0.084592    39.269496        1.082497   76.805758  \n",
       "11         42.944691      0.121218    35.815959        1.067678  102.573951  \n",
       "20        119.804560      0.043392   141.539031        1.939297  141.539031  "
      ]
     },
     "execution_count": 10,
     "metadata": {},
     "output_type": "execute_result"
    }
   ],
   "source": [
    "nutrition_means = nutrition_data.groupby('country').mean()\n",
    "nutrition_means.reset_index(inplace=True)\n",
    "nutrition_means.sample(3)"
   ]
  },
  {
   "cell_type": "code",
   "execution_count": null,
   "metadata": {},
   "outputs": [],
   "source": []
  },
  {
   "cell_type": "code",
   "execution_count": 11,
   "metadata": {},
   "outputs": [],
   "source": [
    "# GDP wiki\n",
    "url = 'https://en.wikipedia.org/wiki/List_of_countries_by_GDP_(nominal)_per_capita'\n",
    "df_list = pd.read_html(url)\n",
    "gdp_2018 = df_list[4][:]\n",
    "gdp_2018.columns = ['Rank', 'country', 'GDP_US_2018']"
   ]
  },
  {
   "cell_type": "code",
   "execution_count": 12,
   "metadata": {},
   "outputs": [],
   "source": [
    "import plotly.express as px\n",
    "df = px.data.gapminder().query(\"year==2007\")"
   ]
  },
  {
   "cell_type": "code",
   "execution_count": 13,
   "metadata": {},
   "outputs": [
    {
     "data": {
      "text/html": [
       "<div>\n",
       "<style scoped>\n",
       "    .dataframe tbody tr th:only-of-type {\n",
       "        vertical-align: middle;\n",
       "    }\n",
       "\n",
       "    .dataframe tbody tr th {\n",
       "        vertical-align: top;\n",
       "    }\n",
       "\n",
       "    .dataframe thead th {\n",
       "        text-align: right;\n",
       "    }\n",
       "</style>\n",
       "<table border=\"1\" class=\"dataframe\">\n",
       "  <thead>\n",
       "    <tr style=\"text-align: right;\">\n",
       "      <th></th>\n",
       "      <th>country</th>\n",
       "      <th>continent</th>\n",
       "      <th>year</th>\n",
       "      <th>lifeExp</th>\n",
       "      <th>pop</th>\n",
       "      <th>gdpPercap</th>\n",
       "      <th>iso_alpha</th>\n",
       "      <th>iso_num</th>\n",
       "    </tr>\n",
       "  </thead>\n",
       "  <tbody>\n",
       "    <tr>\n",
       "      <th>587</th>\n",
       "      <td>Ghana</td>\n",
       "      <td>Africa</td>\n",
       "      <td>2007</td>\n",
       "      <td>60.022</td>\n",
       "      <td>22873338</td>\n",
       "      <td>1327.608910</td>\n",
       "      <td>GHA</td>\n",
       "      <td>288</td>\n",
       "    </tr>\n",
       "    <tr>\n",
       "      <th>719</th>\n",
       "      <td>Indonesia</td>\n",
       "      <td>Asia</td>\n",
       "      <td>2007</td>\n",
       "      <td>70.650</td>\n",
       "      <td>223547000</td>\n",
       "      <td>3540.651564</td>\n",
       "      <td>IDN</td>\n",
       "      <td>360</td>\n",
       "    </tr>\n",
       "    <tr>\n",
       "      <th>383</th>\n",
       "      <td>Croatia</td>\n",
       "      <td>Europe</td>\n",
       "      <td>2007</td>\n",
       "      <td>75.748</td>\n",
       "      <td>4493312</td>\n",
       "      <td>14619.222720</td>\n",
       "      <td>HRV</td>\n",
       "      <td>191</td>\n",
       "    </tr>\n",
       "  </tbody>\n",
       "</table>\n",
       "</div>"
      ],
      "text/plain": [
       "       country continent  year  lifeExp        pop     gdpPercap iso_alpha  \\\n",
       "587      Ghana    Africa  2007   60.022   22873338   1327.608910       GHA   \n",
       "719  Indonesia      Asia  2007   70.650  223547000   3540.651564       IDN   \n",
       "383    Croatia    Europe  2007   75.748    4493312  14619.222720       HRV   \n",
       "\n",
       "     iso_num  \n",
       "587      288  \n",
       "719      360  \n",
       "383      191  "
      ]
     },
     "execution_count": 13,
     "metadata": {},
     "output_type": "execute_result"
    }
   ],
   "source": [
    "df.sample(3)"
   ]
  },
  {
   "cell_type": "code",
   "execution_count": 14,
   "metadata": {},
   "outputs": [
    {
     "data": {
      "text/html": [
       "<div>\n",
       "<style scoped>\n",
       "    .dataframe tbody tr th:only-of-type {\n",
       "        vertical-align: middle;\n",
       "    }\n",
       "\n",
       "    .dataframe tbody tr th {\n",
       "        vertical-align: top;\n",
       "    }\n",
       "\n",
       "    .dataframe thead th {\n",
       "        text-align: right;\n",
       "    }\n",
       "</style>\n",
       "<table border=\"1\" class=\"dataframe\">\n",
       "  <thead>\n",
       "    <tr style=\"text-align: right;\">\n",
       "      <th></th>\n",
       "      <th>country</th>\n",
       "      <th>continent</th>\n",
       "      <th>year</th>\n",
       "      <th>lifeExp</th>\n",
       "      <th>pop</th>\n",
       "      <th>gdpPercap</th>\n",
       "      <th>iso_alpha</th>\n",
       "      <th>iso_num</th>\n",
       "      <th>Rank</th>\n",
       "      <th>GDP_US_2018</th>\n",
       "    </tr>\n",
       "  </thead>\n",
       "  <tbody>\n",
       "    <tr>\n",
       "      <th>111</th>\n",
       "      <td>Sweden</td>\n",
       "      <td>Europe</td>\n",
       "      <td>2007</td>\n",
       "      <td>80.884</td>\n",
       "      <td>9031088</td>\n",
       "      <td>33859.74835</td>\n",
       "      <td>SWE</td>\n",
       "      <td>752</td>\n",
       "      <td>13</td>\n",
       "      <td>55767</td>\n",
       "    </tr>\n",
       "    <tr>\n",
       "      <th>7</th>\n",
       "      <td>Bahrain</td>\n",
       "      <td>Asia</td>\n",
       "      <td>2007</td>\n",
       "      <td>75.635</td>\n",
       "      <td>708573</td>\n",
       "      <td>29796.04834</td>\n",
       "      <td>BHR</td>\n",
       "      <td>48</td>\n",
       "      <td>37</td>\n",
       "      <td>24134</td>\n",
       "    </tr>\n",
       "    <tr>\n",
       "      <th>28</th>\n",
       "      <td>Croatia</td>\n",
       "      <td>Europe</td>\n",
       "      <td>2007</td>\n",
       "      <td>75.748</td>\n",
       "      <td>4493312</td>\n",
       "      <td>14619.22272</td>\n",
       "      <td>HRV</td>\n",
       "      <td>191</td>\n",
       "      <td>58</td>\n",
       "      <td>14674</td>\n",
       "    </tr>\n",
       "  </tbody>\n",
       "</table>\n",
       "</div>"
      ],
      "text/plain": [
       "     country continent  year  lifeExp      pop    gdpPercap iso_alpha  \\\n",
       "111   Sweden    Europe  2007   80.884  9031088  33859.74835       SWE   \n",
       "7    Bahrain      Asia  2007   75.635   708573  29796.04834       BHR   \n",
       "28   Croatia    Europe  2007   75.748  4493312  14619.22272       HRV   \n",
       "\n",
       "     iso_num Rank  GDP_US_2018  \n",
       "111      752   13        55767  \n",
       "7         48   37        24134  \n",
       "28       191   58        14674  "
      ]
     },
     "execution_count": 14,
     "metadata": {},
     "output_type": "execute_result"
    }
   ],
   "source": [
    "df_gdp_2018 = df.merge(gdp_2018, left_on='country', right_on='country')\n",
    "df_gdp_2018.sample(3)"
   ]
  },
  {
   "cell_type": "code",
   "execution_count": null,
   "metadata": {},
   "outputs": [],
   "source": []
  },
  {
   "cell_type": "code",
   "execution_count": 20,
   "metadata": {},
   "outputs": [
    {
     "data": {
      "text/html": [
       "<div>\n",
       "<style scoped>\n",
       "    .dataframe tbody tr th:only-of-type {\n",
       "        vertical-align: middle;\n",
       "    }\n",
       "\n",
       "    .dataframe tbody tr th {\n",
       "        vertical-align: top;\n",
       "    }\n",
       "\n",
       "    .dataframe thead th {\n",
       "        text-align: right;\n",
       "    }\n",
       "</style>\n",
       "<table border=\"1\" class=\"dataframe\">\n",
       "  <thead>\n",
       "    <tr style=\"text-align: right;\">\n",
       "      <th></th>\n",
       "      <th>country</th>\n",
       "      <th>con_days</th>\n",
       "      <th>count_days_s_pg</th>\n",
       "      <th>count_days_wg</th>\n",
       "      <th>count_subject_s_pg</th>\n",
       "      <th>count_subject_wg</th>\n",
       "      <th>per_customer</th>\n",
       "      <th>avg_chronic</th>\n",
       "      <th>avg_chronic_bw</th>\n",
       "      <th>avg_acute</th>\n",
       "      <th>continent</th>\n",
       "      <th>year</th>\n",
       "      <th>lifeExp</th>\n",
       "      <th>pop</th>\n",
       "      <th>gdpPercap</th>\n",
       "      <th>iso_alpha</th>\n",
       "      <th>iso_num</th>\n",
       "      <th>Rank</th>\n",
       "      <th>GDP_US_2018</th>\n",
       "    </tr>\n",
       "  </thead>\n",
       "  <tbody>\n",
       "    <tr>\n",
       "      <th>16</th>\n",
       "      <td>Netherlands</td>\n",
       "      <td>0.053230</td>\n",
       "      <td>1573.480980</td>\n",
       "      <td>76.272731</td>\n",
       "      <td>786.740490</td>\n",
       "      <td>57.907404</td>\n",
       "      <td>0.079754</td>\n",
       "      <td>52.323109</td>\n",
       "      <td>1.124579</td>\n",
       "      <td>88.202058</td>\n",
       "      <td>Europe</td>\n",
       "      <td>2007.0</td>\n",
       "      <td>79.762</td>\n",
       "      <td>16570613.0</td>\n",
       "      <td>36797.93332</td>\n",
       "      <td>NLD</td>\n",
       "      <td>528.0</td>\n",
       "      <td>14</td>\n",
       "      <td>53583.0</td>\n",
       "    </tr>\n",
       "    <tr>\n",
       "      <th>21</th>\n",
       "      <td>Slovenia</td>\n",
       "      <td>0.079642</td>\n",
       "      <td>407.000000</td>\n",
       "      <td>32.414216</td>\n",
       "      <td>407.000000</td>\n",
       "      <td>32.414216</td>\n",
       "      <td>0.079642</td>\n",
       "      <td>121.312630</td>\n",
       "      <td>1.699997</td>\n",
       "      <td>121.312630</td>\n",
       "      <td>Europe</td>\n",
       "      <td>2007.0</td>\n",
       "      <td>77.926</td>\n",
       "      <td>2009245.0</td>\n",
       "      <td>25768.25759</td>\n",
       "      <td>SVN</td>\n",
       "      <td>705.0</td>\n",
       "      <td>36</td>\n",
       "      <td>26005.0</td>\n",
       "    </tr>\n",
       "    <tr>\n",
       "      <th>19</th>\n",
       "      <td>Romania</td>\n",
       "      <td>0.103380</td>\n",
       "      <td>2965.700624</td>\n",
       "      <td>212.423245</td>\n",
       "      <td>550.583619</td>\n",
       "      <td>84.935257</td>\n",
       "      <td>0.187375</td>\n",
       "      <td>63.684851</td>\n",
       "      <td>1.486243</td>\n",
       "      <td>120.826458</td>\n",
       "      <td>Europe</td>\n",
       "      <td>2007.0</td>\n",
       "      <td>72.476</td>\n",
       "      <td>22276056.0</td>\n",
       "      <td>10808.47561</td>\n",
       "      <td>ROU</td>\n",
       "      <td>642.0</td>\n",
       "      <td>59</td>\n",
       "      <td>12281.0</td>\n",
       "    </tr>\n",
       "  </tbody>\n",
       "</table>\n",
       "</div>"
      ],
      "text/plain": [
       "        country  con_days  count_days_s_pg  count_days_wg  count_subject_s_pg  \\\n",
       "16  Netherlands  0.053230      1573.480980      76.272731          786.740490   \n",
       "21     Slovenia  0.079642       407.000000      32.414216          407.000000   \n",
       "19      Romania  0.103380      2965.700624     212.423245          550.583619   \n",
       "\n",
       "    count_subject_wg  per_customer  avg_chronic  avg_chronic_bw   avg_acute  \\\n",
       "16         57.907404      0.079754    52.323109        1.124579   88.202058   \n",
       "21         32.414216      0.079642   121.312630        1.699997  121.312630   \n",
       "19         84.935257      0.187375    63.684851        1.486243  120.826458   \n",
       "\n",
       "   continent    year  lifeExp         pop    gdpPercap iso_alpha  iso_num  \\\n",
       "16    Europe  2007.0   79.762  16570613.0  36797.93332       NLD    528.0   \n",
       "21    Europe  2007.0   77.926   2009245.0  25768.25759       SVN    705.0   \n",
       "19    Europe  2007.0   72.476  22276056.0  10808.47561       ROU    642.0   \n",
       "\n",
       "   Rank  GDP_US_2018  \n",
       "16   14      53583.0  \n",
       "21   36      26005.0  \n",
       "19   59      12281.0  "
      ]
     },
     "execution_count": 20,
     "metadata": {},
     "output_type": "execute_result"
    }
   ],
   "source": [
    "df_means_short = nutrition_means.merge(df_gdp_2018, how='left', on='country' )\n",
    "df_means_short.sample(3)"
   ]
  },
  {
   "cell_type": "code",
   "execution_count": null,
   "metadata": {},
   "outputs": [],
   "source": []
  },
  {
   "cell_type": "code",
   "execution_count": null,
   "metadata": {},
   "outputs": [],
   "source": []
  },
  {
   "cell_type": "code",
   "execution_count": 21,
   "metadata": {},
   "outputs": [
    {
     "data": {
      "application/vnd.plotly.v1+json": {
       "config": {
        "plotlyServerURL": "https://plot.ly"
       },
       "data": [
        {
         "coloraxis": "coloraxis",
         "geo": "geo",
         "hovertemplate": "<b>%{hovertext}</b><br><br>iso_alpha=%{location}<br>gdpPercap=%{z}<extra></extra>",
         "hovertext": [
          "Austria",
          "Belgium",
          "Bulgaria",
          "Croatia",
          "Cyprus",
          "Czech Republic",
          "Denmark",
          "Estonia",
          "Finland",
          "France",
          "Germany",
          "Greece",
          "Hungary",
          "Ireland",
          "Italy",
          "Latvia",
          "Netherlands",
          "Poland",
          "Portugal",
          "Romania",
          "Slovakia",
          "Slovenia",
          "Spain",
          "Sweden",
          "United Kingdom"
         ],
         "locations": [
          "AUT",
          "BEL",
          "BGR",
          "HRV",
          null,
          "CZE",
          "DNK",
          null,
          "FIN",
          "FRA",
          "DEU",
          "GRC",
          "HUN",
          "IRL",
          "ITA",
          null,
          "NLD",
          "POL",
          "PRT",
          "ROU",
          null,
          "SVN",
          "ESP",
          "SWE",
          "GBR"
         ],
         "name": "",
         "type": "choropleth",
         "z": [
          36126.4927,
          33692.60508,
          10680.79282,
          14619.222719999998,
          null,
          22833.30851,
          35278.41874,
          null,
          33207.0844,
          30470.0167,
          32170.37442,
          27538.41188,
          18008.94444,
          40675.99635,
          28569.7197,
          null,
          36797.93332,
          15389.924680000002,
          20509.64777,
          10808.47561,
          null,
          25768.25759,
          28821.0637,
          33859.74835,
          33203.26128
         ]
        }
       ],
       "layout": {
        "autosize": false,
        "coloraxis": {
         "colorbar": {
          "title": {
           "text": "gdpPercap"
          }
         },
         "colorscale": [
          [
           0,
           "rgb(247,252,245)"
          ],
          [
           0.125,
           "rgb(229,245,224)"
          ],
          [
           0.25,
           "rgb(199,233,192)"
          ],
          [
           0.375,
           "rgb(161,217,155)"
          ],
          [
           0.5,
           "rgb(116,196,118)"
          ],
          [
           0.625,
           "rgb(65,171,93)"
          ],
          [
           0.75,
           "rgb(35,139,69)"
          ],
          [
           0.875,
           "rgb(0,109,44)"
          ],
          [
           1,
           "rgb(0,68,27)"
          ]
         ]
        },
        "geo": {
         "center": {},
         "domain": {
          "x": [
           0,
           1
          ],
          "y": [
           0,
           1
          ]
         },
         "scope": "europe"
        },
        "height": 500,
        "legend": {
         "tracegroupgap": 0
        },
        "margin": {
         "b": 10,
         "l": 10,
         "pad": 0,
         "r": 30,
         "t": 40
        },
        "paper_bgcolor": "white",
        "template": {
         "data": {
          "bar": [
           {
            "error_x": {
             "color": "#2a3f5f"
            },
            "error_y": {
             "color": "#2a3f5f"
            },
            "marker": {
             "line": {
              "color": "#E5ECF6",
              "width": 0.5
             }
            },
            "type": "bar"
           }
          ],
          "barpolar": [
           {
            "marker": {
             "line": {
              "color": "#E5ECF6",
              "width": 0.5
             }
            },
            "type": "barpolar"
           }
          ],
          "carpet": [
           {
            "aaxis": {
             "endlinecolor": "#2a3f5f",
             "gridcolor": "white",
             "linecolor": "white",
             "minorgridcolor": "white",
             "startlinecolor": "#2a3f5f"
            },
            "baxis": {
             "endlinecolor": "#2a3f5f",
             "gridcolor": "white",
             "linecolor": "white",
             "minorgridcolor": "white",
             "startlinecolor": "#2a3f5f"
            },
            "type": "carpet"
           }
          ],
          "choropleth": [
           {
            "colorbar": {
             "outlinewidth": 0,
             "ticks": ""
            },
            "type": "choropleth"
           }
          ],
          "contour": [
           {
            "colorbar": {
             "outlinewidth": 0,
             "ticks": ""
            },
            "colorscale": [
             [
              0,
              "#0d0887"
             ],
             [
              0.1111111111111111,
              "#46039f"
             ],
             [
              0.2222222222222222,
              "#7201a8"
             ],
             [
              0.3333333333333333,
              "#9c179e"
             ],
             [
              0.4444444444444444,
              "#bd3786"
             ],
             [
              0.5555555555555556,
              "#d8576b"
             ],
             [
              0.6666666666666666,
              "#ed7953"
             ],
             [
              0.7777777777777778,
              "#fb9f3a"
             ],
             [
              0.8888888888888888,
              "#fdca26"
             ],
             [
              1,
              "#f0f921"
             ]
            ],
            "type": "contour"
           }
          ],
          "contourcarpet": [
           {
            "colorbar": {
             "outlinewidth": 0,
             "ticks": ""
            },
            "type": "contourcarpet"
           }
          ],
          "heatmap": [
           {
            "colorbar": {
             "outlinewidth": 0,
             "ticks": ""
            },
            "colorscale": [
             [
              0,
              "#0d0887"
             ],
             [
              0.1111111111111111,
              "#46039f"
             ],
             [
              0.2222222222222222,
              "#7201a8"
             ],
             [
              0.3333333333333333,
              "#9c179e"
             ],
             [
              0.4444444444444444,
              "#bd3786"
             ],
             [
              0.5555555555555556,
              "#d8576b"
             ],
             [
              0.6666666666666666,
              "#ed7953"
             ],
             [
              0.7777777777777778,
              "#fb9f3a"
             ],
             [
              0.8888888888888888,
              "#fdca26"
             ],
             [
              1,
              "#f0f921"
             ]
            ],
            "type": "heatmap"
           }
          ],
          "heatmapgl": [
           {
            "colorbar": {
             "outlinewidth": 0,
             "ticks": ""
            },
            "colorscale": [
             [
              0,
              "#0d0887"
             ],
             [
              0.1111111111111111,
              "#46039f"
             ],
             [
              0.2222222222222222,
              "#7201a8"
             ],
             [
              0.3333333333333333,
              "#9c179e"
             ],
             [
              0.4444444444444444,
              "#bd3786"
             ],
             [
              0.5555555555555556,
              "#d8576b"
             ],
             [
              0.6666666666666666,
              "#ed7953"
             ],
             [
              0.7777777777777778,
              "#fb9f3a"
             ],
             [
              0.8888888888888888,
              "#fdca26"
             ],
             [
              1,
              "#f0f921"
             ]
            ],
            "type": "heatmapgl"
           }
          ],
          "histogram": [
           {
            "marker": {
             "colorbar": {
              "outlinewidth": 0,
              "ticks": ""
             }
            },
            "type": "histogram"
           }
          ],
          "histogram2d": [
           {
            "colorbar": {
             "outlinewidth": 0,
             "ticks": ""
            },
            "colorscale": [
             [
              0,
              "#0d0887"
             ],
             [
              0.1111111111111111,
              "#46039f"
             ],
             [
              0.2222222222222222,
              "#7201a8"
             ],
             [
              0.3333333333333333,
              "#9c179e"
             ],
             [
              0.4444444444444444,
              "#bd3786"
             ],
             [
              0.5555555555555556,
              "#d8576b"
             ],
             [
              0.6666666666666666,
              "#ed7953"
             ],
             [
              0.7777777777777778,
              "#fb9f3a"
             ],
             [
              0.8888888888888888,
              "#fdca26"
             ],
             [
              1,
              "#f0f921"
             ]
            ],
            "type": "histogram2d"
           }
          ],
          "histogram2dcontour": [
           {
            "colorbar": {
             "outlinewidth": 0,
             "ticks": ""
            },
            "colorscale": [
             [
              0,
              "#0d0887"
             ],
             [
              0.1111111111111111,
              "#46039f"
             ],
             [
              0.2222222222222222,
              "#7201a8"
             ],
             [
              0.3333333333333333,
              "#9c179e"
             ],
             [
              0.4444444444444444,
              "#bd3786"
             ],
             [
              0.5555555555555556,
              "#d8576b"
             ],
             [
              0.6666666666666666,
              "#ed7953"
             ],
             [
              0.7777777777777778,
              "#fb9f3a"
             ],
             [
              0.8888888888888888,
              "#fdca26"
             ],
             [
              1,
              "#f0f921"
             ]
            ],
            "type": "histogram2dcontour"
           }
          ],
          "mesh3d": [
           {
            "colorbar": {
             "outlinewidth": 0,
             "ticks": ""
            },
            "type": "mesh3d"
           }
          ],
          "parcoords": [
           {
            "line": {
             "colorbar": {
              "outlinewidth": 0,
              "ticks": ""
             }
            },
            "type": "parcoords"
           }
          ],
          "pie": [
           {
            "automargin": true,
            "type": "pie"
           }
          ],
          "scatter": [
           {
            "marker": {
             "colorbar": {
              "outlinewidth": 0,
              "ticks": ""
             }
            },
            "type": "scatter"
           }
          ],
          "scatter3d": [
           {
            "line": {
             "colorbar": {
              "outlinewidth": 0,
              "ticks": ""
             }
            },
            "marker": {
             "colorbar": {
              "outlinewidth": 0,
              "ticks": ""
             }
            },
            "type": "scatter3d"
           }
          ],
          "scattercarpet": [
           {
            "marker": {
             "colorbar": {
              "outlinewidth": 0,
              "ticks": ""
             }
            },
            "type": "scattercarpet"
           }
          ],
          "scattergeo": [
           {
            "marker": {
             "colorbar": {
              "outlinewidth": 0,
              "ticks": ""
             }
            },
            "type": "scattergeo"
           }
          ],
          "scattergl": [
           {
            "marker": {
             "colorbar": {
              "outlinewidth": 0,
              "ticks": ""
             }
            },
            "type": "scattergl"
           }
          ],
          "scattermapbox": [
           {
            "marker": {
             "colorbar": {
              "outlinewidth": 0,
              "ticks": ""
             }
            },
            "type": "scattermapbox"
           }
          ],
          "scatterpolar": [
           {
            "marker": {
             "colorbar": {
              "outlinewidth": 0,
              "ticks": ""
             }
            },
            "type": "scatterpolar"
           }
          ],
          "scatterpolargl": [
           {
            "marker": {
             "colorbar": {
              "outlinewidth": 0,
              "ticks": ""
             }
            },
            "type": "scatterpolargl"
           }
          ],
          "scatterternary": [
           {
            "marker": {
             "colorbar": {
              "outlinewidth": 0,
              "ticks": ""
             }
            },
            "type": "scatterternary"
           }
          ],
          "surface": [
           {
            "colorbar": {
             "outlinewidth": 0,
             "ticks": ""
            },
            "colorscale": [
             [
              0,
              "#0d0887"
             ],
             [
              0.1111111111111111,
              "#46039f"
             ],
             [
              0.2222222222222222,
              "#7201a8"
             ],
             [
              0.3333333333333333,
              "#9c179e"
             ],
             [
              0.4444444444444444,
              "#bd3786"
             ],
             [
              0.5555555555555556,
              "#d8576b"
             ],
             [
              0.6666666666666666,
              "#ed7953"
             ],
             [
              0.7777777777777778,
              "#fb9f3a"
             ],
             [
              0.8888888888888888,
              "#fdca26"
             ],
             [
              1,
              "#f0f921"
             ]
            ],
            "type": "surface"
           }
          ],
          "table": [
           {
            "cells": {
             "fill": {
              "color": "#EBF0F8"
             },
             "line": {
              "color": "white"
             }
            },
            "header": {
             "fill": {
              "color": "#C8D4E3"
             },
             "line": {
              "color": "white"
             }
            },
            "type": "table"
           }
          ]
         },
         "layout": {
          "annotationdefaults": {
           "arrowcolor": "#2a3f5f",
           "arrowhead": 0,
           "arrowwidth": 1
          },
          "coloraxis": {
           "colorbar": {
            "outlinewidth": 0,
            "ticks": ""
           }
          },
          "colorscale": {
           "diverging": [
            [
             0,
             "#8e0152"
            ],
            [
             0.1,
             "#c51b7d"
            ],
            [
             0.2,
             "#de77ae"
            ],
            [
             0.3,
             "#f1b6da"
            ],
            [
             0.4,
             "#fde0ef"
            ],
            [
             0.5,
             "#f7f7f7"
            ],
            [
             0.6,
             "#e6f5d0"
            ],
            [
             0.7,
             "#b8e186"
            ],
            [
             0.8,
             "#7fbc41"
            ],
            [
             0.9,
             "#4d9221"
            ],
            [
             1,
             "#276419"
            ]
           ],
           "sequential": [
            [
             0,
             "#0d0887"
            ],
            [
             0.1111111111111111,
             "#46039f"
            ],
            [
             0.2222222222222222,
             "#7201a8"
            ],
            [
             0.3333333333333333,
             "#9c179e"
            ],
            [
             0.4444444444444444,
             "#bd3786"
            ],
            [
             0.5555555555555556,
             "#d8576b"
            ],
            [
             0.6666666666666666,
             "#ed7953"
            ],
            [
             0.7777777777777778,
             "#fb9f3a"
            ],
            [
             0.8888888888888888,
             "#fdca26"
            ],
            [
             1,
             "#f0f921"
            ]
           ],
           "sequentialminus": [
            [
             0,
             "#0d0887"
            ],
            [
             0.1111111111111111,
             "#46039f"
            ],
            [
             0.2222222222222222,
             "#7201a8"
            ],
            [
             0.3333333333333333,
             "#9c179e"
            ],
            [
             0.4444444444444444,
             "#bd3786"
            ],
            [
             0.5555555555555556,
             "#d8576b"
            ],
            [
             0.6666666666666666,
             "#ed7953"
            ],
            [
             0.7777777777777778,
             "#fb9f3a"
            ],
            [
             0.8888888888888888,
             "#fdca26"
            ],
            [
             1,
             "#f0f921"
            ]
           ]
          },
          "colorway": [
           "#636efa",
           "#EF553B",
           "#00cc96",
           "#ab63fa",
           "#FFA15A",
           "#19d3f3",
           "#FF6692",
           "#B6E880",
           "#FF97FF",
           "#FECB52"
          ],
          "font": {
           "color": "#2a3f5f"
          },
          "geo": {
           "bgcolor": "white",
           "lakecolor": "white",
           "landcolor": "#E5ECF6",
           "showlakes": true,
           "showland": true,
           "subunitcolor": "white"
          },
          "hoverlabel": {
           "align": "left"
          },
          "hovermode": "closest",
          "mapbox": {
           "style": "light"
          },
          "paper_bgcolor": "white",
          "plot_bgcolor": "#E5ECF6",
          "polar": {
           "angularaxis": {
            "gridcolor": "white",
            "linecolor": "white",
            "ticks": ""
           },
           "bgcolor": "#E5ECF6",
           "radialaxis": {
            "gridcolor": "white",
            "linecolor": "white",
            "ticks": ""
           }
          },
          "scene": {
           "xaxis": {
            "backgroundcolor": "#E5ECF6",
            "gridcolor": "white",
            "gridwidth": 2,
            "linecolor": "white",
            "showbackground": true,
            "ticks": "",
            "zerolinecolor": "white"
           },
           "yaxis": {
            "backgroundcolor": "#E5ECF6",
            "gridcolor": "white",
            "gridwidth": 2,
            "linecolor": "white",
            "showbackground": true,
            "ticks": "",
            "zerolinecolor": "white"
           },
           "zaxis": {
            "backgroundcolor": "#E5ECF6",
            "gridcolor": "white",
            "gridwidth": 2,
            "linecolor": "white",
            "showbackground": true,
            "ticks": "",
            "zerolinecolor": "white"
           }
          },
          "shapedefaults": {
           "line": {
            "color": "#2a3f5f"
           }
          },
          "ternary": {
           "aaxis": {
            "gridcolor": "white",
            "linecolor": "white",
            "ticks": ""
           },
           "baxis": {
            "gridcolor": "white",
            "linecolor": "white",
            "ticks": ""
           },
           "bgcolor": "#E5ECF6",
           "caxis": {
            "gridcolor": "white",
            "linecolor": "white",
            "ticks": ""
           }
          },
          "title": {
           "x": 0.05
          },
          "xaxis": {
           "automargin": true,
           "gridcolor": "white",
           "linecolor": "white",
           "ticks": "",
           "title": {
            "standoff": 15
           },
           "zerolinecolor": "white",
           "zerolinewidth": 2
          },
          "yaxis": {
           "automargin": true,
           "gridcolor": "white",
           "linecolor": "white",
           "ticks": "",
           "title": {
            "standoff": 15
           },
           "zerolinecolor": "white",
           "zerolinewidth": 2
          }
         }
        },
        "title": {
         "text": "2018 GDP per Person"
        },
        "width": 830
       }
      },
      "text/html": [
       "<div>                            <div id=\"c4696efb-82ef-4c48-a3c5-55547d7eca9c\" class=\"plotly-graph-div\" style=\"height:500px; width:830px;\"></div>            <script type=\"text/javascript\">                require([\"plotly\"], function(Plotly) {                    window.PLOTLYENV=window.PLOTLYENV || {};                                    if (document.getElementById(\"c4696efb-82ef-4c48-a3c5-55547d7eca9c\")) {                    Plotly.newPlot(                        \"c4696efb-82ef-4c48-a3c5-55547d7eca9c\",                        [{\"coloraxis\": \"coloraxis\", \"geo\": \"geo\", \"hovertemplate\": \"<b>%{hovertext}</b><br><br>iso_alpha=%{location}<br>gdpPercap=%{z}<extra></extra>\", \"hovertext\": [\"Austria\", \"Belgium\", \"Bulgaria\", \"Croatia\", \"Cyprus\", \"Czech Republic\", \"Denmark\", \"Estonia\", \"Finland\", \"France\", \"Germany\", \"Greece\", \"Hungary\", \"Ireland\", \"Italy\", \"Latvia\", \"Netherlands\", \"Poland\", \"Portugal\", \"Romania\", \"Slovakia\", \"Slovenia\", \"Spain\", \"Sweden\", \"United Kingdom\"], \"locations\": [\"AUT\", \"BEL\", \"BGR\", \"HRV\", null, \"CZE\", \"DNK\", null, \"FIN\", \"FRA\", \"DEU\", \"GRC\", \"HUN\", \"IRL\", \"ITA\", null, \"NLD\", \"POL\", \"PRT\", \"ROU\", null, \"SVN\", \"ESP\", \"SWE\", \"GBR\"], \"name\": \"\", \"type\": \"choropleth\", \"z\": [36126.4927, 33692.60508, 10680.79282, 14619.222719999998, null, 22833.30851, 35278.41874, null, 33207.0844, 30470.0167, 32170.37442, 27538.41188, 18008.94444, 40675.99635, 28569.7197, null, 36797.93332, 15389.924680000002, 20509.64777, 10808.47561, null, 25768.25759, 28821.0637, 33859.74835, 33203.26128]}],                        {\"autosize\": false, \"coloraxis\": {\"colorbar\": {\"title\": {\"text\": \"gdpPercap\"}}, \"colorscale\": [[0.0, \"rgb(247,252,245)\"], [0.125, \"rgb(229,245,224)\"], [0.25, \"rgb(199,233,192)\"], [0.375, \"rgb(161,217,155)\"], [0.5, \"rgb(116,196,118)\"], [0.625, \"rgb(65,171,93)\"], [0.75, \"rgb(35,139,69)\"], [0.875, \"rgb(0,109,44)\"], [1.0, \"rgb(0,68,27)\"]]}, \"geo\": {\"center\": {}, \"domain\": {\"x\": [0.0, 1.0], \"y\": [0.0, 1.0]}, \"scope\": \"europe\"}, \"height\": 500, \"legend\": {\"tracegroupgap\": 0}, \"margin\": {\"b\": 10, \"l\": 10, \"pad\": 0, \"r\": 30, \"t\": 40}, \"paper_bgcolor\": \"white\", \"template\": {\"data\": {\"bar\": [{\"error_x\": {\"color\": \"#2a3f5f\"}, \"error_y\": {\"color\": \"#2a3f5f\"}, \"marker\": {\"line\": {\"color\": \"#E5ECF6\", \"width\": 0.5}}, \"type\": \"bar\"}], \"barpolar\": [{\"marker\": {\"line\": {\"color\": \"#E5ECF6\", \"width\": 0.5}}, \"type\": \"barpolar\"}], \"carpet\": [{\"aaxis\": {\"endlinecolor\": \"#2a3f5f\", \"gridcolor\": \"white\", \"linecolor\": \"white\", \"minorgridcolor\": \"white\", \"startlinecolor\": \"#2a3f5f\"}, \"baxis\": {\"endlinecolor\": \"#2a3f5f\", \"gridcolor\": \"white\", \"linecolor\": \"white\", \"minorgridcolor\": \"white\", \"startlinecolor\": \"#2a3f5f\"}, \"type\": \"carpet\"}], \"choropleth\": [{\"colorbar\": {\"outlinewidth\": 0, \"ticks\": \"\"}, \"type\": \"choropleth\"}], \"contour\": [{\"colorbar\": {\"outlinewidth\": 0, \"ticks\": \"\"}, \"colorscale\": [[0.0, \"#0d0887\"], [0.1111111111111111, \"#46039f\"], [0.2222222222222222, \"#7201a8\"], [0.3333333333333333, \"#9c179e\"], [0.4444444444444444, \"#bd3786\"], [0.5555555555555556, \"#d8576b\"], [0.6666666666666666, \"#ed7953\"], [0.7777777777777778, \"#fb9f3a\"], [0.8888888888888888, \"#fdca26\"], [1.0, \"#f0f921\"]], \"type\": \"contour\"}], \"contourcarpet\": [{\"colorbar\": {\"outlinewidth\": 0, \"ticks\": \"\"}, \"type\": \"contourcarpet\"}], \"heatmap\": [{\"colorbar\": {\"outlinewidth\": 0, \"ticks\": \"\"}, \"colorscale\": [[0.0, \"#0d0887\"], [0.1111111111111111, \"#46039f\"], [0.2222222222222222, \"#7201a8\"], [0.3333333333333333, \"#9c179e\"], [0.4444444444444444, \"#bd3786\"], [0.5555555555555556, \"#d8576b\"], [0.6666666666666666, \"#ed7953\"], [0.7777777777777778, \"#fb9f3a\"], [0.8888888888888888, \"#fdca26\"], [1.0, \"#f0f921\"]], \"type\": \"heatmap\"}], \"heatmapgl\": [{\"colorbar\": {\"outlinewidth\": 0, \"ticks\": \"\"}, \"colorscale\": [[0.0, \"#0d0887\"], [0.1111111111111111, \"#46039f\"], [0.2222222222222222, \"#7201a8\"], [0.3333333333333333, \"#9c179e\"], [0.4444444444444444, \"#bd3786\"], [0.5555555555555556, \"#d8576b\"], [0.6666666666666666, \"#ed7953\"], [0.7777777777777778, \"#fb9f3a\"], [0.8888888888888888, \"#fdca26\"], [1.0, \"#f0f921\"]], \"type\": \"heatmapgl\"}], \"histogram\": [{\"marker\": {\"colorbar\": {\"outlinewidth\": 0, \"ticks\": \"\"}}, \"type\": \"histogram\"}], \"histogram2d\": [{\"colorbar\": {\"outlinewidth\": 0, \"ticks\": \"\"}, \"colorscale\": [[0.0, \"#0d0887\"], [0.1111111111111111, \"#46039f\"], [0.2222222222222222, \"#7201a8\"], [0.3333333333333333, \"#9c179e\"], [0.4444444444444444, \"#bd3786\"], [0.5555555555555556, \"#d8576b\"], [0.6666666666666666, \"#ed7953\"], [0.7777777777777778, \"#fb9f3a\"], [0.8888888888888888, \"#fdca26\"], [1.0, \"#f0f921\"]], \"type\": \"histogram2d\"}], \"histogram2dcontour\": [{\"colorbar\": {\"outlinewidth\": 0, \"ticks\": \"\"}, \"colorscale\": [[0.0, \"#0d0887\"], [0.1111111111111111, \"#46039f\"], [0.2222222222222222, \"#7201a8\"], [0.3333333333333333, \"#9c179e\"], [0.4444444444444444, \"#bd3786\"], [0.5555555555555556, \"#d8576b\"], [0.6666666666666666, \"#ed7953\"], [0.7777777777777778, \"#fb9f3a\"], [0.8888888888888888, \"#fdca26\"], [1.0, \"#f0f921\"]], \"type\": \"histogram2dcontour\"}], \"mesh3d\": [{\"colorbar\": {\"outlinewidth\": 0, \"ticks\": \"\"}, \"type\": \"mesh3d\"}], \"parcoords\": [{\"line\": {\"colorbar\": {\"outlinewidth\": 0, \"ticks\": \"\"}}, \"type\": \"parcoords\"}], \"pie\": [{\"automargin\": true, \"type\": \"pie\"}], \"scatter\": [{\"marker\": {\"colorbar\": {\"outlinewidth\": 0, \"ticks\": \"\"}}, \"type\": \"scatter\"}], \"scatter3d\": [{\"line\": {\"colorbar\": {\"outlinewidth\": 0, \"ticks\": \"\"}}, \"marker\": {\"colorbar\": {\"outlinewidth\": 0, \"ticks\": \"\"}}, \"type\": \"scatter3d\"}], \"scattercarpet\": [{\"marker\": {\"colorbar\": {\"outlinewidth\": 0, \"ticks\": \"\"}}, \"type\": \"scattercarpet\"}], \"scattergeo\": [{\"marker\": {\"colorbar\": {\"outlinewidth\": 0, \"ticks\": \"\"}}, \"type\": \"scattergeo\"}], \"scattergl\": [{\"marker\": {\"colorbar\": {\"outlinewidth\": 0, \"ticks\": \"\"}}, \"type\": \"scattergl\"}], \"scattermapbox\": [{\"marker\": {\"colorbar\": {\"outlinewidth\": 0, \"ticks\": \"\"}}, \"type\": \"scattermapbox\"}], \"scatterpolar\": [{\"marker\": {\"colorbar\": {\"outlinewidth\": 0, \"ticks\": \"\"}}, \"type\": \"scatterpolar\"}], \"scatterpolargl\": [{\"marker\": {\"colorbar\": {\"outlinewidth\": 0, \"ticks\": \"\"}}, \"type\": \"scatterpolargl\"}], \"scatterternary\": [{\"marker\": {\"colorbar\": {\"outlinewidth\": 0, \"ticks\": \"\"}}, \"type\": \"scatterternary\"}], \"surface\": [{\"colorbar\": {\"outlinewidth\": 0, \"ticks\": \"\"}, \"colorscale\": [[0.0, \"#0d0887\"], [0.1111111111111111, \"#46039f\"], [0.2222222222222222, \"#7201a8\"], [0.3333333333333333, \"#9c179e\"], [0.4444444444444444, \"#bd3786\"], [0.5555555555555556, \"#d8576b\"], [0.6666666666666666, \"#ed7953\"], [0.7777777777777778, \"#fb9f3a\"], [0.8888888888888888, \"#fdca26\"], [1.0, \"#f0f921\"]], \"type\": \"surface\"}], \"table\": [{\"cells\": {\"fill\": {\"color\": \"#EBF0F8\"}, \"line\": {\"color\": \"white\"}}, \"header\": {\"fill\": {\"color\": \"#C8D4E3\"}, \"line\": {\"color\": \"white\"}}, \"type\": \"table\"}]}, \"layout\": {\"annotationdefaults\": {\"arrowcolor\": \"#2a3f5f\", \"arrowhead\": 0, \"arrowwidth\": 1}, \"coloraxis\": {\"colorbar\": {\"outlinewidth\": 0, \"ticks\": \"\"}}, \"colorscale\": {\"diverging\": [[0, \"#8e0152\"], [0.1, \"#c51b7d\"], [0.2, \"#de77ae\"], [0.3, \"#f1b6da\"], [0.4, \"#fde0ef\"], [0.5, \"#f7f7f7\"], [0.6, \"#e6f5d0\"], [0.7, \"#b8e186\"], [0.8, \"#7fbc41\"], [0.9, \"#4d9221\"], [1, \"#276419\"]], \"sequential\": [[0.0, \"#0d0887\"], [0.1111111111111111, \"#46039f\"], [0.2222222222222222, \"#7201a8\"], [0.3333333333333333, \"#9c179e\"], [0.4444444444444444, \"#bd3786\"], [0.5555555555555556, \"#d8576b\"], [0.6666666666666666, \"#ed7953\"], [0.7777777777777778, \"#fb9f3a\"], [0.8888888888888888, \"#fdca26\"], [1.0, \"#f0f921\"]], \"sequentialminus\": [[0.0, \"#0d0887\"], [0.1111111111111111, \"#46039f\"], [0.2222222222222222, \"#7201a8\"], [0.3333333333333333, \"#9c179e\"], [0.4444444444444444, \"#bd3786\"], [0.5555555555555556, \"#d8576b\"], [0.6666666666666666, \"#ed7953\"], [0.7777777777777778, \"#fb9f3a\"], [0.8888888888888888, \"#fdca26\"], [1.0, \"#f0f921\"]]}, \"colorway\": [\"#636efa\", \"#EF553B\", \"#00cc96\", \"#ab63fa\", \"#FFA15A\", \"#19d3f3\", \"#FF6692\", \"#B6E880\", \"#FF97FF\", \"#FECB52\"], \"font\": {\"color\": \"#2a3f5f\"}, \"geo\": {\"bgcolor\": \"white\", \"lakecolor\": \"white\", \"landcolor\": \"#E5ECF6\", \"showlakes\": true, \"showland\": true, \"subunitcolor\": \"white\"}, \"hoverlabel\": {\"align\": \"left\"}, \"hovermode\": \"closest\", \"mapbox\": {\"style\": \"light\"}, \"paper_bgcolor\": \"white\", \"plot_bgcolor\": \"#E5ECF6\", \"polar\": {\"angularaxis\": {\"gridcolor\": \"white\", \"linecolor\": \"white\", \"ticks\": \"\"}, \"bgcolor\": \"#E5ECF6\", \"radialaxis\": {\"gridcolor\": \"white\", \"linecolor\": \"white\", \"ticks\": \"\"}}, \"scene\": {\"xaxis\": {\"backgroundcolor\": \"#E5ECF6\", \"gridcolor\": \"white\", \"gridwidth\": 2, \"linecolor\": \"white\", \"showbackground\": true, \"ticks\": \"\", \"zerolinecolor\": \"white\"}, \"yaxis\": {\"backgroundcolor\": \"#E5ECF6\", \"gridcolor\": \"white\", \"gridwidth\": 2, \"linecolor\": \"white\", \"showbackground\": true, \"ticks\": \"\", \"zerolinecolor\": \"white\"}, \"zaxis\": {\"backgroundcolor\": \"#E5ECF6\", \"gridcolor\": \"white\", \"gridwidth\": 2, \"linecolor\": \"white\", \"showbackground\": true, \"ticks\": \"\", \"zerolinecolor\": \"white\"}}, \"shapedefaults\": {\"line\": {\"color\": \"#2a3f5f\"}}, \"ternary\": {\"aaxis\": {\"gridcolor\": \"white\", \"linecolor\": \"white\", \"ticks\": \"\"}, \"baxis\": {\"gridcolor\": \"white\", \"linecolor\": \"white\", \"ticks\": \"\"}, \"bgcolor\": \"#E5ECF6\", \"caxis\": {\"gridcolor\": \"white\", \"linecolor\": \"white\", \"ticks\": \"\"}}, \"title\": {\"x\": 0.05}, \"xaxis\": {\"automargin\": true, \"gridcolor\": \"white\", \"linecolor\": \"white\", \"ticks\": \"\", \"title\": {\"standoff\": 15}, \"zerolinecolor\": \"white\", \"zerolinewidth\": 2}, \"yaxis\": {\"automargin\": true, \"gridcolor\": \"white\", \"linecolor\": \"white\", \"ticks\": \"\", \"title\": {\"standoff\": 15}, \"zerolinecolor\": \"white\", \"zerolinewidth\": 2}}}, \"title\": {\"text\": \"2018 GDP per Person\"}, \"width\": 830},                        {\"responsive\": true}                    ).then(function(){\n",
       "                            \n",
       "var gd = document.getElementById('c4696efb-82ef-4c48-a3c5-55547d7eca9c');\n",
       "var x = new MutationObserver(function (mutations, observer) {{\n",
       "        var display = window.getComputedStyle(gd).display;\n",
       "        if (!display || display === 'none') {{\n",
       "            console.log([gd, 'removed!']);\n",
       "            Plotly.purge(gd);\n",
       "            observer.disconnect();\n",
       "        }}\n",
       "}});\n",
       "\n",
       "// Listen for the removal of the full notebook cells\n",
       "var notebookContainer = gd.closest('#notebook-container');\n",
       "if (notebookContainer) {{\n",
       "    x.observe(notebookContainer, {childList: true});\n",
       "}}\n",
       "\n",
       "// Listen for the clearing of the current output cell\n",
       "var outputEl = gd.closest('.output');\n",
       "if (outputEl) {{\n",
       "    x.observe(outputEl, {childList: true});\n",
       "}}\n",
       "\n",
       "                        })                };                });            </script>        </div>"
      ]
     },
     "metadata": {},
     "output_type": "display_data"
    }
   ],
   "source": [
    "fig = px.choropleth(df_means_short, locations=\"iso_alpha\",\n",
    "                    color='gdpPercap', # lifeExp is a column of gapminder\n",
    "                    hover_name='country', # column to add to hover information\n",
    "                    #color_continuous_scale=\"Viridis\",\n",
    "                    #range_color=(df_dev1['2019'].min(), df_dev1['2019'].max()))\n",
    "                    color_continuous_scale=px.colors.sequential.Greens)\n",
    "fig.update_layout(\n",
    "    title_text = '2018 GDP per Person',\n",
    "    geo = {'scope':'europe'},\n",
    "    autosize=False,\n",
    "    width=830,\n",
    "    height=500,\n",
    "    margin=dict(\n",
    "        l=10,\n",
    "        r=30,\n",
    "        b=10,\n",
    "        t=40,\n",
    "        pad=0\n",
    "    ),\n",
    "    paper_bgcolor=\"white\",\n",
    ")\n",
    "fig.show()"
   ]
  },
  {
   "cell_type": "code",
   "execution_count": null,
   "metadata": {},
   "outputs": [],
   "source": []
  },
  {
   "cell_type": "code",
   "execution_count": 22,
   "metadata": {},
   "outputs": [
    {
     "data": {
      "text/html": [
       "<div>\n",
       "<style scoped>\n",
       "    .dataframe tbody tr th:only-of-type {\n",
       "        vertical-align: middle;\n",
       "    }\n",
       "\n",
       "    .dataframe tbody tr th {\n",
       "        vertical-align: top;\n",
       "    }\n",
       "\n",
       "    .dataframe thead th {\n",
       "        text-align: right;\n",
       "    }\n",
       "</style>\n",
       "<table border=\"1\" class=\"dataframe\">\n",
       "  <thead>\n",
       "    <tr style=\"text-align: right;\">\n",
       "      <th></th>\n",
       "      <th>Country Name</th>\n",
       "      <th>Country Code</th>\n",
       "      <th>Indicator Name</th>\n",
       "      <th>Indicator Code</th>\n",
       "      <th>1960</th>\n",
       "      <th>1961</th>\n",
       "      <th>1962</th>\n",
       "      <th>1963</th>\n",
       "      <th>1964</th>\n",
       "      <th>1965</th>\n",
       "      <th>...</th>\n",
       "      <th>2011</th>\n",
       "      <th>2012</th>\n",
       "      <th>2013</th>\n",
       "      <th>2014</th>\n",
       "      <th>2015</th>\n",
       "      <th>2016</th>\n",
       "      <th>2017</th>\n",
       "      <th>2018</th>\n",
       "      <th>2019</th>\n",
       "      <th>2020</th>\n",
       "    </tr>\n",
       "  </thead>\n",
       "  <tbody>\n",
       "    <tr>\n",
       "      <th>24</th>\n",
       "      <td>Belize</td>\n",
       "      <td>BLZ</td>\n",
       "      <td>Mortality rate, infant (per 1,000 live births)</td>\n",
       "      <td>SP.DYN.IMRT.IN</td>\n",
       "      <td>NaN</td>\n",
       "      <td>NaN</td>\n",
       "      <td>NaN</td>\n",
       "      <td>NaN</td>\n",
       "      <td>NaN</td>\n",
       "      <td>NaN</td>\n",
       "      <td>...</td>\n",
       "      <td>15.7</td>\n",
       "      <td>15.2</td>\n",
       "      <td>14.5</td>\n",
       "      <td>13.9</td>\n",
       "      <td>13.2</td>\n",
       "      <td>12.5</td>\n",
       "      <td>11.8</td>\n",
       "      <td>11.2</td>\n",
       "      <td>10.6</td>\n",
       "      <td>NaN</td>\n",
       "    </tr>\n",
       "    <tr>\n",
       "      <th>61</th>\n",
       "      <td>East Asia &amp; Pacific</td>\n",
       "      <td>EAS</td>\n",
       "      <td>Mortality rate, infant (per 1,000 live births)</td>\n",
       "      <td>SP.DYN.IMRT.IN</td>\n",
       "      <td>NaN</td>\n",
       "      <td>NaN</td>\n",
       "      <td>NaN</td>\n",
       "      <td>NaN</td>\n",
       "      <td>NaN</td>\n",
       "      <td>NaN</td>\n",
       "      <td>...</td>\n",
       "      <td>17.1</td>\n",
       "      <td>16.3</td>\n",
       "      <td>15.5</td>\n",
       "      <td>14.8</td>\n",
       "      <td>14.1</td>\n",
       "      <td>13.5</td>\n",
       "      <td>12.9</td>\n",
       "      <td>12.4</td>\n",
       "      <td>11.9</td>\n",
       "      <td>NaN</td>\n",
       "    </tr>\n",
       "    <tr>\n",
       "      <th>141</th>\n",
       "      <td>Lithuania</td>\n",
       "      <td>LTU</td>\n",
       "      <td>Mortality rate, infant (per 1,000 live births)</td>\n",
       "      <td>SP.DYN.IMRT.IN</td>\n",
       "      <td>NaN</td>\n",
       "      <td>NaN</td>\n",
       "      <td>NaN</td>\n",
       "      <td>NaN</td>\n",
       "      <td>NaN</td>\n",
       "      <td>NaN</td>\n",
       "      <td>...</td>\n",
       "      <td>4.5</td>\n",
       "      <td>4.2</td>\n",
       "      <td>4.1</td>\n",
       "      <td>4.0</td>\n",
       "      <td>4.0</td>\n",
       "      <td>3.9</td>\n",
       "      <td>3.6</td>\n",
       "      <td>3.3</td>\n",
       "      <td>3.0</td>\n",
       "      <td>NaN</td>\n",
       "    </tr>\n",
       "  </tbody>\n",
       "</table>\n",
       "<p>3 rows × 65 columns</p>\n",
       "</div>"
      ],
      "text/plain": [
       "            Country Name Country Code  \\\n",
       "24                Belize          BLZ   \n",
       "61   East Asia & Pacific          EAS   \n",
       "141            Lithuania          LTU   \n",
       "\n",
       "                                     Indicator Name  Indicator Code  1960  \\\n",
       "24   Mortality rate, infant (per 1,000 live births)  SP.DYN.IMRT.IN   NaN   \n",
       "61   Mortality rate, infant (per 1,000 live births)  SP.DYN.IMRT.IN   NaN   \n",
       "141  Mortality rate, infant (per 1,000 live births)  SP.DYN.IMRT.IN   NaN   \n",
       "\n",
       "     1961  1962  1963  1964  1965  ...  2011  2012  2013  2014  2015  2016  \\\n",
       "24    NaN   NaN   NaN   NaN   NaN  ...  15.7  15.2  14.5  13.9  13.2  12.5   \n",
       "61    NaN   NaN   NaN   NaN   NaN  ...  17.1  16.3  15.5  14.8  14.1  13.5   \n",
       "141   NaN   NaN   NaN   NaN   NaN  ...   4.5   4.2   4.1   4.0   4.0   3.9   \n",
       "\n",
       "     2017  2018  2019  2020  \n",
       "24   11.8  11.2  10.6   NaN  \n",
       "61   12.9  12.4  11.9   NaN  \n",
       "141   3.6   3.3   3.0   NaN  \n",
       "\n",
       "[3 rows x 65 columns]"
      ]
     },
     "execution_count": 22,
     "metadata": {},
     "output_type": "execute_result"
    }
   ],
   "source": [
    "mortality_data = pd.read_csv(\"data/HNP_StatsData2.csv\", skiprows=4)\n",
    "mortality_data.columns\n",
    "#mortality_data.drop(columns=['2020'], inplace=True)\n",
    "mortality_data.sample(3)"
   ]
  },
  {
   "cell_type": "code",
   "execution_count": 23,
   "metadata": {},
   "outputs": [
    {
     "data": {
      "text/plain": [
       "Index(['Country Name', 'Country Code', 'Indicator Name', 'Indicator Code',\n",
       "       '1960', '1961', '1962', '1963', '1964', '1965', '1966', '1967', '1968',\n",
       "       '1969', '1970', '1971', '1972', '1973', '1974', '1975', '1976', '1977',\n",
       "       '1978', '1979', '1980', '1981', '1982', '1983', '1984', '1985', '1986',\n",
       "       '1987', '1988', '1989', '1990', '1991', '1992', '1993', '1994', '1995',\n",
       "       '1996', '1997', '1998', '1999', '2000', '2001', '2002', '2003', '2004',\n",
       "       '2005', '2006', '2007', '2008', '2009', '2010', '2011', '2012', '2013',\n",
       "       '2014', '2015', '2016', '2017', '2018', '2019', '2020'],\n",
       "      dtype='object')"
      ]
     },
     "execution_count": 23,
     "metadata": {},
     "output_type": "execute_result"
    }
   ],
   "source": [
    "mortality_data.columns"
   ]
  },
  {
   "cell_type": "code",
   "execution_count": 24,
   "metadata": {},
   "outputs": [],
   "source": [
    "mortality_2018 = mortality_data[['Country Name', 'Country Code', '2018']]"
   ]
  },
  {
   "cell_type": "code",
   "execution_count": 25,
   "metadata": {},
   "outputs": [
    {
     "data": {
      "text/html": [
       "<div>\n",
       "<style scoped>\n",
       "    .dataframe tbody tr th:only-of-type {\n",
       "        vertical-align: middle;\n",
       "    }\n",
       "\n",
       "    .dataframe tbody tr th {\n",
       "        vertical-align: top;\n",
       "    }\n",
       "\n",
       "    .dataframe thead th {\n",
       "        text-align: right;\n",
       "    }\n",
       "</style>\n",
       "<table border=\"1\" class=\"dataframe\">\n",
       "  <thead>\n",
       "    <tr style=\"text-align: right;\">\n",
       "      <th></th>\n",
       "      <th>country</th>\n",
       "      <th>Country Code</th>\n",
       "      <th>mortality</th>\n",
       "    </tr>\n",
       "  </thead>\n",
       "  <tbody>\n",
       "    <tr>\n",
       "      <th>214</th>\n",
       "      <td>South Sudan</td>\n",
       "      <td>SSD</td>\n",
       "      <td>62.400000</td>\n",
       "    </tr>\n",
       "    <tr>\n",
       "      <th>53</th>\n",
       "      <td>Germany</td>\n",
       "      <td>DEU</td>\n",
       "      <td>3.300000</td>\n",
       "    </tr>\n",
       "    <tr>\n",
       "      <th>213</th>\n",
       "      <td>Sub-Saharan Africa (excluding high income)</td>\n",
       "      <td>SSA</td>\n",
       "      <td>53.032328</td>\n",
       "    </tr>\n",
       "  </tbody>\n",
       "</table>\n",
       "</div>"
      ],
      "text/plain": [
       "                                        country Country Code  mortality\n",
       "214                                 South Sudan          SSD  62.400000\n",
       "53                                      Germany          DEU   3.300000\n",
       "213  Sub-Saharan Africa (excluding high income)          SSA  53.032328"
      ]
     },
     "execution_count": 25,
     "metadata": {},
     "output_type": "execute_result"
    }
   ],
   "source": [
    "mortality_2018.columns = ['country', 'Country Code', 'mortality']\n",
    "mortality_2018.sample(3)"
   ]
  },
  {
   "cell_type": "code",
   "execution_count": 26,
   "metadata": {},
   "outputs": [
    {
     "data": {
      "text/html": [
       "<div>\n",
       "<style scoped>\n",
       "    .dataframe tbody tr th:only-of-type {\n",
       "        vertical-align: middle;\n",
       "    }\n",
       "\n",
       "    .dataframe tbody tr th {\n",
       "        vertical-align: top;\n",
       "    }\n",
       "\n",
       "    .dataframe thead th {\n",
       "        text-align: right;\n",
       "    }\n",
       "</style>\n",
       "<table border=\"1\" class=\"dataframe\">\n",
       "  <thead>\n",
       "    <tr style=\"text-align: right;\">\n",
       "      <th></th>\n",
       "      <th>country</th>\n",
       "      <th>con_days</th>\n",
       "      <th>count_days_s_pg</th>\n",
       "      <th>count_days_wg</th>\n",
       "      <th>count_subject_s_pg</th>\n",
       "      <th>count_subject_wg</th>\n",
       "      <th>per_customer</th>\n",
       "      <th>avg_chronic</th>\n",
       "      <th>avg_chronic_bw</th>\n",
       "      <th>avg_acute</th>\n",
       "      <th>continent</th>\n",
       "      <th>lifeExp</th>\n",
       "      <th>pop</th>\n",
       "      <th>gdpPercap</th>\n",
       "      <th>iso_alpha</th>\n",
       "      <th>iso_num</th>\n",
       "      <th>Rank</th>\n",
       "      <th>GDP_US_2018</th>\n",
       "      <th>Country Code</th>\n",
       "      <th>mortality</th>\n",
       "    </tr>\n",
       "  </thead>\n",
       "  <tbody>\n",
       "    <tr>\n",
       "      <th>13</th>\n",
       "      <td>Ireland</td>\n",
       "      <td>0.058410</td>\n",
       "      <td>3754.005704</td>\n",
       "      <td>190.867100</td>\n",
       "      <td>722.033425</td>\n",
       "      <td>84.677504</td>\n",
       "      <td>0.125134</td>\n",
       "      <td>35.553160</td>\n",
       "      <td>0.481735</td>\n",
       "      <td>91.483253</td>\n",
       "      <td>Europe</td>\n",
       "      <td>78.885</td>\n",
       "      <td>4109086.0</td>\n",
       "      <td>40675.99635</td>\n",
       "      <td>IRL</td>\n",
       "      <td>372.0</td>\n",
       "      <td>6</td>\n",
       "      <td>79415.0</td>\n",
       "      <td>IRL</td>\n",
       "      <td>2.9</td>\n",
       "    </tr>\n",
       "    <tr>\n",
       "      <th>15</th>\n",
       "      <td>Latvia</td>\n",
       "      <td>0.069195</td>\n",
       "      <td>1331.668256</td>\n",
       "      <td>81.615922</td>\n",
       "      <td>694.650352</td>\n",
       "      <td>63.786006</td>\n",
       "      <td>0.103256</td>\n",
       "      <td>53.326142</td>\n",
       "      <td>1.491742</td>\n",
       "      <td>92.339423</td>\n",
       "      <td>NaN</td>\n",
       "      <td>NaN</td>\n",
       "      <td>NaN</td>\n",
       "      <td>NaN</td>\n",
       "      <td>NaN</td>\n",
       "      <td>NaN</td>\n",
       "      <td>NaN</td>\n",
       "      <td>NaN</td>\n",
       "      <td>LVA</td>\n",
       "      <td>3.3</td>\n",
       "    </tr>\n",
       "    <tr>\n",
       "      <th>11</th>\n",
       "      <td>Greece</td>\n",
       "      <td>0.052654</td>\n",
       "      <td>1296.012974</td>\n",
       "      <td>67.281666</td>\n",
       "      <td>407.809150</td>\n",
       "      <td>42.944691</td>\n",
       "      <td>0.121218</td>\n",
       "      <td>35.815959</td>\n",
       "      <td>1.067678</td>\n",
       "      <td>102.573951</td>\n",
       "      <td>Europe</td>\n",
       "      <td>79.483</td>\n",
       "      <td>10706290.0</td>\n",
       "      <td>27538.41188</td>\n",
       "      <td>GRC</td>\n",
       "      <td>300.0</td>\n",
       "      <td>42</td>\n",
       "      <td>20731.0</td>\n",
       "      <td>GRC</td>\n",
       "      <td>3.5</td>\n",
       "    </tr>\n",
       "  </tbody>\n",
       "</table>\n",
       "</div>"
      ],
      "text/plain": [
       "    country  con_days  count_days_s_pg  count_days_wg  count_subject_s_pg  \\\n",
       "13  Ireland  0.058410      3754.005704     190.867100          722.033425   \n",
       "15   Latvia  0.069195      1331.668256      81.615922          694.650352   \n",
       "11   Greece  0.052654      1296.012974      67.281666          407.809150   \n",
       "\n",
       "    count_subject_wg  per_customer  avg_chronic  avg_chronic_bw   avg_acute  \\\n",
       "13         84.677504      0.125134    35.553160        0.481735   91.483253   \n",
       "15         63.786006      0.103256    53.326142        1.491742   92.339423   \n",
       "11         42.944691      0.121218    35.815959        1.067678  102.573951   \n",
       "\n",
       "   continent  lifeExp         pop    gdpPercap iso_alpha  iso_num Rank  \\\n",
       "13    Europe   78.885   4109086.0  40675.99635       IRL    372.0    6   \n",
       "15       NaN      NaN         NaN          NaN       NaN      NaN  NaN   \n",
       "11    Europe   79.483  10706290.0  27538.41188       GRC    300.0   42   \n",
       "\n",
       "    GDP_US_2018 Country Code  mortality  \n",
       "13      79415.0          IRL        2.9  \n",
       "15          NaN          LVA        3.3  \n",
       "11      20731.0          GRC        3.5  "
      ]
     },
     "execution_count": 26,
     "metadata": {},
     "output_type": "execute_result"
    }
   ],
   "source": [
    "df_means_short_mort = df_means_short.merge(mortality_2018, how='left', on='country' )\n",
    "df_means_short_mort.drop(columns=['year'], inplace=True)\n",
    "df_means_short_mort.sample(3)"
   ]
  },
  {
   "cell_type": "code",
   "execution_count": null,
   "metadata": {},
   "outputs": [],
   "source": []
  },
  {
   "cell_type": "code",
   "execution_count": 27,
   "metadata": {},
   "outputs": [
    {
     "data": {
      "text/plain": [
       "<AxesSubplot:>"
      ]
     },
     "execution_count": 27,
     "metadata": {},
     "output_type": "execute_result"
    },
    {
     "data": {
      "image/png": "[encoded data removed]",
      "text/plain": [
       "<Figure size 792x648 with 2 Axes>"
      ]
     },
     "metadata": {},
     "output_type": "display_data"
    }
   ],
   "source": [
    "corr = df_means_short_mort.corr()\n",
    "\n",
    "# Generate a mask for the upper triangle\n",
    "mask = np.triu(np.ones_like(corr, dtype=bool))\n",
    "\n",
    "# Set up the matplotlib figure\n",
    "f, ax = plt.subplots(figsize=(11, 9))\n",
    "\n",
    "# Generate a custom diverging colormap\n",
    "cmap = sns.diverging_palette(230, 20, as_cmap=True)\n",
    "\n",
    "# Draw the heatmap with the mask and correct aspect ratio\n",
    "sns.heatmap(corr, mask=mask, cmap=cmap, vmax=.3, center=0,\n",
    "            square=True, linewidths=.5, cbar_kws={\"shrink\": .5})"
   ]
  },
  {
   "cell_type": "code",
   "execution_count": 126,
   "metadata": {},
   "outputs": [
    {
     "data": {
      "application/vnd.plotly.v1+json": {
       "config": {
        "plotlyServerURL": "https://plot.ly"
       },
       "data": [
        {
         "coloraxis": "coloraxis",
         "geo": "geo",
         "hovertemplate": "<b>%{hovertext}</b><br><br>iso_alpha=%{location}<br>avg_chronic=%{z}<extra></extra>",
         "hovertext": [
          "Austria",
          "Belgium",
          "Bulgaria",
          "Croatia",
          "Cyprus",
          "Czech Republic",
          "Denmark",
          "Estonia",
          "Finland",
          "France",
          "Germany",
          "Greece",
          "Hungary",
          "Ireland",
          "Italy",
          "Latvia",
          "Netherlands",
          "Poland",
          "Portugal",
          "Romania",
          "Slovakia",
          "Slovenia",
          "Spain",
          "Sweden",
          "United Kingdom"
         ],
         "locations": [
          "AUT",
          "BEL",
          "BGR",
          "HRV",
          null,
          "CZE",
          "DNK",
          null,
          "FIN",
          "FRA",
          "DEU",
          "GRC",
          "HUN",
          "IRL",
          "ITA",
          null,
          "NLD",
          "POL",
          "PRT",
          "ROU",
          null,
          "SVN",
          "ESP",
          "SWE",
          "GBR"
         ],
         "name": "",
         "type": "choropleth",
         "z": [
          73.04695724307429,
          53.438021331743855,
          66.98002715125851,
          59.99315891610729,
          45.52677637103517,
          50.39285182854025,
          25.033536035400243,
          48.492112525127006,
          35.4396447646611,
          31.58901875792183,
          39.26949644567054,
          35.81595930054623,
          44.82855134048803,
          35.553160469815204,
          39.5336697220303,
          53.326142104926035,
          52.32310862574235,
          98.01686326854517,
          45.091556806738936,
          63.68485135812804,
          141.53903122090128,
          121.31262975140945,
          46.47632271971169,
          35.40657954054209,
          29.625940650554558
         ]
        }
       ],
       "layout": {
        "autosize": false,
        "coloraxis": {
         "colorbar": {
          "title": {
           "text": "avg_chronic"
          }
         },
         "colorscale": [
          [
           0,
           "rgb(0,0,131)"
          ],
          [
           0.2,
           "rgb(0,60,170)"
          ],
          [
           0.4,
           "rgb(5,255,255)"
          ],
          [
           0.6,
           "rgb(255,255,0)"
          ],
          [
           0.8,
           "rgb(250,0,0)"
          ],
          [
           1,
           "rgb(128,0,0)"
          ]
         ]
        },
        "geo": {
         "center": {},
         "domain": {
          "x": [
           0,
           1
          ],
          "y": [
           0,
           1
          ]
         },
         "scope": "europe"
        },
        "height": 500,
        "legend": {
         "tracegroupgap": 0
        },
        "margin": {
         "b": 10,
         "l": 10,
         "pad": 0,
         "r": 30,
         "t": 40
        },
        "paper_bgcolor": "white",
        "template": {
         "data": {
          "bar": [
           {
            "error_x": {
             "color": "#2a3f5f"
            },
            "error_y": {
             "color": "#2a3f5f"
            },
            "marker": {
             "line": {
              "color": "#E5ECF6",
              "width": 0.5
             }
            },
            "type": "bar"
           }
          ],
          "barpolar": [
           {
            "marker": {
             "line": {
              "color": "#E5ECF6",
              "width": 0.5
             }
            },
            "type": "barpolar"
           }
          ],
          "carpet": [
           {
            "aaxis": {
             "endlinecolor": "#2a3f5f",
             "gridcolor": "white",
             "linecolor": "white",
             "minorgridcolor": "white",
             "startlinecolor": "#2a3f5f"
            },
            "baxis": {
             "endlinecolor": "#2a3f5f",
             "gridcolor": "white",
             "linecolor": "white",
             "minorgridcolor": "white",
             "startlinecolor": "#2a3f5f"
            },
            "type": "carpet"
           }
          ],
          "choropleth": [
           {
            "colorbar": {
             "outlinewidth": 0,
             "ticks": ""
            },
            "type": "choropleth"
           }
          ],
          "contour": [
           {
            "colorbar": {
             "outlinewidth": 0,
             "ticks": ""
            },
            "colorscale": [
             [
              0,
              "#0d0887"
             ],
             [
              0.1111111111111111,
              "#46039f"
             ],
             [
              0.2222222222222222,
              "#7201a8"
             ],
             [
              0.3333333333333333,
              "#9c179e"
             ],
             [
              0.4444444444444444,
              "#bd3786"
             ],
             [
              0.5555555555555556,
              "#d8576b"
             ],
             [
              0.6666666666666666,
              "#ed7953"
             ],
             [
              0.7777777777777778,
              "#fb9f3a"
             ],
             [
              0.8888888888888888,
              "#fdca26"
             ],
             [
              1,
              "#f0f921"
             ]
            ],
            "type": "contour"
           }
          ],
          "contourcarpet": [
           {
            "colorbar": {
             "outlinewidth": 0,
             "ticks": ""
            },
            "type": "contourcarpet"
           }
          ],
          "heatmap": [
           {
            "colorbar": {
             "outlinewidth": 0,
             "ticks": ""
            },
            "colorscale": [
             [
              0,
              "#0d0887"
             ],
             [
              0.1111111111111111,
              "#46039f"
             ],
             [
              0.2222222222222222,
              "#7201a8"
             ],
             [
              0.3333333333333333,
              "#9c179e"
             ],
             [
              0.4444444444444444,
              "#bd3786"
             ],
             [
              0.5555555555555556,
              "#d8576b"
             ],
             [
              0.6666666666666666,
              "#ed7953"
             ],
             [
              0.7777777777777778,
              "#fb9f3a"
             ],
             [
              0.8888888888888888,
              "#fdca26"
             ],
             [
              1,
              "#f0f921"
             ]
            ],
            "type": "heatmap"
           }
          ],
          "heatmapgl": [
           {
            "colorbar": {
             "outlinewidth": 0,
             "ticks": ""
            },
            "colorscale": [
             [
              0,
              "#0d0887"
             ],
             [
              0.1111111111111111,
              "#46039f"
             ],
             [
              0.2222222222222222,
              "#7201a8"
             ],
             [
              0.3333333333333333,
              "#9c179e"
             ],
             [
              0.4444444444444444,
              "#bd3786"
             ],
             [
              0.5555555555555556,
              "#d8576b"
             ],
             [
              0.6666666666666666,
              "#ed7953"
             ],
             [
              0.7777777777777778,
              "#fb9f3a"
             ],
             [
              0.8888888888888888,
              "#fdca26"
             ],
             [
              1,
              "#f0f921"
             ]
            ],
            "type": "heatmapgl"
           }
          ],
          "histogram": [
           {
            "marker": {
             "colorbar": {
              "outlinewidth": 0,
              "ticks": ""
             }
            },
            "type": "histogram"
           }
          ],
          "histogram2d": [
           {
            "colorbar": {
             "outlinewidth": 0,
             "ticks": ""
            },
            "colorscale": [
             [
              0,
              "#0d0887"
             ],
             [
              0.1111111111111111,
              "#46039f"
             ],
             [
              0.2222222222222222,
              "#7201a8"
             ],
             [
              0.3333333333333333,
              "#9c179e"
             ],
             [
              0.4444444444444444,
              "#bd3786"
             ],
             [
              0.5555555555555556,
              "#d8576b"
             ],
             [
              0.6666666666666666,
              "#ed7953"
             ],
             [
              0.7777777777777778,
              "#fb9f3a"
             ],
             [
              0.8888888888888888,
              "#fdca26"
             ],
             [
              1,
              "#f0f921"
             ]
            ],
            "type": "histogram2d"
           }
          ],
          "histogram2dcontour": [
           {
            "colorbar": {
             "outlinewidth": 0,
             "ticks": ""
            },
            "colorscale": [
             [
              0,
              "#0d0887"
             ],
             [
              0.1111111111111111,
              "#46039f"
             ],
             [
              0.2222222222222222,
              "#7201a8"
             ],
             [
              0.3333333333333333,
              "#9c179e"
             ],
             [
              0.4444444444444444,
              "#bd3786"
             ],
             [
              0.5555555555555556,
              "#d8576b"
             ],
             [
              0.6666666666666666,
              "#ed7953"
             ],
             [
              0.7777777777777778,
              "#fb9f3a"
             ],
             [
              0.8888888888888888,
              "#fdca26"
             ],
             [
              1,
              "#f0f921"
             ]
            ],
            "type": "histogram2dcontour"
           }
          ],
          "mesh3d": [
           {
            "colorbar": {
             "outlinewidth": 0,
             "ticks": ""
            },
            "type": "mesh3d"
           }
          ],
          "parcoords": [
           {
            "line": {
             "colorbar": {
              "outlinewidth": 0,
              "ticks": ""
             }
            },
            "type": "parcoords"
           }
          ],
          "pie": [
           {
            "automargin": true,
            "type": "pie"
           }
          ],
          "scatter": [
           {
            "marker": {
             "colorbar": {
              "outlinewidth": 0,
              "ticks": ""
             }
            },
            "type": "scatter"
           }
          ],
          "scatter3d": [
           {
            "line": {
             "colorbar": {
              "outlinewidth": 0,
              "ticks": ""
             }
            },
            "marker": {
             "colorbar": {
              "outlinewidth": 0,
              "ticks": ""
             }
            },
            "type": "scatter3d"
           }
          ],
          "scattercarpet": [
           {
            "marker": {
             "colorbar": {
              "outlinewidth": 0,
              "ticks": ""
             }
            },
            "type": "scattercarpet"
           }
          ],
          "scattergeo": [
           {
            "marker": {
             "colorbar": {
              "outlinewidth": 0,
              "ticks": ""
             }
            },
            "type": "scattergeo"
           }
          ],
          "scattergl": [
           {
            "marker": {
             "colorbar": {
              "outlinewidth": 0,
              "ticks": ""
             }
            },
            "type": "scattergl"
           }
          ],
          "scattermapbox": [
           {
            "marker": {
             "colorbar": {
              "outlinewidth": 0,
              "ticks": ""
             }
            },
            "type": "scattermapbox"
           }
          ],
          "scatterpolar": [
           {
            "marker": {
             "colorbar": {
              "outlinewidth": 0,
              "ticks": ""
             }
            },
            "type": "scatterpolar"
           }
          ],
          "scatterpolargl": [
           {
            "marker": {
             "colorbar": {
              "outlinewidth": 0,
              "ticks": ""
             }
            },
            "type": "scatterpolargl"
           }
          ],
          "scatterternary": [
           {
            "marker": {
             "colorbar": {
              "outlinewidth": 0,
              "ticks": ""
             }
            },
            "type": "scatterternary"
           }
          ],
          "surface": [
           {
            "colorbar": {
             "outlinewidth": 0,
             "ticks": ""
            },
            "colorscale": [
             [
              0,
              "#0d0887"
             ],
             [
              0.1111111111111111,
              "#46039f"
             ],
             [
              0.2222222222222222,
              "#7201a8"
             ],
             [
              0.3333333333333333,
              "#9c179e"
             ],
             [
              0.4444444444444444,
              "#bd3786"
             ],
             [
              0.5555555555555556,
              "#d8576b"
             ],
             [
              0.6666666666666666,
              "#ed7953"
             ],
             [
              0.7777777777777778,
              "#fb9f3a"
             ],
             [
              0.8888888888888888,
              "#fdca26"
             ],
             [
              1,
              "#f0f921"
             ]
            ],
            "type": "surface"
           }
          ],
          "table": [
           {
            "cells": {
             "fill": {
              "color": "#EBF0F8"
             },
             "line": {
              "color": "white"
             }
            },
            "header": {
             "fill": {
              "color": "#C8D4E3"
             },
             "line": {
              "color": "white"
             }
            },
            "type": "table"
           }
          ]
         },
         "layout": {
          "annotationdefaults": {
           "arrowcolor": "#2a3f5f",
           "arrowhead": 0,
           "arrowwidth": 1
          },
          "coloraxis": {
           "colorbar": {
            "outlinewidth": 0,
            "ticks": ""
           }
          },
          "colorscale": {
           "diverging": [
            [
             0,
             "#8e0152"
            ],
            [
             0.1,
             "#c51b7d"
            ],
            [
             0.2,
             "#de77ae"
            ],
            [
             0.3,
             "#f1b6da"
            ],
            [
             0.4,
             "#fde0ef"
            ],
            [
             0.5,
             "#f7f7f7"
            ],
            [
             0.6,
             "#e6f5d0"
            ],
            [
             0.7,
             "#b8e186"
            ],
            [
             0.8,
             "#7fbc41"
            ],
            [
             0.9,
             "#4d9221"
            ],
            [
             1,
             "#276419"
            ]
           ],
           "sequential": [
            [
             0,
             "#0d0887"
            ],
            [
             0.1111111111111111,
             "#46039f"
            ],
            [
             0.2222222222222222,
             "#7201a8"
            ],
            [
             0.3333333333333333,
             "#9c179e"
            ],
            [
             0.4444444444444444,
             "#bd3786"
            ],
            [
             0.5555555555555556,
             "#d8576b"
            ],
            [
             0.6666666666666666,
             "#ed7953"
            ],
            [
             0.7777777777777778,
             "#fb9f3a"
            ],
            [
             0.8888888888888888,
             "#fdca26"
            ],
            [
             1,
             "#f0f921"
            ]
           ],
           "sequentialminus": [
            [
             0,
             "#0d0887"
            ],
            [
             0.1111111111111111,
             "#46039f"
            ],
            [
             0.2222222222222222,
             "#7201a8"
            ],
            [
             0.3333333333333333,
             "#9c179e"
            ],
            [
             0.4444444444444444,
             "#bd3786"
            ],
            [
             0.5555555555555556,
             "#d8576b"
            ],
            [
             0.6666666666666666,
             "#ed7953"
            ],
            [
             0.7777777777777778,
             "#fb9f3a"
            ],
            [
             0.8888888888888888,
             "#fdca26"
            ],
            [
             1,
             "#f0f921"
            ]
           ]
          },
          "colorway": [
           "#636efa",
           "#EF553B",
           "#00cc96",
           "#ab63fa",
           "#FFA15A",
           "#19d3f3",
           "#FF6692",
           "#B6E880",
           "#FF97FF",
           "#FECB52"
          ],
          "font": {
           "color": "#2a3f5f"
          },
          "geo": {
           "bgcolor": "white",
           "lakecolor": "white",
           "landcolor": "#E5ECF6",
           "showlakes": true,
           "showland": true,
           "subunitcolor": "white"
          },
          "hoverlabel": {
           "align": "left"
          },
          "hovermode": "closest",
          "mapbox": {
           "style": "light"
          },
          "paper_bgcolor": "white",
          "plot_bgcolor": "#E5ECF6",
          "polar": {
           "angularaxis": {
            "gridcolor": "white",
            "linecolor": "white",
            "ticks": ""
           },
           "bgcolor": "#E5ECF6",
           "radialaxis": {
            "gridcolor": "white",
            "linecolor": "white",
            "ticks": ""
           }
          },
          "scene": {
           "xaxis": {
            "backgroundcolor": "#E5ECF6",
            "gridcolor": "white",
            "gridwidth": 2,
            "linecolor": "white",
            "showbackground": true,
            "ticks": "",
            "zerolinecolor": "white"
           },
           "yaxis": {
            "backgroundcolor": "#E5ECF6",
            "gridcolor": "white",
            "gridwidth": 2,
            "linecolor": "white",
            "showbackground": true,
            "ticks": "",
            "zerolinecolor": "white"
           },
           "zaxis": {
            "backgroundcolor": "#E5ECF6",
            "gridcolor": "white",
            "gridwidth": 2,
            "linecolor": "white",
            "showbackground": true,
            "ticks": "",
            "zerolinecolor": "white"
           }
          },
          "shapedefaults": {
           "line": {
            "color": "#2a3f5f"
           }
          },
          "ternary": {
           "aaxis": {
            "gridcolor": "white",
            "linecolor": "white",
            "ticks": ""
           },
           "baxis": {
            "gridcolor": "white",
            "linecolor": "white",
            "ticks": ""
           },
           "bgcolor": "#E5ECF6",
           "caxis": {
            "gridcolor": "white",
            "linecolor": "white",
            "ticks": ""
           }
          },
          "title": {
           "x": 0.05
          },
          "xaxis": {
           "automargin": true,
           "gridcolor": "white",
           "linecolor": "white",
           "ticks": "",
           "title": {
            "standoff": 15
           },
           "zerolinecolor": "white",
           "zerolinewidth": 2
          },
          "yaxis": {
           "automargin": true,
           "gridcolor": "white",
           "linecolor": "white",
           "ticks": "",
           "title": {
            "standoff": 15
           },
           "zerolinecolor": "white",
           "zerolinewidth": 2
          }
         }
        },
        "title": {
         "text": "2018 avg_chronic Alcohol Consumption - Indication of Poor Nutrition"
        },
        "width": 830
       }
      },
      "text/html": [
       "<div>                            <div id=\"17f922fe-4da3-4d29-a372-f742c5b89ea1\" class=\"plotly-graph-div\" style=\"height:500px; width:830px;\"></div>            <script type=\"text/javascript\">                require([\"plotly\"], function(Plotly) {                    window.PLOTLYENV=window.PLOTLYENV || {};                                    if (document.getElementById(\"17f922fe-4da3-4d29-a372-f742c5b89ea1\")) {                    Plotly.newPlot(                        \"17f922fe-4da3-4d29-a372-f742c5b89ea1\",                        [{\"coloraxis\": \"coloraxis\", \"geo\": \"geo\", \"hovertemplate\": \"<b>%{hovertext}</b><br><br>iso_alpha=%{location}<br>avg_chronic=%{z}<extra></extra>\", \"hovertext\": [\"Austria\", \"Belgium\", \"Bulgaria\", \"Croatia\", \"Cyprus\", \"Czech Republic\", \"Denmark\", \"Estonia\", \"Finland\", \"France\", \"Germany\", \"Greece\", \"Hungary\", \"Ireland\", \"Italy\", \"Latvia\", \"Netherlands\", \"Poland\", \"Portugal\", \"Romania\", \"Slovakia\", \"Slovenia\", \"Spain\", \"Sweden\", \"United Kingdom\"], \"locations\": [\"AUT\", \"BEL\", \"BGR\", \"HRV\", null, \"CZE\", \"DNK\", null, \"FIN\", \"FRA\", \"DEU\", \"GRC\", \"HUN\", \"IRL\", \"ITA\", null, \"NLD\", \"POL\", \"PRT\", \"ROU\", null, \"SVN\", \"ESP\", \"SWE\", \"GBR\"], \"name\": \"\", \"type\": \"choropleth\", \"z\": [73.04695724307429, 53.438021331743855, 66.98002715125851, 59.99315891610729, 45.52677637103517, 50.39285182854025, 25.033536035400243, 48.492112525127006, 35.4396447646611, 31.58901875792183, 39.26949644567054, 35.81595930054623, 44.82855134048803, 35.553160469815204, 39.5336697220303, 53.326142104926035, 52.32310862574235, 98.01686326854517, 45.091556806738936, 63.68485135812804, 141.53903122090128, 121.31262975140945, 46.47632271971169, 35.40657954054209, 29.625940650554558]}],                        {\"autosize\": false, \"coloraxis\": {\"colorbar\": {\"title\": {\"text\": \"avg_chronic\"}}, \"colorscale\": [[0.0, \"rgb(0,0,131)\"], [0.2, \"rgb(0,60,170)\"], [0.4, \"rgb(5,255,255)\"], [0.6, \"rgb(255,255,0)\"], [0.8, \"rgb(250,0,0)\"], [1.0, \"rgb(128,0,0)\"]]}, \"geo\": {\"center\": {}, \"domain\": {\"x\": [0.0, 1.0], \"y\": [0.0, 1.0]}, \"scope\": \"europe\"}, \"height\": 500, \"legend\": {\"tracegroupgap\": 0}, \"margin\": {\"b\": 10, \"l\": 10, \"pad\": 0, \"r\": 30, \"t\": 40}, \"paper_bgcolor\": \"white\", \"template\": {\"data\": {\"bar\": [{\"error_x\": {\"color\": \"#2a3f5f\"}, \"error_y\": {\"color\": \"#2a3f5f\"}, \"marker\": {\"line\": {\"color\": \"#E5ECF6\", \"width\": 0.5}}, \"type\": \"bar\"}], \"barpolar\": [{\"marker\": {\"line\": {\"color\": \"#E5ECF6\", \"width\": 0.5}}, \"type\": \"barpolar\"}], \"carpet\": [{\"aaxis\": {\"endlinecolor\": \"#2a3f5f\", \"gridcolor\": \"white\", \"linecolor\": \"white\", \"minorgridcolor\": \"white\", \"startlinecolor\": \"#2a3f5f\"}, \"baxis\": {\"endlinecolor\": \"#2a3f5f\", \"gridcolor\": \"white\", \"linecolor\": \"white\", \"minorgridcolor\": \"white\", \"startlinecolor\": \"#2a3f5f\"}, \"type\": \"carpet\"}], \"choropleth\": [{\"colorbar\": {\"outlinewidth\": 0, \"ticks\": \"\"}, \"type\": \"choropleth\"}], \"contour\": [{\"colorbar\": {\"outlinewidth\": 0, \"ticks\": \"\"}, \"colorscale\": [[0.0, \"#0d0887\"], [0.1111111111111111, \"#46039f\"], [0.2222222222222222, \"#7201a8\"], [0.3333333333333333, \"#9c179e\"], [0.4444444444444444, \"#bd3786\"], [0.5555555555555556, \"#d8576b\"], [0.6666666666666666, \"#ed7953\"], [0.7777777777777778, \"#fb9f3a\"], [0.8888888888888888, \"#fdca26\"], [1.0, \"#f0f921\"]], \"type\": \"contour\"}], \"contourcarpet\": [{\"colorbar\": {\"outlinewidth\": 0, \"ticks\": \"\"}, \"type\": \"contourcarpet\"}], \"heatmap\": [{\"colorbar\": {\"outlinewidth\": 0, \"ticks\": \"\"}, \"colorscale\": [[0.0, \"#0d0887\"], [0.1111111111111111, \"#46039f\"], [0.2222222222222222, \"#7201a8\"], [0.3333333333333333, \"#9c179e\"], [0.4444444444444444, \"#bd3786\"], [0.5555555555555556, \"#d8576b\"], [0.6666666666666666, \"#ed7953\"], [0.7777777777777778, \"#fb9f3a\"], [0.8888888888888888, \"#fdca26\"], [1.0, \"#f0f921\"]], \"type\": \"heatmap\"}], \"heatmapgl\": [{\"colorbar\": {\"outlinewidth\": 0, \"ticks\": \"\"}, \"colorscale\": [[0.0, \"#0d0887\"], [0.1111111111111111, \"#46039f\"], [0.2222222222222222, \"#7201a8\"], [0.3333333333333333, \"#9c179e\"], [0.4444444444444444, \"#bd3786\"], [0.5555555555555556, \"#d8576b\"], [0.6666666666666666, \"#ed7953\"], [0.7777777777777778, \"#fb9f3a\"], [0.8888888888888888, \"#fdca26\"], [1.0, \"#f0f921\"]], \"type\": \"heatmapgl\"}], \"histogram\": [{\"marker\": {\"colorbar\": {\"outlinewidth\": 0, \"ticks\": \"\"}}, \"type\": \"histogram\"}], \"histogram2d\": [{\"colorbar\": {\"outlinewidth\": 0, \"ticks\": \"\"}, \"colorscale\": [[0.0, \"#0d0887\"], [0.1111111111111111, \"#46039f\"], [0.2222222222222222, \"#7201a8\"], [0.3333333333333333, \"#9c179e\"], [0.4444444444444444, \"#bd3786\"], [0.5555555555555556, \"#d8576b\"], [0.6666666666666666, \"#ed7953\"], [0.7777777777777778, \"#fb9f3a\"], [0.8888888888888888, \"#fdca26\"], [1.0, \"#f0f921\"]], \"type\": \"histogram2d\"}], \"histogram2dcontour\": [{\"colorbar\": {\"outlinewidth\": 0, \"ticks\": \"\"}, \"colorscale\": [[0.0, \"#0d0887\"], [0.1111111111111111, \"#46039f\"], [0.2222222222222222, \"#7201a8\"], [0.3333333333333333, \"#9c179e\"], [0.4444444444444444, \"#bd3786\"], [0.5555555555555556, \"#d8576b\"], [0.6666666666666666, \"#ed7953\"], [0.7777777777777778, \"#fb9f3a\"], [0.8888888888888888, \"#fdca26\"], [1.0, \"#f0f921\"]], \"type\": \"histogram2dcontour\"}], \"mesh3d\": [{\"colorbar\": {\"outlinewidth\": 0, \"ticks\": \"\"}, \"type\": \"mesh3d\"}], \"parcoords\": [{\"line\": {\"colorbar\": {\"outlinewidth\": 0, \"ticks\": \"\"}}, \"type\": \"parcoords\"}], \"pie\": [{\"automargin\": true, \"type\": \"pie\"}], \"scatter\": [{\"marker\": {\"colorbar\": {\"outlinewidth\": 0, \"ticks\": \"\"}}, \"type\": \"scatter\"}], \"scatter3d\": [{\"line\": {\"colorbar\": {\"outlinewidth\": 0, \"ticks\": \"\"}}, \"marker\": {\"colorbar\": {\"outlinewidth\": 0, \"ticks\": \"\"}}, \"type\": \"scatter3d\"}], \"scattercarpet\": [{\"marker\": {\"colorbar\": {\"outlinewidth\": 0, \"ticks\": \"\"}}, \"type\": \"scattercarpet\"}], \"scattergeo\": [{\"marker\": {\"colorbar\": {\"outlinewidth\": 0, \"ticks\": \"\"}}, \"type\": \"scattergeo\"}], \"scattergl\": [{\"marker\": {\"colorbar\": {\"outlinewidth\": 0, \"ticks\": \"\"}}, \"type\": \"scattergl\"}], \"scattermapbox\": [{\"marker\": {\"colorbar\": {\"outlinewidth\": 0, \"ticks\": \"\"}}, \"type\": \"scattermapbox\"}], \"scatterpolar\": [{\"marker\": {\"colorbar\": {\"outlinewidth\": 0, \"ticks\": \"\"}}, \"type\": \"scatterpolar\"}], \"scatterpolargl\": [{\"marker\": {\"colorbar\": {\"outlinewidth\": 0, \"ticks\": \"\"}}, \"type\": \"scatterpolargl\"}], \"scatterternary\": [{\"marker\": {\"colorbar\": {\"outlinewidth\": 0, \"ticks\": \"\"}}, \"type\": \"scatterternary\"}], \"surface\": [{\"colorbar\": {\"outlinewidth\": 0, \"ticks\": \"\"}, \"colorscale\": [[0.0, \"#0d0887\"], [0.1111111111111111, \"#46039f\"], [0.2222222222222222, \"#7201a8\"], [0.3333333333333333, \"#9c179e\"], [0.4444444444444444, \"#bd3786\"], [0.5555555555555556, \"#d8576b\"], [0.6666666666666666, \"#ed7953\"], [0.7777777777777778, \"#fb9f3a\"], [0.8888888888888888, \"#fdca26\"], [1.0, \"#f0f921\"]], \"type\": \"surface\"}], \"table\": [{\"cells\": {\"fill\": {\"color\": \"#EBF0F8\"}, \"line\": {\"color\": \"white\"}}, \"header\": {\"fill\": {\"color\": \"#C8D4E3\"}, \"line\": {\"color\": \"white\"}}, \"type\": \"table\"}]}, \"layout\": {\"annotationdefaults\": {\"arrowcolor\": \"#2a3f5f\", \"arrowhead\": 0, \"arrowwidth\": 1}, \"coloraxis\": {\"colorbar\": {\"outlinewidth\": 0, \"ticks\": \"\"}}, \"colorscale\": {\"diverging\": [[0, \"#8e0152\"], [0.1, \"#c51b7d\"], [0.2, \"#de77ae\"], [0.3, \"#f1b6da\"], [0.4, \"#fde0ef\"], [0.5, \"#f7f7f7\"], [0.6, \"#e6f5d0\"], [0.7, \"#b8e186\"], [0.8, \"#7fbc41\"], [0.9, \"#4d9221\"], [1, \"#276419\"]], \"sequential\": [[0.0, \"#0d0887\"], [0.1111111111111111, \"#46039f\"], [0.2222222222222222, \"#7201a8\"], [0.3333333333333333, \"#9c179e\"], [0.4444444444444444, \"#bd3786\"], [0.5555555555555556, \"#d8576b\"], [0.6666666666666666, \"#ed7953\"], [0.7777777777777778, \"#fb9f3a\"], [0.8888888888888888, \"#fdca26\"], [1.0, \"#f0f921\"]], \"sequentialminus\": [[0.0, \"#0d0887\"], [0.1111111111111111, \"#46039f\"], [0.2222222222222222, \"#7201a8\"], [0.3333333333333333, \"#9c179e\"], [0.4444444444444444, \"#bd3786\"], [0.5555555555555556, \"#d8576b\"], [0.6666666666666666, \"#ed7953\"], [0.7777777777777778, \"#fb9f3a\"], [0.8888888888888888, \"#fdca26\"], [1.0, \"#f0f921\"]]}, \"colorway\": [\"#636efa\", \"#EF553B\", \"#00cc96\", \"#ab63fa\", \"#FFA15A\", \"#19d3f3\", \"#FF6692\", \"#B6E880\", \"#FF97FF\", \"#FECB52\"], \"font\": {\"color\": \"#2a3f5f\"}, \"geo\": {\"bgcolor\": \"white\", \"lakecolor\": \"white\", \"landcolor\": \"#E5ECF6\", \"showlakes\": true, \"showland\": true, \"subunitcolor\": \"white\"}, \"hoverlabel\": {\"align\": \"left\"}, \"hovermode\": \"closest\", \"mapbox\": {\"style\": \"light\"}, \"paper_bgcolor\": \"white\", \"plot_bgcolor\": \"#E5ECF6\", \"polar\": {\"angularaxis\": {\"gridcolor\": \"white\", \"linecolor\": \"white\", \"ticks\": \"\"}, \"bgcolor\": \"#E5ECF6\", \"radialaxis\": {\"gridcolor\": \"white\", \"linecolor\": \"white\", \"ticks\": \"\"}}, \"scene\": {\"xaxis\": {\"backgroundcolor\": \"#E5ECF6\", \"gridcolor\": \"white\", \"gridwidth\": 2, \"linecolor\": \"white\", \"showbackground\": true, \"ticks\": \"\", \"zerolinecolor\": \"white\"}, \"yaxis\": {\"backgroundcolor\": \"#E5ECF6\", \"gridcolor\": \"white\", \"gridwidth\": 2, \"linecolor\": \"white\", \"showbackground\": true, \"ticks\": \"\", \"zerolinecolor\": \"white\"}, \"zaxis\": {\"backgroundcolor\": \"#E5ECF6\", \"gridcolor\": \"white\", \"gridwidth\": 2, \"linecolor\": \"white\", \"showbackground\": true, \"ticks\": \"\", \"zerolinecolor\": \"white\"}}, \"shapedefaults\": {\"line\": {\"color\": \"#2a3f5f\"}}, \"ternary\": {\"aaxis\": {\"gridcolor\": \"white\", \"linecolor\": \"white\", \"ticks\": \"\"}, \"baxis\": {\"gridcolor\": \"white\", \"linecolor\": \"white\", \"ticks\": \"\"}, \"bgcolor\": \"#E5ECF6\", \"caxis\": {\"gridcolor\": \"white\", \"linecolor\": \"white\", \"ticks\": \"\"}}, \"title\": {\"x\": 0.05}, \"xaxis\": {\"automargin\": true, \"gridcolor\": \"white\", \"linecolor\": \"white\", \"ticks\": \"\", \"title\": {\"standoff\": 15}, \"zerolinecolor\": \"white\", \"zerolinewidth\": 2}, \"yaxis\": {\"automargin\": true, \"gridcolor\": \"white\", \"linecolor\": \"white\", \"ticks\": \"\", \"title\": {\"standoff\": 15}, \"zerolinecolor\": \"white\", \"zerolinewidth\": 2}}}, \"title\": {\"text\": \"2018 avg_chronic Alcohol Consumption - Indication of Poor Nutrition\"}, \"width\": 830},                        {\"responsive\": true}                    ).then(function(){\n",
       "                            \n",
       "var gd = document.getElementById('17f922fe-4da3-4d29-a372-f742c5b89ea1');\n",
       "var x = new MutationObserver(function (mutations, observer) {{\n",
       "        var display = window.getComputedStyle(gd).display;\n",
       "        if (!display || display === 'none') {{\n",
       "            console.log([gd, 'removed!']);\n",
       "            Plotly.purge(gd);\n",
       "            observer.disconnect();\n",
       "        }}\n",
       "}});\n",
       "\n",
       "// Listen for the removal of the full notebook cells\n",
       "var notebookContainer = gd.closest('#notebook-container');\n",
       "if (notebookContainer) {{\n",
       "    x.observe(notebookContainer, {childList: true});\n",
       "}}\n",
       "\n",
       "// Listen for the clearing of the current output cell\n",
       "var outputEl = gd.closest('.output');\n",
       "if (outputEl) {{\n",
       "    x.observe(outputEl, {childList: true});\n",
       "}}\n",
       "\n",
       "                        })                };                });            </script>        </div>"
      ]
     },
     "metadata": {},
     "output_type": "display_data"
    }
   ],
   "source": [
    "fig = px.choropleth(df_means_short_mort, locations=\"iso_alpha\",\n",
    "                    color='avg_chronic', # lifeExp is a column of gapminder\n",
    "                    hover_name='country', # column to add to hover information\n",
    "                    #color_continuous_scale=\"Viridis\",\n",
    "                    #range_color=(df_dev1['2019'].min(), df_dev1['2019'].max()))\n",
    "                    color_continuous_scale=px.colors.sequential.Jet)\n",
    "fig.update_layout(\n",
    "    title_text = '2018 avg_chronic Alcohol Consumption - Indication of Poor Nutrition',\n",
    "    geo = {'scope':'europe'},\n",
    "    autosize=False,\n",
    "    width=830,\n",
    "    height=500,\n",
    "    margin=dict(\n",
    "        l=10,\n",
    "        r=30,\n",
    "        b=10,\n",
    "        t=40,\n",
    "        pad=0\n",
    "    ),\n",
    "    paper_bgcolor=\"white\",\n",
    ")\n",
    "fig.show()"
   ]
  },
  {
   "cell_type": "code",
   "execution_count": null,
   "metadata": {},
   "outputs": [],
   "source": []
  },
  {
   "cell_type": "code",
   "execution_count": 128,
   "metadata": {},
   "outputs": [
    {
     "data": {
      "application/vnd.plotly.v1+json": {
       "config": {
        "plotlyServerURL": "https://plot.ly"
       },
       "data": [
        {
         "coloraxis": "coloraxis",
         "geo": "geo",
         "hovertemplate": "<b>%{hovertext}</b><br><br>iso_alpha=%{location}<br>mortality=%{z}<extra></extra>",
         "hovertext": [
          "Austria",
          "Belgium",
          "Bulgaria",
          "Croatia",
          "Cyprus",
          "Czech Republic",
          "Denmark",
          "Estonia",
          "Finland",
          "France",
          "Germany",
          "Greece",
          "Hungary",
          "Ireland",
          "Italy",
          "Latvia",
          "Netherlands",
          "Poland",
          "Portugal",
          "Romania",
          "Slovakia",
          "Slovenia",
          "Spain",
          "Sweden",
          "United Kingdom"
         ],
         "locations": [
          "AUT",
          "BEL",
          "BGR",
          "HRV",
          null,
          "CZE",
          "DNK",
          null,
          "FIN",
          "FRA",
          "DEU",
          "GRC",
          "HUN",
          "IRL",
          "ITA",
          null,
          "NLD",
          "POL",
          "PRT",
          "ROU",
          null,
          "SVN",
          "ESP",
          "SWE",
          "GBR"
         ],
         "name": "",
         "type": "choropleth",
         "z": [
          2.9,
          2.8,
          5.9,
          4.1,
          1.9,
          2.5,
          3.3,
          2,
          2,
          3.7,
          3.3,
          3.5,
          3.3,
          2.9,
          2.8,
          3.3,
          3.4,
          3.8,
          3,
          6.2,
          null,
          1.7,
          2.6,
          2.2,
          3.7
         ]
        }
       ],
       "layout": {
        "autosize": false,
        "coloraxis": {
         "colorbar": {
          "title": {
           "text": "mortality"
          }
         },
         "colorscale": [
          [
           0,
           "rgb(0,0,131)"
          ],
          [
           0.2,
           "rgb(0,60,170)"
          ],
          [
           0.4,
           "rgb(5,255,255)"
          ],
          [
           0.6,
           "rgb(255,255,0)"
          ],
          [
           0.8,
           "rgb(250,0,0)"
          ],
          [
           1,
           "rgb(128,0,0)"
          ]
         ]
        },
        "geo": {
         "center": {},
         "domain": {
          "x": [
           0,
           1
          ],
          "y": [
           0,
           1
          ]
         },
         "scope": "europe"
        },
        "height": 500,
        "legend": {
         "tracegroupgap": 0
        },
        "margin": {
         "b": 10,
         "l": 10,
         "pad": 0,
         "r": 30,
         "t": 40
        },
        "paper_bgcolor": "white",
        "template": {
         "data": {
          "bar": [
           {
            "error_x": {
             "color": "#2a3f5f"
            },
            "error_y": {
             "color": "#2a3f5f"
            },
            "marker": {
             "line": {
              "color": "#E5ECF6",
              "width": 0.5
             }
            },
            "type": "bar"
           }
          ],
          "barpolar": [
           {
            "marker": {
             "line": {
              "color": "#E5ECF6",
              "width": 0.5
             }
            },
            "type": "barpolar"
           }
          ],
          "carpet": [
           {
            "aaxis": {
             "endlinecolor": "#2a3f5f",
             "gridcolor": "white",
             "linecolor": "white",
             "minorgridcolor": "white",
             "startlinecolor": "#2a3f5f"
            },
            "baxis": {
             "endlinecolor": "#2a3f5f",
             "gridcolor": "white",
             "linecolor": "white",
             "minorgridcolor": "white",
             "startlinecolor": "#2a3f5f"
            },
            "type": "carpet"
           }
          ],
          "choropleth": [
           {
            "colorbar": {
             "outlinewidth": 0,
             "ticks": ""
            },
            "type": "choropleth"
           }
          ],
          "contour": [
           {
            "colorbar": {
             "outlinewidth": 0,
             "ticks": ""
            },
            "colorscale": [
             [
              0,
              "#0d0887"
             ],
             [
              0.1111111111111111,
              "#46039f"
             ],
             [
              0.2222222222222222,
              "#7201a8"
             ],
             [
              0.3333333333333333,
              "#9c179e"
             ],
             [
              0.4444444444444444,
              "#bd3786"
             ],
             [
              0.5555555555555556,
              "#d8576b"
             ],
             [
              0.6666666666666666,
              "#ed7953"
             ],
             [
              0.7777777777777778,
              "#fb9f3a"
             ],
             [
              0.8888888888888888,
              "#fdca26"
             ],
             [
              1,
              "#f0f921"
             ]
            ],
            "type": "contour"
           }
          ],
          "contourcarpet": [
           {
            "colorbar": {
             "outlinewidth": 0,
             "ticks": ""
            },
            "type": "contourcarpet"
           }
          ],
          "heatmap": [
           {
            "colorbar": {
             "outlinewidth": 0,
             "ticks": ""
            },
            "colorscale": [
             [
              0,
              "#0d0887"
             ],
             [
              0.1111111111111111,
              "#46039f"
             ],
             [
              0.2222222222222222,
              "#7201a8"
             ],
             [
              0.3333333333333333,
              "#9c179e"
             ],
             [
              0.4444444444444444,
              "#bd3786"
             ],
             [
              0.5555555555555556,
              "#d8576b"
             ],
             [
              0.6666666666666666,
              "#ed7953"
             ],
             [
              0.7777777777777778,
              "#fb9f3a"
             ],
             [
              0.8888888888888888,
              "#fdca26"
             ],
             [
              1,
              "#f0f921"
             ]
            ],
            "type": "heatmap"
           }
          ],
          "heatmapgl": [
           {
            "colorbar": {
             "outlinewidth": 0,
             "ticks": ""
            },
            "colorscale": [
             [
              0,
              "#0d0887"
             ],
             [
              0.1111111111111111,
              "#46039f"
             ],
             [
              0.2222222222222222,
              "#7201a8"
             ],
             [
              0.3333333333333333,
              "#9c179e"
             ],
             [
              0.4444444444444444,
              "#bd3786"
             ],
             [
              0.5555555555555556,
              "#d8576b"
             ],
             [
              0.6666666666666666,
              "#ed7953"
             ],
             [
              0.7777777777777778,
              "#fb9f3a"
             ],
             [
              0.8888888888888888,
              "#fdca26"
             ],
             [
              1,
              "#f0f921"
             ]
            ],
            "type": "heatmapgl"
           }
          ],
          "histogram": [
           {
            "marker": {
             "colorbar": {
              "outlinewidth": 0,
              "ticks": ""
             }
            },
            "type": "histogram"
           }
          ],
          "histogram2d": [
           {
            "colorbar": {
             "outlinewidth": 0,
             "ticks": ""
            },
            "colorscale": [
             [
              0,
              "#0d0887"
             ],
             [
              0.1111111111111111,
              "#46039f"
             ],
             [
              0.2222222222222222,
              "#7201a8"
             ],
             [
              0.3333333333333333,
              "#9c179e"
             ],
             [
              0.4444444444444444,
              "#bd3786"
             ],
             [
              0.5555555555555556,
              "#d8576b"
             ],
             [
              0.6666666666666666,
              "#ed7953"
             ],
             [
              0.7777777777777778,
              "#fb9f3a"
             ],
             [
              0.8888888888888888,
              "#fdca26"
             ],
             [
              1,
              "#f0f921"
             ]
            ],
            "type": "histogram2d"
           }
          ],
          "histogram2dcontour": [
           {
            "colorbar": {
             "outlinewidth": 0,
             "ticks": ""
            },
            "colorscale": [
             [
              0,
              "#0d0887"
             ],
             [
              0.1111111111111111,
              "#46039f"
             ],
             [
              0.2222222222222222,
              "#7201a8"
             ],
             [
              0.3333333333333333,
              "#9c179e"
             ],
             [
              0.4444444444444444,
              "#bd3786"
             ],
             [
              0.5555555555555556,
              "#d8576b"
             ],
             [
              0.6666666666666666,
              "#ed7953"
             ],
             [
              0.7777777777777778,
              "#fb9f3a"
             ],
             [
              0.8888888888888888,
              "#fdca26"
             ],
             [
              1,
              "#f0f921"
             ]
            ],
            "type": "histogram2dcontour"
           }
          ],
          "mesh3d": [
           {
            "colorbar": {
             "outlinewidth": 0,
             "ticks": ""
            },
            "type": "mesh3d"
           }
          ],
          "parcoords": [
           {
            "line": {
             "colorbar": {
              "outlinewidth": 0,
              "ticks": ""
             }
            },
            "type": "parcoords"
           }
          ],
          "pie": [
           {
            "automargin": true,
            "type": "pie"
           }
          ],
          "scatter": [
           {
            "marker": {
             "colorbar": {
              "outlinewidth": 0,
              "ticks": ""
             }
            },
            "type": "scatter"
           }
          ],
          "scatter3d": [
           {
            "line": {
             "colorbar": {
              "outlinewidth": 0,
              "ticks": ""
             }
            },
            "marker": {
             "colorbar": {
              "outlinewidth": 0,
              "ticks": ""
             }
            },
            "type": "scatter3d"
           }
          ],
          "scattercarpet": [
           {
            "marker": {
             "colorbar": {
              "outlinewidth": 0,
              "ticks": ""
             }
            },
            "type": "scattercarpet"
           }
          ],
          "scattergeo": [
           {
            "marker": {
             "colorbar": {
              "outlinewidth": 0,
              "ticks": ""
             }
            },
            "type": "scattergeo"
           }
          ],
          "scattergl": [
           {
            "marker": {
             "colorbar": {
              "outlinewidth": 0,
              "ticks": ""
             }
            },
            "type": "scattergl"
           }
          ],
          "scattermapbox": [
           {
            "marker": {
             "colorbar": {
              "outlinewidth": 0,
              "ticks": ""
             }
            },
            "type": "scattermapbox"
           }
          ],
          "scatterpolar": [
           {
            "marker": {
             "colorbar": {
              "outlinewidth": 0,
              "ticks": ""
             }
            },
            "type": "scatterpolar"
           }
          ],
          "scatterpolargl": [
           {
            "marker": {
             "colorbar": {
              "outlinewidth": 0,
              "ticks": ""
             }
            },
            "type": "scatterpolargl"
           }
          ],
          "scatterternary": [
           {
            "marker": {
             "colorbar": {
              "outlinewidth": 0,
              "ticks": ""
             }
            },
            "type": "scatterternary"
           }
          ],
          "surface": [
           {
            "colorbar": {
             "outlinewidth": 0,
             "ticks": ""
            },
            "colorscale": [
             [
              0,
              "#0d0887"
             ],
             [
              0.1111111111111111,
              "#46039f"
             ],
             [
              0.2222222222222222,
              "#7201a8"
             ],
             [
              0.3333333333333333,
              "#9c179e"
             ],
             [
              0.4444444444444444,
              "#bd3786"
             ],
             [
              0.5555555555555556,
              "#d8576b"
             ],
             [
              0.6666666666666666,
              "#ed7953"
             ],
             [
              0.7777777777777778,
              "#fb9f3a"
             ],
             [
              0.8888888888888888,
              "#fdca26"
             ],
             [
              1,
              "#f0f921"
             ]
            ],
            "type": "surface"
           }
          ],
          "table": [
           {
            "cells": {
             "fill": {
              "color": "#EBF0F8"
             },
             "line": {
              "color": "white"
             }
            },
            "header": {
             "fill": {
              "color": "#C8D4E3"
             },
             "line": {
              "color": "white"
             }
            },
            "type": "table"
           }
          ]
         },
         "layout": {
          "annotationdefaults": {
           "arrowcolor": "#2a3f5f",
           "arrowhead": 0,
           "arrowwidth": 1
          },
          "coloraxis": {
           "colorbar": {
            "outlinewidth": 0,
            "ticks": ""
           }
          },
          "colorscale": {
           "diverging": [
            [
             0,
             "#8e0152"
            ],
            [
             0.1,
             "#c51b7d"
            ],
            [
             0.2,
             "#de77ae"
            ],
            [
             0.3,
             "#f1b6da"
            ],
            [
             0.4,
             "#fde0ef"
            ],
            [
             0.5,
             "#f7f7f7"
            ],
            [
             0.6,
             "#e6f5d0"
            ],
            [
             0.7,
             "#b8e186"
            ],
            [
             0.8,
             "#7fbc41"
            ],
            [
             0.9,
             "#4d9221"
            ],
            [
             1,
             "#276419"
            ]
           ],
           "sequential": [
            [
             0,
             "#0d0887"
            ],
            [
             0.1111111111111111,
             "#46039f"
            ],
            [
             0.2222222222222222,
             "#7201a8"
            ],
            [
             0.3333333333333333,
             "#9c179e"
            ],
            [
             0.4444444444444444,
             "#bd3786"
            ],
            [
             0.5555555555555556,
             "#d8576b"
            ],
            [
             0.6666666666666666,
             "#ed7953"
            ],
            [
             0.7777777777777778,
             "#fb9f3a"
            ],
            [
             0.8888888888888888,
             "#fdca26"
            ],
            [
             1,
             "#f0f921"
            ]
           ],
           "sequentialminus": [
            [
             0,
             "#0d0887"
            ],
            [
             0.1111111111111111,
             "#46039f"
            ],
            [
             0.2222222222222222,
             "#7201a8"
            ],
            [
             0.3333333333333333,
             "#9c179e"
            ],
            [
             0.4444444444444444,
             "#bd3786"
            ],
            [
             0.5555555555555556,
             "#d8576b"
            ],
            [
             0.6666666666666666,
             "#ed7953"
            ],
            [
             0.7777777777777778,
             "#fb9f3a"
            ],
            [
             0.8888888888888888,
             "#fdca26"
            ],
            [
             1,
             "#f0f921"
            ]
           ]
          },
          "colorway": [
           "#636efa",
           "#EF553B",
           "#00cc96",
           "#ab63fa",
           "#FFA15A",
           "#19d3f3",
           "#FF6692",
           "#B6E880",
           "#FF97FF",
           "#FECB52"
          ],
          "font": {
           "color": "#2a3f5f"
          },
          "geo": {
           "bgcolor": "white",
           "lakecolor": "white",
           "landcolor": "#E5ECF6",
           "showlakes": true,
           "showland": true,
           "subunitcolor": "white"
          },
          "hoverlabel": {
           "align": "left"
          },
          "hovermode": "closest",
          "mapbox": {
           "style": "light"
          },
          "paper_bgcolor": "white",
          "plot_bgcolor": "#E5ECF6",
          "polar": {
           "angularaxis": {
            "gridcolor": "white",
            "linecolor": "white",
            "ticks": ""
           },
           "bgcolor": "#E5ECF6",
           "radialaxis": {
            "gridcolor": "white",
            "linecolor": "white",
            "ticks": ""
           }
          },
          "scene": {
           "xaxis": {
            "backgroundcolor": "#E5ECF6",
            "gridcolor": "white",
            "gridwidth": 2,
            "linecolor": "white",
            "showbackground": true,
            "ticks": "",
            "zerolinecolor": "white"
           },
           "yaxis": {
            "backgroundcolor": "#E5ECF6",
            "gridcolor": "white",
            "gridwidth": 2,
            "linecolor": "white",
            "showbackground": true,
            "ticks": "",
            "zerolinecolor": "white"
           },
           "zaxis": {
            "backgroundcolor": "#E5ECF6",
            "gridcolor": "white",
            "gridwidth": 2,
            "linecolor": "white",
            "showbackground": true,
            "ticks": "",
            "zerolinecolor": "white"
           }
          },
          "shapedefaults": {
           "line": {
            "color": "#2a3f5f"
           }
          },
          "ternary": {
           "aaxis": {
            "gridcolor": "white",
            "linecolor": "white",
            "ticks": ""
           },
           "baxis": {
            "gridcolor": "white",
            "linecolor": "white",
            "ticks": ""
           },
           "bgcolor": "#E5ECF6",
           "caxis": {
            "gridcolor": "white",
            "linecolor": "white",
            "ticks": ""
           }
          },
          "title": {
           "x": 0.05
          },
          "xaxis": {
           "automargin": true,
           "gridcolor": "white",
           "linecolor": "white",
           "ticks": "",
           "title": {
            "standoff": 15
           },
           "zerolinecolor": "white",
           "zerolinewidth": 2
          },
          "yaxis": {
           "automargin": true,
           "gridcolor": "white",
           "linecolor": "white",
           "ticks": "",
           "title": {
            "standoff": 15
           },
           "zerolinecolor": "white",
           "zerolinewidth": 2
          }
         }
        },
        "title": {
         "text": "2018 Mortality Ratings Heatmap"
        },
        "width": 830
       }
      },
      "text/html": [
       "<div>                            <div id=\"6ff2e917-275e-428b-a731-900dec64ed3c\" class=\"plotly-graph-div\" style=\"height:500px; width:830px;\"></div>            <script type=\"text/javascript\">                require([\"plotly\"], function(Plotly) {                    window.PLOTLYENV=window.PLOTLYENV || {};                                    if (document.getElementById(\"6ff2e917-275e-428b-a731-900dec64ed3c\")) {                    Plotly.newPlot(                        \"6ff2e917-275e-428b-a731-900dec64ed3c\",                        [{\"coloraxis\": \"coloraxis\", \"geo\": \"geo\", \"hovertemplate\": \"<b>%{hovertext}</b><br><br>iso_alpha=%{location}<br>mortality=%{z}<extra></extra>\", \"hovertext\": [\"Austria\", \"Belgium\", \"Bulgaria\", \"Croatia\", \"Cyprus\", \"Czech Republic\", \"Denmark\", \"Estonia\", \"Finland\", \"France\", \"Germany\", \"Greece\", \"Hungary\", \"Ireland\", \"Italy\", \"Latvia\", \"Netherlands\", \"Poland\", \"Portugal\", \"Romania\", \"Slovakia\", \"Slovenia\", \"Spain\", \"Sweden\", \"United Kingdom\"], \"locations\": [\"AUT\", \"BEL\", \"BGR\", \"HRV\", null, \"CZE\", \"DNK\", null, \"FIN\", \"FRA\", \"DEU\", \"GRC\", \"HUN\", \"IRL\", \"ITA\", null, \"NLD\", \"POL\", \"PRT\", \"ROU\", null, \"SVN\", \"ESP\", \"SWE\", \"GBR\"], \"name\": \"\", \"type\": \"choropleth\", \"z\": [2.9, 2.8, 5.9, 4.1, 1.9, 2.5, 3.3, 2.0, 2.0, 3.7, 3.3, 3.5, 3.3, 2.9, 2.8, 3.3, 3.4, 3.8, 3.0, 6.2, null, 1.7, 2.6, 2.2, 3.7]}],                        {\"autosize\": false, \"coloraxis\": {\"colorbar\": {\"title\": {\"text\": \"mortality\"}}, \"colorscale\": [[0.0, \"rgb(0,0,131)\"], [0.2, \"rgb(0,60,170)\"], [0.4, \"rgb(5,255,255)\"], [0.6, \"rgb(255,255,0)\"], [0.8, \"rgb(250,0,0)\"], [1.0, \"rgb(128,0,0)\"]]}, \"geo\": {\"center\": {}, \"domain\": {\"x\": [0.0, 1.0], \"y\": [0.0, 1.0]}, \"scope\": \"europe\"}, \"height\": 500, \"legend\": {\"tracegroupgap\": 0}, \"margin\": {\"b\": 10, \"l\": 10, \"pad\": 0, \"r\": 30, \"t\": 40}, \"paper_bgcolor\": \"white\", \"template\": {\"data\": {\"bar\": [{\"error_x\": {\"color\": \"#2a3f5f\"}, \"error_y\": {\"color\": \"#2a3f5f\"}, \"marker\": {\"line\": {\"color\": \"#E5ECF6\", \"width\": 0.5}}, \"type\": \"bar\"}], \"barpolar\": [{\"marker\": {\"line\": {\"color\": \"#E5ECF6\", \"width\": 0.5}}, \"type\": \"barpolar\"}], \"carpet\": [{\"aaxis\": {\"endlinecolor\": \"#2a3f5f\", \"gridcolor\": \"white\", \"linecolor\": \"white\", \"minorgridcolor\": \"white\", \"startlinecolor\": \"#2a3f5f\"}, \"baxis\": {\"endlinecolor\": \"#2a3f5f\", \"gridcolor\": \"white\", \"linecolor\": \"white\", \"minorgridcolor\": \"white\", \"startlinecolor\": \"#2a3f5f\"}, \"type\": \"carpet\"}], \"choropleth\": [{\"colorbar\": {\"outlinewidth\": 0, \"ticks\": \"\"}, \"type\": \"choropleth\"}], \"contour\": [{\"colorbar\": {\"outlinewidth\": 0, \"ticks\": \"\"}, \"colorscale\": [[0.0, \"#0d0887\"], [0.1111111111111111, \"#46039f\"], [0.2222222222222222, \"#7201a8\"], [0.3333333333333333, \"#9c179e\"], [0.4444444444444444, \"#bd3786\"], [0.5555555555555556, \"#d8576b\"], [0.6666666666666666, \"#ed7953\"], [0.7777777777777778, \"#fb9f3a\"], [0.8888888888888888, \"#fdca26\"], [1.0, \"#f0f921\"]], \"type\": \"contour\"}], \"contourcarpet\": [{\"colorbar\": {\"outlinewidth\": 0, \"ticks\": \"\"}, \"type\": \"contourcarpet\"}], \"heatmap\": [{\"colorbar\": {\"outlinewidth\": 0, \"ticks\": \"\"}, \"colorscale\": [[0.0, \"#0d0887\"], [0.1111111111111111, \"#46039f\"], [0.2222222222222222, \"#7201a8\"], [0.3333333333333333, \"#9c179e\"], [0.4444444444444444, \"#bd3786\"], [0.5555555555555556, \"#d8576b\"], [0.6666666666666666, \"#ed7953\"], [0.7777777777777778, \"#fb9f3a\"], [0.8888888888888888, \"#fdca26\"], [1.0, \"#f0f921\"]], \"type\": \"heatmap\"}], \"heatmapgl\": [{\"colorbar\": {\"outlinewidth\": 0, \"ticks\": \"\"}, \"colorscale\": [[0.0, \"#0d0887\"], [0.1111111111111111, \"#46039f\"], [0.2222222222222222, \"#7201a8\"], [0.3333333333333333, \"#9c179e\"], [0.4444444444444444, \"#bd3786\"], [0.5555555555555556, \"#d8576b\"], [0.6666666666666666, \"#ed7953\"], [0.7777777777777778, \"#fb9f3a\"], [0.8888888888888888, \"#fdca26\"], [1.0, \"#f0f921\"]], \"type\": \"heatmapgl\"}], \"histogram\": [{\"marker\": {\"colorbar\": {\"outlinewidth\": 0, \"ticks\": \"\"}}, \"type\": \"histogram\"}], \"histogram2d\": [{\"colorbar\": {\"outlinewidth\": 0, \"ticks\": \"\"}, \"colorscale\": [[0.0, \"#0d0887\"], [0.1111111111111111, \"#46039f\"], [0.2222222222222222, \"#7201a8\"], [0.3333333333333333, \"#9c179e\"], [0.4444444444444444, \"#bd3786\"], [0.5555555555555556, \"#d8576b\"], [0.6666666666666666, \"#ed7953\"], [0.7777777777777778, \"#fb9f3a\"], [0.8888888888888888, \"#fdca26\"], [1.0, \"#f0f921\"]], \"type\": \"histogram2d\"}], \"histogram2dcontour\": [{\"colorbar\": {\"outlinewidth\": 0, \"ticks\": \"\"}, \"colorscale\": [[0.0, \"#0d0887\"], [0.1111111111111111, \"#46039f\"], [0.2222222222222222, \"#7201a8\"], [0.3333333333333333, \"#9c179e\"], [0.4444444444444444, \"#bd3786\"], [0.5555555555555556, \"#d8576b\"], [0.6666666666666666, \"#ed7953\"], [0.7777777777777778, \"#fb9f3a\"], [0.8888888888888888, \"#fdca26\"], [1.0, \"#f0f921\"]], \"type\": \"histogram2dcontour\"}], \"mesh3d\": [{\"colorbar\": {\"outlinewidth\": 0, \"ticks\": \"\"}, \"type\": \"mesh3d\"}], \"parcoords\": [{\"line\": {\"colorbar\": {\"outlinewidth\": 0, \"ticks\": \"\"}}, \"type\": \"parcoords\"}], \"pie\": [{\"automargin\": true, \"type\": \"pie\"}], \"scatter\": [{\"marker\": {\"colorbar\": {\"outlinewidth\": 0, \"ticks\": \"\"}}, \"type\": \"scatter\"}], \"scatter3d\": [{\"line\": {\"colorbar\": {\"outlinewidth\": 0, \"ticks\": \"\"}}, \"marker\": {\"colorbar\": {\"outlinewidth\": 0, \"ticks\": \"\"}}, \"type\": \"scatter3d\"}], \"scattercarpet\": [{\"marker\": {\"colorbar\": {\"outlinewidth\": 0, \"ticks\": \"\"}}, \"type\": \"scattercarpet\"}], \"scattergeo\": [{\"marker\": {\"colorbar\": {\"outlinewidth\": 0, \"ticks\": \"\"}}, \"type\": \"scattergeo\"}], \"scattergl\": [{\"marker\": {\"colorbar\": {\"outlinewidth\": 0, \"ticks\": \"\"}}, \"type\": \"scattergl\"}], \"scattermapbox\": [{\"marker\": {\"colorbar\": {\"outlinewidth\": 0, \"ticks\": \"\"}}, \"type\": \"scattermapbox\"}], \"scatterpolar\": [{\"marker\": {\"colorbar\": {\"outlinewidth\": 0, \"ticks\": \"\"}}, \"type\": \"scatterpolar\"}], \"scatterpolargl\": [{\"marker\": {\"colorbar\": {\"outlinewidth\": 0, \"ticks\": \"\"}}, \"type\": \"scatterpolargl\"}], \"scatterternary\": [{\"marker\": {\"colorbar\": {\"outlinewidth\": 0, \"ticks\": \"\"}}, \"type\": \"scatterternary\"}], \"surface\": [{\"colorbar\": {\"outlinewidth\": 0, \"ticks\": \"\"}, \"colorscale\": [[0.0, \"#0d0887\"], [0.1111111111111111, \"#46039f\"], [0.2222222222222222, \"#7201a8\"], [0.3333333333333333, \"#9c179e\"], [0.4444444444444444, \"#bd3786\"], [0.5555555555555556, \"#d8576b\"], [0.6666666666666666, \"#ed7953\"], [0.7777777777777778, \"#fb9f3a\"], [0.8888888888888888, \"#fdca26\"], [1.0, \"#f0f921\"]], \"type\": \"surface\"}], \"table\": [{\"cells\": {\"fill\": {\"color\": \"#EBF0F8\"}, \"line\": {\"color\": \"white\"}}, \"header\": {\"fill\": {\"color\": \"#C8D4E3\"}, \"line\": {\"color\": \"white\"}}, \"type\": \"table\"}]}, \"layout\": {\"annotationdefaults\": {\"arrowcolor\": \"#2a3f5f\", \"arrowhead\": 0, \"arrowwidth\": 1}, \"coloraxis\": {\"colorbar\": {\"outlinewidth\": 0, \"ticks\": \"\"}}, \"colorscale\": {\"diverging\": [[0, \"#8e0152\"], [0.1, \"#c51b7d\"], [0.2, \"#de77ae\"], [0.3, \"#f1b6da\"], [0.4, \"#fde0ef\"], [0.5, \"#f7f7f7\"], [0.6, \"#e6f5d0\"], [0.7, \"#b8e186\"], [0.8, \"#7fbc41\"], [0.9, \"#4d9221\"], [1, \"#276419\"]], \"sequential\": [[0.0, \"#0d0887\"], [0.1111111111111111, \"#46039f\"], [0.2222222222222222, \"#7201a8\"], [0.3333333333333333, \"#9c179e\"], [0.4444444444444444, \"#bd3786\"], [0.5555555555555556, \"#d8576b\"], [0.6666666666666666, \"#ed7953\"], [0.7777777777777778, \"#fb9f3a\"], [0.8888888888888888, \"#fdca26\"], [1.0, \"#f0f921\"]], \"sequentialminus\": [[0.0, \"#0d0887\"], [0.1111111111111111, \"#46039f\"], [0.2222222222222222, \"#7201a8\"], [0.3333333333333333, \"#9c179e\"], [0.4444444444444444, \"#bd3786\"], [0.5555555555555556, \"#d8576b\"], [0.6666666666666666, \"#ed7953\"], [0.7777777777777778, \"#fb9f3a\"], [0.8888888888888888, \"#fdca26\"], [1.0, \"#f0f921\"]]}, \"colorway\": [\"#636efa\", \"#EF553B\", \"#00cc96\", \"#ab63fa\", \"#FFA15A\", \"#19d3f3\", \"#FF6692\", \"#B6E880\", \"#FF97FF\", \"#FECB52\"], \"font\": {\"color\": \"#2a3f5f\"}, \"geo\": {\"bgcolor\": \"white\", \"lakecolor\": \"white\", \"landcolor\": \"#E5ECF6\", \"showlakes\": true, \"showland\": true, \"subunitcolor\": \"white\"}, \"hoverlabel\": {\"align\": \"left\"}, \"hovermode\": \"closest\", \"mapbox\": {\"style\": \"light\"}, \"paper_bgcolor\": \"white\", \"plot_bgcolor\": \"#E5ECF6\", \"polar\": {\"angularaxis\": {\"gridcolor\": \"white\", \"linecolor\": \"white\", \"ticks\": \"\"}, \"bgcolor\": \"#E5ECF6\", \"radialaxis\": {\"gridcolor\": \"white\", \"linecolor\": \"white\", \"ticks\": \"\"}}, \"scene\": {\"xaxis\": {\"backgroundcolor\": \"#E5ECF6\", \"gridcolor\": \"white\", \"gridwidth\": 2, \"linecolor\": \"white\", \"showbackground\": true, \"ticks\": \"\", \"zerolinecolor\": \"white\"}, \"yaxis\": {\"backgroundcolor\": \"#E5ECF6\", \"gridcolor\": \"white\", \"gridwidth\": 2, \"linecolor\": \"white\", \"showbackground\": true, \"ticks\": \"\", \"zerolinecolor\": \"white\"}, \"zaxis\": {\"backgroundcolor\": \"#E5ECF6\", \"gridcolor\": \"white\", \"gridwidth\": 2, \"linecolor\": \"white\", \"showbackground\": true, \"ticks\": \"\", \"zerolinecolor\": \"white\"}}, \"shapedefaults\": {\"line\": {\"color\": \"#2a3f5f\"}}, \"ternary\": {\"aaxis\": {\"gridcolor\": \"white\", \"linecolor\": \"white\", \"ticks\": \"\"}, \"baxis\": {\"gridcolor\": \"white\", \"linecolor\": \"white\", \"ticks\": \"\"}, \"bgcolor\": \"#E5ECF6\", \"caxis\": {\"gridcolor\": \"white\", \"linecolor\": \"white\", \"ticks\": \"\"}}, \"title\": {\"x\": 0.05}, \"xaxis\": {\"automargin\": true, \"gridcolor\": \"white\", \"linecolor\": \"white\", \"ticks\": \"\", \"title\": {\"standoff\": 15}, \"zerolinecolor\": \"white\", \"zerolinewidth\": 2}, \"yaxis\": {\"automargin\": true, \"gridcolor\": \"white\", \"linecolor\": \"white\", \"ticks\": \"\", \"title\": {\"standoff\": 15}, \"zerolinecolor\": \"white\", \"zerolinewidth\": 2}}}, \"title\": {\"text\": \"2018 Mortality Ratings Heatmap\"}, \"width\": 830},                        {\"responsive\": true}                    ).then(function(){\n",
       "                            \n",
       "var gd = document.getElementById('6ff2e917-275e-428b-a731-900dec64ed3c');\n",
       "var x = new MutationObserver(function (mutations, observer) {{\n",
       "        var display = window.getComputedStyle(gd).display;\n",
       "        if (!display || display === 'none') {{\n",
       "            console.log([gd, 'removed!']);\n",
       "            Plotly.purge(gd);\n",
       "            observer.disconnect();\n",
       "        }}\n",
       "}});\n",
       "\n",
       "// Listen for the removal of the full notebook cells\n",
       "var notebookContainer = gd.closest('#notebook-container');\n",
       "if (notebookContainer) {{\n",
       "    x.observe(notebookContainer, {childList: true});\n",
       "}}\n",
       "\n",
       "// Listen for the clearing of the current output cell\n",
       "var outputEl = gd.closest('.output');\n",
       "if (outputEl) {{\n",
       "    x.observe(outputEl, {childList: true});\n",
       "}}\n",
       "\n",
       "                        })                };                });            </script>        </div>"
      ]
     },
     "metadata": {},
     "output_type": "display_data"
    }
   ],
   "source": [
    "fig = px.choropleth(df_means_short_mort, locations=\"iso_alpha\",\n",
    "                    color='mortality', # lifeExp is a column of gapminder\n",
    "                    hover_name='country', # column to add to hover information\n",
    "                    #color_continuous_scale=\"Viridis\",\n",
    "                    #range_color=(df_dev1['2019'].min(), df_dev1['2019'].max()))\n",
    "                    color_continuous_scale=px.colors.sequential.Jet)\n",
    "fig.update_layout(\n",
    "    title_text = '2018 Mortality Ratings Heatmap',\n",
    "    geo = {'scope':'europe'},\n",
    "    autosize=False,\n",
    "    width=830,\n",
    "    height=500,\n",
    "    margin=dict(\n",
    "        l=10,\n",
    "        r=30,\n",
    "        b=10,\n",
    "        t=40,\n",
    "        pad=0\n",
    "    ),\n",
    "    paper_bgcolor=\"white\",\n",
    ")\n",
    "fig.show()"
   ]
  },
  {
   "cell_type": "code",
   "execution_count": null,
   "metadata": {},
   "outputs": [],
   "source": []
  },
  {
   "cell_type": "code",
   "execution_count": 30,
   "metadata": {},
   "outputs": [],
   "source": [
    "df_means_short_mort_na = df_means_short_mort.dropna()"
   ]
  },
  {
   "cell_type": "code",
   "execution_count": 31,
   "metadata": {},
   "outputs": [
    {
     "data": {
      "text/html": [
       "<div>\n",
       "<style scoped>\n",
       "    .dataframe tbody tr th:only-of-type {\n",
       "        vertical-align: middle;\n",
       "    }\n",
       "\n",
       "    .dataframe tbody tr th {\n",
       "        vertical-align: top;\n",
       "    }\n",
       "\n",
       "    .dataframe thead th {\n",
       "        text-align: right;\n",
       "    }\n",
       "</style>\n",
       "<table border=\"1\" class=\"dataframe\">\n",
       "  <thead>\n",
       "    <tr style=\"text-align: right;\">\n",
       "      <th></th>\n",
       "      <th>GDP_US_2018</th>\n",
       "    </tr>\n",
       "  </thead>\n",
       "  <tbody>\n",
       "    <tr>\n",
       "      <th>0</th>\n",
       "      <td>51230.0</td>\n",
       "    </tr>\n",
       "    <tr>\n",
       "      <th>1</th>\n",
       "      <td>47293.0</td>\n",
       "    </tr>\n",
       "    <tr>\n",
       "      <th>2</th>\n",
       "      <td>9388.0</td>\n",
       "    </tr>\n",
       "  </tbody>\n",
       "</table>\n",
       "</div>"
      ],
      "text/plain": [
       "   GDP_US_2018\n",
       "0      51230.0\n",
       "1      47293.0\n",
       "2       9388.0"
      ]
     },
     "execution_count": 31,
     "metadata": {},
     "output_type": "execute_result"
    }
   ],
   "source": [
    "df_means_short_mort_na[['GDP_US_2018']].head(3)"
   ]
  },
  {
   "cell_type": "code",
   "execution_count": 32,
   "metadata": {},
   "outputs": [
    {
     "data": {
      "text/html": [
       "<div>\n",
       "<style scoped>\n",
       "    .dataframe tbody tr th:only-of-type {\n",
       "        vertical-align: middle;\n",
       "    }\n",
       "\n",
       "    .dataframe tbody tr th {\n",
       "        vertical-align: top;\n",
       "    }\n",
       "\n",
       "    .dataframe thead th {\n",
       "        text-align: right;\n",
       "    }\n",
       "</style>\n",
       "<table border=\"1\" class=\"dataframe\">\n",
       "  <thead>\n",
       "    <tr style=\"text-align: right;\">\n",
       "      <th></th>\n",
       "      <th>mortality</th>\n",
       "    </tr>\n",
       "  </thead>\n",
       "  <tbody>\n",
       "    <tr>\n",
       "      <th>0</th>\n",
       "      <td>2.9</td>\n",
       "    </tr>\n",
       "    <tr>\n",
       "      <th>1</th>\n",
       "      <td>2.8</td>\n",
       "    </tr>\n",
       "    <tr>\n",
       "      <th>2</th>\n",
       "      <td>5.9</td>\n",
       "    </tr>\n",
       "  </tbody>\n",
       "</table>\n",
       "</div>"
      ],
      "text/plain": [
       "   mortality\n",
       "0        2.9\n",
       "1        2.8\n",
       "2        5.9"
      ]
     },
     "execution_count": 32,
     "metadata": {},
     "output_type": "execute_result"
    }
   ],
   "source": [
    "df_means_short_mort_na[['mortality']].head(3)"
   ]
  },
  {
   "cell_type": "code",
   "execution_count": 33,
   "metadata": {},
   "outputs": [],
   "source": [
    "from sklearn.linear_model import LinearRegression\n",
    "X = df_means_short_mort_na[['GDP_US_2018']]\n",
    "Y = df_means_short_mort_na[['mortality']]\n",
    "linear_regressor = LinearRegression()  # create object for the class\n",
    "linear_regressor.fit(X, Y)  # perform linear regression\n",
    "Y_pred = linear_regressor.predict(X)  # make predictions"
   ]
  },
  {
   "cell_type": "code",
   "execution_count": 34,
   "metadata": {},
   "outputs": [
    {
     "data": {
      "image/png": "[encoded data removed]",
      "text/plain": [
       "<Figure size 432x288 with 1 Axes>"
      ]
     },
     "metadata": {},
     "output_type": "display_data"
    }
   ],
   "source": [
    "plt.scatter(Y,X)\n",
    "plt.plot(Y_pred, X, color='red')\n",
    "plt.title('GDP_US_2018 ~ mortality')\n",
    "plt.xlabel('mortality')\n",
    "plt.ylabel('GDP_US_2018')\n",
    "plt.show()"
   ]
  },
  {
   "cell_type": "markdown",
   "metadata": {},
   "source": [
    "ABOVE: Showing clearly the trajectory of the mortality rate versus GDPperCap"
   ]
  },
  {
   "cell_type": "code",
   "execution_count": 35,
   "metadata": {},
   "outputs": [],
   "source": [
    "from sklearn.linear_model import LinearRegression\n",
    "X = df_means_short_mort_na[['GDP_US_2018']]\n",
    "Y = df_means_short_mort_na[['avg_chronic']]\n",
    "linear_regressor = LinearRegression()  # create object for the class\n",
    "linear_regressor.fit(X, Y)  # perform linear regression\n",
    "Y_pred = linear_regressor.predict(X)  # make predictions"
   ]
  },
  {
   "cell_type": "code",
   "execution_count": 36,
   "metadata": {},
   "outputs": [
    {
     "data": {
      "image/png": "[encoded data removed]",
      "text/plain": [
       "<Figure size 432x288 with 1 Axes>"
      ]
     },
     "metadata": {},
     "output_type": "display_data"
    }
   ],
   "source": [
    "plt.scatter(Y,X)\n",
    "plt.plot(Y_pred, X, color='red')\n",
    "plt.title('GDP_US_2018 ~ avg_chronic')\n",
    "plt.xlabel('avg_chronic')\n",
    "plt.ylabel('GDP_US_2018')\n",
    "plt.show()"
   ]
  },
  {
   "cell_type": "markdown",
   "metadata": {},
   "source": [
    "ABOVE: The least mean square line for GDPperCap ~ Average Chronic Nutrition values virtually matches that of the Mortality numbers. "
   ]
  },
  {
   "cell_type": "code",
   "execution_count": 37,
   "metadata": {},
   "outputs": [],
   "source": [
    "from sklearn.linear_model import LinearRegression\n",
    "X = df_means_short_mort_na[['mortality']]\n",
    "Y = df_means_short_mort_na[['avg_chronic']]\n",
    "linear_regressor = LinearRegression()  # create object for the class\n",
    "linear_regressor.fit(X, Y)  # perform linear regression\n",
    "Y_pred = linear_regressor.predict(X)  # make predictions"
   ]
  },
  {
   "cell_type": "code",
   "execution_count": 38,
   "metadata": {},
   "outputs": [
    {
     "data": {
      "image/png": "[encoded data removed]",
      "text/plain": [
       "<Figure size 432x288 with 1 Axes>"
      ]
     },
     "metadata": {},
     "output_type": "display_data"
    }
   ],
   "source": [
    "plt.scatter(X,Y)\n",
    "plt.plot(X, Y_pred, color='red')\n",
    "plt.title('avg_chronic ~ mortality')\n",
    "plt.xlabel('mortality')\n",
    "plt.ylabel('avg_chronic')\n",
    "plt.show()"
   ]
  },
  {
   "cell_type": "code",
   "execution_count": null,
   "metadata": {},
   "outputs": [],
   "source": []
  },
  {
   "cell_type": "code",
   "execution_count": 39,
   "metadata": {},
   "outputs": [
    {
     "data": {
      "text/html": [
       "<div>\n",
       "<style scoped>\n",
       "    .dataframe tbody tr th:only-of-type {\n",
       "        vertical-align: middle;\n",
       "    }\n",
       "\n",
       "    .dataframe tbody tr th {\n",
       "        vertical-align: top;\n",
       "    }\n",
       "\n",
       "    .dataframe thead th {\n",
       "        text-align: right;\n",
       "    }\n",
       "</style>\n",
       "<table border=\"1\" class=\"dataframe\">\n",
       "  <thead>\n",
       "    <tr style=\"text-align: right;\">\n",
       "      <th>country</th>\n",
       "      <th>Austria</th>\n",
       "      <th>Belgium</th>\n",
       "      <th>Bulgaria</th>\n",
       "      <th>Croatia</th>\n",
       "      <th>Czech Republic</th>\n",
       "      <th>Denmark</th>\n",
       "      <th>Finland</th>\n",
       "      <th>France</th>\n",
       "      <th>Germany</th>\n",
       "      <th>Greece</th>\n",
       "      <th>...</th>\n",
       "      <th>Ireland</th>\n",
       "      <th>Italy</th>\n",
       "      <th>Netherlands</th>\n",
       "      <th>Poland</th>\n",
       "      <th>Portugal</th>\n",
       "      <th>Romania</th>\n",
       "      <th>Slovenia</th>\n",
       "      <th>Spain</th>\n",
       "      <th>Sweden</th>\n",
       "      <th>United Kingdom</th>\n",
       "    </tr>\n",
       "  </thead>\n",
       "  <tbody>\n",
       "    <tr>\n",
       "      <th>count_days_wg</th>\n",
       "      <td>4.799930e+01</td>\n",
       "      <td>6.485581e+01</td>\n",
       "      <td>7.093432e+01</td>\n",
       "      <td>3.296528e+02</td>\n",
       "      <td>1.857414e+02</td>\n",
       "      <td>8.397844e+02</td>\n",
       "      <td>1.765157e+02</td>\n",
       "      <td>1.805208e+02</td>\n",
       "      <td>1.494687e+02</td>\n",
       "      <td>6.728167e+01</td>\n",
       "      <td>...</td>\n",
       "      <td>1.908671e+02</td>\n",
       "      <td>1.424732e+02</td>\n",
       "      <td>7.627273e+01</td>\n",
       "      <td>1.025172e+02</td>\n",
       "      <td>1.075634e+02</td>\n",
       "      <td>2.124232e+02</td>\n",
       "      <td>3.241422e+01</td>\n",
       "      <td>7.621725e+01</td>\n",
       "      <td>1.980598e+02</td>\n",
       "      <td>1.569238e+02</td>\n",
       "    </tr>\n",
       "    <tr>\n",
       "      <th>pop</th>\n",
       "      <td>8.199783e+06</td>\n",
       "      <td>1.039223e+07</td>\n",
       "      <td>7.322858e+06</td>\n",
       "      <td>4.493312e+06</td>\n",
       "      <td>1.022874e+07</td>\n",
       "      <td>5.468120e+06</td>\n",
       "      <td>5.238460e+06</td>\n",
       "      <td>6.108392e+07</td>\n",
       "      <td>8.240100e+07</td>\n",
       "      <td>1.070629e+07</td>\n",
       "      <td>...</td>\n",
       "      <td>4.109086e+06</td>\n",
       "      <td>5.814773e+07</td>\n",
       "      <td>1.657061e+07</td>\n",
       "      <td>3.851824e+07</td>\n",
       "      <td>1.064284e+07</td>\n",
       "      <td>2.227606e+07</td>\n",
       "      <td>2.009245e+06</td>\n",
       "      <td>4.044819e+07</td>\n",
       "      <td>9.031088e+06</td>\n",
       "      <td>6.077624e+07</td>\n",
       "    </tr>\n",
       "    <tr>\n",
       "      <th>count_days_s_pg</th>\n",
       "      <td>8.381505e+02</td>\n",
       "      <td>1.549708e+03</td>\n",
       "      <td>6.988171e+02</td>\n",
       "      <td>5.968000e+03</td>\n",
       "      <td>1.652060e+03</td>\n",
       "      <td>5.171689e+03</td>\n",
       "      <td>1.809371e+03</td>\n",
       "      <td>3.839907e+03</td>\n",
       "      <td>4.245271e+03</td>\n",
       "      <td>1.296013e+03</td>\n",
       "      <td>...</td>\n",
       "      <td>3.754006e+03</td>\n",
       "      <td>2.050957e+03</td>\n",
       "      <td>1.573481e+03</td>\n",
       "      <td>8.024115e+02</td>\n",
       "      <td>1.960271e+03</td>\n",
       "      <td>2.965701e+03</td>\n",
       "      <td>4.070000e+02</td>\n",
       "      <td>9.986078e+02</td>\n",
       "      <td>4.519677e+03</td>\n",
       "      <td>4.221084e+03</td>\n",
       "    </tr>\n",
       "  </tbody>\n",
       "</table>\n",
       "<p>3 rows × 21 columns</p>\n",
       "</div>"
      ],
      "text/plain": [
       "country               Austria       Belgium      Bulgaria       Croatia  \\\n",
       "count_days_wg    4.799930e+01  6.485581e+01  7.093432e+01  3.296528e+02   \n",
       "pop              8.199783e+06  1.039223e+07  7.322858e+06  4.493312e+06   \n",
       "count_days_s_pg  8.381505e+02  1.549708e+03  6.988171e+02  5.968000e+03   \n",
       "\n",
       "country          Czech Republic       Denmark       Finland        France  \\\n",
       "count_days_wg      1.857414e+02  8.397844e+02  1.765157e+02  1.805208e+02   \n",
       "pop                1.022874e+07  5.468120e+06  5.238460e+06  6.108392e+07   \n",
       "count_days_s_pg    1.652060e+03  5.171689e+03  1.809371e+03  3.839907e+03   \n",
       "\n",
       "country               Germany        Greece  ...       Ireland         Italy  \\\n",
       "count_days_wg    1.494687e+02  6.728167e+01  ...  1.908671e+02  1.424732e+02   \n",
       "pop              8.240100e+07  1.070629e+07  ...  4.109086e+06  5.814773e+07   \n",
       "count_days_s_pg  4.245271e+03  1.296013e+03  ...  3.754006e+03  2.050957e+03   \n",
       "\n",
       "country           Netherlands        Poland      Portugal       Romania  \\\n",
       "count_days_wg    7.627273e+01  1.025172e+02  1.075634e+02  2.124232e+02   \n",
       "pop              1.657061e+07  3.851824e+07  1.064284e+07  2.227606e+07   \n",
       "count_days_s_pg  1.573481e+03  8.024115e+02  1.960271e+03  2.965701e+03   \n",
       "\n",
       "country              Slovenia         Spain        Sweden  United Kingdom  \n",
       "count_days_wg    3.241422e+01  7.621725e+01  1.980598e+02    1.569238e+02  \n",
       "pop              2.009245e+06  4.044819e+07  9.031088e+06    6.077624e+07  \n",
       "count_days_s_pg  4.070000e+02  9.986078e+02  4.519677e+03    4.221084e+03  \n",
       "\n",
       "[3 rows x 21 columns]"
      ]
     },
     "execution_count": 39,
     "metadata": {},
     "output_type": "execute_result"
    }
   ],
   "source": [
    "mortality_data_na_ind_piv = pd.pivot_table(df_means_short_mort_na, columns=['country'], aggfunc='mean')\n",
    "mortality_data_na_ind_piv.sample(3)"
   ]
  },
  {
   "cell_type": "code",
   "execution_count": 40,
   "metadata": {},
   "outputs": [
    {
     "data": {
      "image/png": "[encoded data removed]",
      "text/plain": [
       "<Figure size 432x288 with 1 Axes>"
      ]
     },
     "metadata": {},
     "output_type": "display_data"
    }
   ],
   "source": [
    "ax = sns.barplot(x=\"country\", y=\"avg_acute\", data=df_means_short_mort_na.round(2))\n",
    "plt.xticks(rotation=80);"
   ]
  },
  {
   "cell_type": "code",
   "execution_count": 41,
   "metadata": {},
   "outputs": [
    {
     "data": {
      "image/png": "[encoded data removed]",
      "text/plain": [
       "<Figure size 432x288 with 1 Axes>"
      ]
     },
     "metadata": {},
     "output_type": "display_data"
    }
   ],
   "source": [
    "ax = sns.barplot(x=\"country\", y=\"mortality\", data=df_means_short_mort_na.round(2))\n",
    "plt.xticks(rotation=80);"
   ]
  },
  {
   "cell_type": "code",
   "execution_count": 42,
   "metadata": {},
   "outputs": [
    {
     "data": {
      "image/png": "[encoded data removed]",
      "text/plain": [
       "<Figure size 432x288 with 1 Axes>"
      ]
     },
     "metadata": {},
     "output_type": "display_data"
    }
   ],
   "source": [
    "ax = sns.barplot(x=\"country\", y=\"GDP_US_2018\", data=df_means_short_mort_na.round(2))\n",
    "plt.xticks(rotation=80);"
   ]
  },
  {
   "cell_type": "code",
   "execution_count": null,
   "metadata": {},
   "outputs": [],
   "source": []
  },
  {
   "cell_type": "code",
   "execution_count": null,
   "metadata": {},
   "outputs": [],
   "source": []
  },
  {
   "cell_type": "markdown",
   "metadata": {},
   "source": [
    "What real-world problem are you trying to solve? What are the input and output of your analysis?<br>\n",
    "• Literature review (2 points)<br><br>\n",
    "\n",
    "Establish relationship between Mortality Rates, Chronic Nutritional Indicators and National Economic Performance<br><br>\n",
    "\n",
    "We have managed to aggregate data from multiple sources in order to create our visualizations. Unfortunatelty, our nutritional dataset, despite having a large amount of granular data was restricted to European countries. This has caused us to drop the remainder of the world in the short term. We have pulled together data for mortality rates, gross domestic product per person, and average chronic consumption of alcohol as an indicator of poor nutrition.<br><br>\n"
   ]
  },
  {
   "cell_type": "code",
   "execution_count": null,
   "metadata": {},
   "outputs": [],
   "source": []
  },
  {
   "cell_type": "code",
   "execution_count": null,
   "metadata": {},
   "outputs": [],
   "source": []
  },
  {
   "cell_type": "markdown",
   "metadata": {},
   "source": [
    "What other work has been done in this area, and how is your work novel compared to others?<br>\n",
    "• Quality of cleaning (6 points, 2 points each)<br><br>\n",
    "\n",
    "After browsing through peer work, we can see that there are similar plots but they are asking different questions leading to different conclusions from their plots.<br><br>\n",
    "\n",
    "https://datawrapper.dwcdn.net/Gczfa/2/<br>\n",
    "“In the last 27 years, worldwide mortality rates among children under 15 have dropped by more than half”<br>\n",
    "\n",
    "Our practice in aggregating data from disparate datasets helps to set these experiments apart. \n"
   ]
  },
  {
   "cell_type": "code",
   "execution_count": null,
   "metadata": {},
   "outputs": [],
   "source": []
  },
  {
   "cell_type": "markdown",
   "metadata": {},
   "source": [
    "- Data cleaning and type conversion activity. Please share anything unusual you faced during this activity.<br><br>We were fortunate in that we managed to avoid any categorical factor designation issues. Our practice with mapping and applying and pivoting is paying off. We didn't get too entirely sidelined with any special character or value scrubbing issues. The SQL table merging that we did was relatively straightforward. The fact that we are juggling so many different plotting libraries all with their own syntax is a bit frustrating. <br><br>\n",
    "Had to pivot table for time series.<br>\n",
    "Had to merge to DataFrames according to Country Code for choropleth<br>\n",
    "Had to groupby PopulationGroupL2DESC for violinplot<br>\n"
   ]
  },
  {
   "cell_type": "code",
   "execution_count": null,
   "metadata": {},
   "outputs": [],
   "source": []
  },
  {
   "cell_type": "code",
   "execution_count": null,
   "metadata": {},
   "outputs": [],
   "source": []
  },
  {
   "cell_type": "markdown",
   "metadata": {},
   "source": [
    "- What did you do about missing values and why? Handling missing values properly is very important.<br><br>The goal was to try to massage the data into the most complete form possible. Large blocks of missing values did cause us to reduce the trajectory of our ambition to just the European countries. We did have to remove Slovakia due to missing data. We did use the ability to aggregate data and fill missing cells by way of averages. We can show that any deviation in those cases would result in a near zero difference in our conclusions. <br><br>\n",
    "Mortality Data Set<br>\n",
    "2020 had many missing values so it was omitted.<br>\n",
    "na rows where entirely omitted versus filling with mean.<br><br>\n"
   ]
  },
  {
   "cell_type": "code",
   "execution_count": null,
   "metadata": {},
   "outputs": [],
   "source": []
  },
  {
   "cell_type": "code",
   "execution_count": null,
   "metadata": {},
   "outputs": [],
   "source": []
  },
  {
   "cell_type": "markdown",
   "metadata": {},
   "source": [
    "- New feature/attribute creation and data summary statistics and interpretation.<br>\n",
    "• Visualization (8 points, 2 points each)<br><br>\n",
    "\n",
    "We aggregated means across countries in order to compare nutrition and mortality to GDPperCap. "
   ]
  },
  {
   "cell_type": "code",
   "execution_count": null,
   "metadata": {},
   "outputs": [],
   "source": []
  },
  {
   "cell_type": "code",
   "execution_count": null,
   "metadata": {},
   "outputs": [],
   "source": []
  },
  {
   "cell_type": "markdown",
   "metadata": {},
   "source": [
    "- Data visualization activity (box plot, bar plot, violin plot, and pairplot to see relationships and distribution, etc.)."
   ]
  },
  {
   "cell_type": "code",
   "execution_count": 43,
   "metadata": {},
   "outputs": [
    {
     "data": {
      "image/png": "[encoded data removed]",
      "text/plain": [
       "<Figure size 1008x432 with 1 Axes>"
      ]
     },
     "metadata": {},
     "output_type": "display_data"
    }
   ],
   "source": [
    "# Draw a nested barplot by species and sex\n",
    "g = sns.catplot(\n",
    "    data=df_means_short_mort_na, kind=\"bar\",\n",
    "    x=\"country\", y=\"GDP_US_2018\",\n",
    "    ci=\"sd\", palette=\"dark\", alpha=.6,\n",
    ")\n",
    "g.despine(left=True)\n",
    "g.set_axis_labels(\"\", \"avg_acute\")\n",
    "lw = g.ax.lines[0].get_linewidth() # lw of first line\n",
    "plt.setp(g.ax.lines,linewidth=lw)\n",
    "g.fig.set_figheight(6)\n",
    "g.fig.set_figwidth(14)\n",
    "g.set_xticklabels(rotation=80)\n",
    "#g.legend.set_title(\"PopulationGroupL2DESC - avg_chronic\")\n",
    "g.fig.suptitle(\"GDP_US_2018\");"
   ]
  },
  {
   "cell_type": "code",
   "execution_count": 170,
   "metadata": {},
   "outputs": [
    {
     "data": {
      "image/png": "[encoded data removed]",
      "text/plain": [
       "<Figure size 1008x432 with 1 Axes>"
      ]
     },
     "metadata": {},
     "output_type": "display_data"
    }
   ],
   "source": [
    "# Draw a nested barplot by species and sex\n",
    "g = sns.catplot(\n",
    "    data=df_means_short_mort_na, kind=\"bar\",\n",
    "    x=\"country\", y=\"mortality\",\n",
    "    ci=\"sd\", palette=\"dark\", alpha=.6,\n",
    ");\n",
    "g.despine(left=True)\n",
    "g.set_axis_labels(\"\", \"avg_acute\")\n",
    "lw = g.ax.lines[0].get_linewidth() # lw of first line\n",
    "plt.setp(g.ax.lines,linewidth=lw)\n",
    "g.fig.set_figheight(6)\n",
    "g.fig.set_figwidth(14)\n",
    "g.set_xticklabels(rotation=80)\n",
    "#g.legend.set_title(\"PopulationGroupL2DESC - avg_chronic\")\n",
    "g.fig.suptitle(\"Mortality Rates\");"
   ]
  },
  {
   "cell_type": "code",
   "execution_count": 175,
   "metadata": {},
   "outputs": [
    {
     "data": {
      "image/png": "[encoded data removed]",
      "text/plain": [
       "<Figure size 1008x432 with 1 Axes>"
      ]
     },
     "metadata": {},
     "output_type": "display_data"
    }
   ],
   "source": [
    "# Draw a nested barplot by species and sex\n",
    "g = sns.catplot(\n",
    "    data=df_means_short_mort_na, kind=\"bar\",\n",
    "    x=\"country\", y=\"avg_chronic\",\n",
    "    ci=\"sd\", palette=\"dark\", alpha=.6,\n",
    ");\n",
    "g.despine(left=True)\n",
    "g.set_axis_labels(\"\", \"avg_acute\")\n",
    "lw = g.ax.lines[0].get_linewidth() # lw of first line\n",
    "plt.setp(g.ax.lines,linewidth=lw)\n",
    "g.fig.set_figheight(6)\n",
    "g.fig.set_figwidth(14)\n",
    "g.set_xticklabels(rotation=80)\n",
    "#g.legend.set_title(\"PopulationGroupL2DESC - avg_chronic\")\n",
    "g.fig.suptitle(\"Average Chronic Alcohol Consumption\");"
   ]
  },
  {
   "cell_type": "code",
   "execution_count": 44,
   "metadata": {},
   "outputs": [
    {
     "data": {
      "text/html": [
       "<div>\n",
       "<style scoped>\n",
       "    .dataframe tbody tr th:only-of-type {\n",
       "        vertical-align: middle;\n",
       "    }\n",
       "\n",
       "    .dataframe tbody tr th {\n",
       "        vertical-align: top;\n",
       "    }\n",
       "\n",
       "    .dataframe thead th {\n",
       "        text-align: right;\n",
       "    }\n",
       "</style>\n",
       "<table border=\"1\" class=\"dataframe\">\n",
       "  <thead>\n",
       "    <tr style=\"text-align: right;\">\n",
       "      <th></th>\n",
       "      <th>country</th>\n",
       "      <th>con_days</th>\n",
       "      <th>count_days_s_pg</th>\n",
       "      <th>count_days_wg</th>\n",
       "      <th>count_subject_s_pg</th>\n",
       "      <th>count_subject_wg</th>\n",
       "      <th>per_customer</th>\n",
       "      <th>avg_chronic</th>\n",
       "      <th>avg_chronic_bw</th>\n",
       "      <th>avg_acute</th>\n",
       "      <th>continent</th>\n",
       "      <th>lifeExp</th>\n",
       "      <th>pop</th>\n",
       "      <th>gdpPercap</th>\n",
       "      <th>iso_alpha</th>\n",
       "      <th>iso_num</th>\n",
       "      <th>Rank</th>\n",
       "      <th>GDP_US_2018</th>\n",
       "      <th>Country Code</th>\n",
       "      <th>mortality</th>\n",
       "    </tr>\n",
       "  </thead>\n",
       "  <tbody>\n",
       "    <tr>\n",
       "      <th>0</th>\n",
       "      <td>Austria</td>\n",
       "      <td>0.056563</td>\n",
       "      <td>838.150476</td>\n",
       "      <td>47.999302</td>\n",
       "      <td>644.102383</td>\n",
       "      <td>44.212534</td>\n",
       "      <td>0.089112</td>\n",
       "      <td>73.046957</td>\n",
       "      <td>1.195994</td>\n",
       "      <td>112.008878</td>\n",
       "      <td>Europe</td>\n",
       "      <td>79.829</td>\n",
       "      <td>8199783.0</td>\n",
       "      <td>36126.49270</td>\n",
       "      <td>AUT</td>\n",
       "      <td>40.0</td>\n",
       "      <td>15</td>\n",
       "      <td>51230.0</td>\n",
       "      <td>AUT</td>\n",
       "      <td>2.9</td>\n",
       "    </tr>\n",
       "    <tr>\n",
       "      <th>1</th>\n",
       "      <td>Belgium</td>\n",
       "      <td>0.046212</td>\n",
       "      <td>1549.708165</td>\n",
       "      <td>64.855814</td>\n",
       "      <td>747.512983</td>\n",
       "      <td>47.516518</td>\n",
       "      <td>0.074240</td>\n",
       "      <td>53.438021</td>\n",
       "      <td>1.142924</td>\n",
       "      <td>93.155975</td>\n",
       "      <td>Europe</td>\n",
       "      <td>79.441</td>\n",
       "      <td>10392226.0</td>\n",
       "      <td>33692.60508</td>\n",
       "      <td>BEL</td>\n",
       "      <td>56.0</td>\n",
       "      <td>19</td>\n",
       "      <td>47293.0</td>\n",
       "      <td>BEL</td>\n",
       "      <td>2.8</td>\n",
       "    </tr>\n",
       "    <tr>\n",
       "      <th>2</th>\n",
       "      <td>Bulgaria</td>\n",
       "      <td>0.115894</td>\n",
       "      <td>698.817121</td>\n",
       "      <td>70.934321</td>\n",
       "      <td>436.884504</td>\n",
       "      <td>55.121788</td>\n",
       "      <td>0.135376</td>\n",
       "      <td>66.980027</td>\n",
       "      <td>2.090993</td>\n",
       "      <td>76.810736</td>\n",
       "      <td>Europe</td>\n",
       "      <td>73.005</td>\n",
       "      <td>7322858.0</td>\n",
       "      <td>10680.79282</td>\n",
       "      <td>BGR</td>\n",
       "      <td>100.0</td>\n",
       "      <td>73</td>\n",
       "      <td>9388.0</td>\n",
       "      <td>BGR</td>\n",
       "      <td>5.9</td>\n",
       "    </tr>\n",
       "    <tr>\n",
       "      <th>3</th>\n",
       "      <td>Croatia</td>\n",
       "      <td>0.055237</td>\n",
       "      <td>5968.000000</td>\n",
       "      <td>329.652796</td>\n",
       "      <td>2002.000000</td>\n",
       "      <td>191.022371</td>\n",
       "      <td>0.095416</td>\n",
       "      <td>59.993159</td>\n",
       "      <td>0.810003</td>\n",
       "      <td>126.939513</td>\n",
       "      <td>Europe</td>\n",
       "      <td>75.748</td>\n",
       "      <td>4493312.0</td>\n",
       "      <td>14619.22272</td>\n",
       "      <td>HRV</td>\n",
       "      <td>191.0</td>\n",
       "      <td>58</td>\n",
       "      <td>14674.0</td>\n",
       "      <td>HRV</td>\n",
       "      <td>4.1</td>\n",
       "    </tr>\n",
       "    <tr>\n",
       "      <th>5</th>\n",
       "      <td>Czech Republic</td>\n",
       "      <td>0.122537</td>\n",
       "      <td>1652.059854</td>\n",
       "      <td>185.741363</td>\n",
       "      <td>826.029927</td>\n",
       "      <td>135.440389</td>\n",
       "      <td>0.178405</td>\n",
       "      <td>50.392852</td>\n",
       "      <td>1.154393</td>\n",
       "      <td>87.009075</td>\n",
       "      <td>Europe</td>\n",
       "      <td>76.486</td>\n",
       "      <td>10228744.0</td>\n",
       "      <td>22833.30851</td>\n",
       "      <td>CZE</td>\n",
       "      <td>203.0</td>\n",
       "      <td>41</td>\n",
       "      <td>22992.0</td>\n",
       "      <td>CZE</td>\n",
       "      <td>2.5</td>\n",
       "    </tr>\n",
       "    <tr>\n",
       "      <th>6</th>\n",
       "      <td>Denmark</td>\n",
       "      <td>0.175383</td>\n",
       "      <td>5171.688619</td>\n",
       "      <td>839.784372</td>\n",
       "      <td>740.757141</td>\n",
       "      <td>261.996744</td>\n",
       "      <td>0.374534</td>\n",
       "      <td>25.033536</td>\n",
       "      <td>0.634072</td>\n",
       "      <td>54.192655</td>\n",
       "      <td>Europe</td>\n",
       "      <td>78.332</td>\n",
       "      <td>5468120.0</td>\n",
       "      <td>35278.41874</td>\n",
       "      <td>DNK</td>\n",
       "      <td>208.0</td>\n",
       "      <td>11</td>\n",
       "      <td>61834.0</td>\n",
       "      <td>DNK</td>\n",
       "      <td>3.3</td>\n",
       "    </tr>\n",
       "    <tr>\n",
       "      <th>8</th>\n",
       "      <td>Finland</td>\n",
       "      <td>0.097595</td>\n",
       "      <td>1809.371451</td>\n",
       "      <td>176.515678</td>\n",
       "      <td>729.455350</td>\n",
       "      <td>102.629237</td>\n",
       "      <td>0.149774</td>\n",
       "      <td>35.439645</td>\n",
       "      <td>1.045745</td>\n",
       "      <td>57.991373</td>\n",
       "      <td>Europe</td>\n",
       "      <td>79.313</td>\n",
       "      <td>5238460.0</td>\n",
       "      <td>33207.08440</td>\n",
       "      <td>FIN</td>\n",
       "      <td>246.0</td>\n",
       "      <td>16</td>\n",
       "      <td>50136.0</td>\n",
       "      <td>FIN</td>\n",
       "      <td>2.0</td>\n",
       "    </tr>\n",
       "    <tr>\n",
       "      <th>9</th>\n",
       "      <td>France</td>\n",
       "      <td>0.049470</td>\n",
       "      <td>3839.907209</td>\n",
       "      <td>180.520835</td>\n",
       "      <td>892.849334</td>\n",
       "      <td>90.500868</td>\n",
       "      <td>0.111448</td>\n",
       "      <td>31.589019</td>\n",
       "      <td>0.867533</td>\n",
       "      <td>79.437501</td>\n",
       "      <td>Europe</td>\n",
       "      <td>80.657</td>\n",
       "      <td>61083916.0</td>\n",
       "      <td>30470.01670</td>\n",
       "      <td>FRA</td>\n",
       "      <td>250.0</td>\n",
       "      <td>26</td>\n",
       "      <td>41358.0</td>\n",
       "      <td>FRA</td>\n",
       "      <td>3.7</td>\n",
       "    </tr>\n",
       "    <tr>\n",
       "      <th>10</th>\n",
       "      <td>Germany</td>\n",
       "      <td>0.043800</td>\n",
       "      <td>4245.270708</td>\n",
       "      <td>149.468682</td>\n",
       "      <td>1899.874291</td>\n",
       "      <td>105.737947</td>\n",
       "      <td>0.084592</td>\n",
       "      <td>39.269496</td>\n",
       "      <td>1.082497</td>\n",
       "      <td>76.805758</td>\n",
       "      <td>Europe</td>\n",
       "      <td>79.406</td>\n",
       "      <td>82400996.0</td>\n",
       "      <td>32170.37442</td>\n",
       "      <td>DEU</td>\n",
       "      <td>276.0</td>\n",
       "      <td>18</td>\n",
       "      <td>47514.0</td>\n",
       "      <td>DEU</td>\n",
       "      <td>3.3</td>\n",
       "    </tr>\n",
       "    <tr>\n",
       "      <th>11</th>\n",
       "      <td>Greece</td>\n",
       "      <td>0.052654</td>\n",
       "      <td>1296.012974</td>\n",
       "      <td>67.281666</td>\n",
       "      <td>407.809150</td>\n",
       "      <td>42.944691</td>\n",
       "      <td>0.121218</td>\n",
       "      <td>35.815959</td>\n",
       "      <td>1.067678</td>\n",
       "      <td>102.573951</td>\n",
       "      <td>Europe</td>\n",
       "      <td>79.483</td>\n",
       "      <td>10706290.0</td>\n",
       "      <td>27538.41188</td>\n",
       "      <td>GRC</td>\n",
       "      <td>300.0</td>\n",
       "      <td>42</td>\n",
       "      <td>20731.0</td>\n",
       "      <td>GRC</td>\n",
       "      <td>3.5</td>\n",
       "    </tr>\n",
       "    <tr>\n",
       "      <th>12</th>\n",
       "      <td>Hungary</td>\n",
       "      <td>0.113181</td>\n",
       "      <td>1644.425957</td>\n",
       "      <td>154.245702</td>\n",
       "      <td>548.141986</td>\n",
       "      <td>88.992512</td>\n",
       "      <td>0.193549</td>\n",
       "      <td>44.828551</td>\n",
       "      <td>0.637715</td>\n",
       "      <td>94.842838</td>\n",
       "      <td>Europe</td>\n",
       "      <td>73.338</td>\n",
       "      <td>9956108.0</td>\n",
       "      <td>18008.94444</td>\n",
       "      <td>HUN</td>\n",
       "      <td>348.0</td>\n",
       "      <td>53</td>\n",
       "      <td>16264.0</td>\n",
       "      <td>HUN</td>\n",
       "      <td>3.3</td>\n",
       "    </tr>\n",
       "    <tr>\n",
       "      <th>13</th>\n",
       "      <td>Ireland</td>\n",
       "      <td>0.058410</td>\n",
       "      <td>3754.005704</td>\n",
       "      <td>190.867100</td>\n",
       "      <td>722.033425</td>\n",
       "      <td>84.677504</td>\n",
       "      <td>0.125134</td>\n",
       "      <td>35.553160</td>\n",
       "      <td>0.481735</td>\n",
       "      <td>91.483253</td>\n",
       "      <td>Europe</td>\n",
       "      <td>78.885</td>\n",
       "      <td>4109086.0</td>\n",
       "      <td>40675.99635</td>\n",
       "      <td>IRL</td>\n",
       "      <td>372.0</td>\n",
       "      <td>6</td>\n",
       "      <td>79415.0</td>\n",
       "      <td>IRL</td>\n",
       "      <td>2.9</td>\n",
       "    </tr>\n",
       "    <tr>\n",
       "      <th>14</th>\n",
       "      <td>Italy</td>\n",
       "      <td>0.089043</td>\n",
       "      <td>2050.957287</td>\n",
       "      <td>142.473209</td>\n",
       "      <td>683.652429</td>\n",
       "      <td>82.886208</td>\n",
       "      <td>0.150910</td>\n",
       "      <td>39.533670</td>\n",
       "      <td>1.296659</td>\n",
       "      <td>78.350935</td>\n",
       "      <td>Europe</td>\n",
       "      <td>80.546</td>\n",
       "      <td>58147733.0</td>\n",
       "      <td>28569.71970</td>\n",
       "      <td>ITA</td>\n",
       "      <td>380.0</td>\n",
       "      <td>28</td>\n",
       "      <td>34389.0</td>\n",
       "      <td>ITA</td>\n",
       "      <td>2.8</td>\n",
       "    </tr>\n",
       "    <tr>\n",
       "      <th>16</th>\n",
       "      <td>Netherlands</td>\n",
       "      <td>0.053230</td>\n",
       "      <td>1573.480980</td>\n",
       "      <td>76.272731</td>\n",
       "      <td>786.740490</td>\n",
       "      <td>57.907404</td>\n",
       "      <td>0.079754</td>\n",
       "      <td>52.323109</td>\n",
       "      <td>1.124579</td>\n",
       "      <td>88.202058</td>\n",
       "      <td>Europe</td>\n",
       "      <td>79.762</td>\n",
       "      <td>16570613.0</td>\n",
       "      <td>36797.93332</td>\n",
       "      <td>NLD</td>\n",
       "      <td>528.0</td>\n",
       "      <td>14</td>\n",
       "      <td>53583.0</td>\n",
       "      <td>NLD</td>\n",
       "      <td>3.4</td>\n",
       "    </tr>\n",
       "    <tr>\n",
       "      <th>17</th>\n",
       "      <td>Poland</td>\n",
       "      <td>0.145523</td>\n",
       "      <td>802.411544</td>\n",
       "      <td>102.517247</td>\n",
       "      <td>802.411544</td>\n",
       "      <td>102.517247</td>\n",
       "      <td>0.145523</td>\n",
       "      <td>98.016863</td>\n",
       "      <td>2.371023</td>\n",
       "      <td>98.016863</td>\n",
       "      <td>Europe</td>\n",
       "      <td>75.563</td>\n",
       "      <td>38518241.0</td>\n",
       "      <td>15389.92468</td>\n",
       "      <td>POL</td>\n",
       "      <td>616.0</td>\n",
       "      <td>57</td>\n",
       "      <td>15444.0</td>\n",
       "      <td>POL</td>\n",
       "      <td>3.8</td>\n",
       "    </tr>\n",
       "    <tr>\n",
       "      <th>18</th>\n",
       "      <td>Portugal</td>\n",
       "      <td>0.066414</td>\n",
       "      <td>1960.270965</td>\n",
       "      <td>107.563420</td>\n",
       "      <td>1030.512614</td>\n",
       "      <td>79.539068</td>\n",
       "      <td>0.091844</td>\n",
       "      <td>45.091557</td>\n",
       "      <td>1.244116</td>\n",
       "      <td>71.911405</td>\n",
       "      <td>Europe</td>\n",
       "      <td>78.098</td>\n",
       "      <td>10642836.0</td>\n",
       "      <td>20509.64777</td>\n",
       "      <td>PRT</td>\n",
       "      <td>620.0</td>\n",
       "      <td>38</td>\n",
       "      <td>23478.0</td>\n",
       "      <td>PRT</td>\n",
       "      <td>3.0</td>\n",
       "    </tr>\n",
       "    <tr>\n",
       "      <th>19</th>\n",
       "      <td>Romania</td>\n",
       "      <td>0.103380</td>\n",
       "      <td>2965.700624</td>\n",
       "      <td>212.423245</td>\n",
       "      <td>550.583619</td>\n",
       "      <td>84.935257</td>\n",
       "      <td>0.187375</td>\n",
       "      <td>63.684851</td>\n",
       "      <td>1.486243</td>\n",
       "      <td>120.826458</td>\n",
       "      <td>Europe</td>\n",
       "      <td>72.476</td>\n",
       "      <td>22276056.0</td>\n",
       "      <td>10808.47561</td>\n",
       "      <td>ROU</td>\n",
       "      <td>642.0</td>\n",
       "      <td>59</td>\n",
       "      <td>12281.0</td>\n",
       "      <td>ROU</td>\n",
       "      <td>6.2</td>\n",
       "    </tr>\n",
       "    <tr>\n",
       "      <th>21</th>\n",
       "      <td>Slovenia</td>\n",
       "      <td>0.079642</td>\n",
       "      <td>407.000000</td>\n",
       "      <td>32.414216</td>\n",
       "      <td>407.000000</td>\n",
       "      <td>32.414216</td>\n",
       "      <td>0.079642</td>\n",
       "      <td>121.312630</td>\n",
       "      <td>1.699997</td>\n",
       "      <td>121.312630</td>\n",
       "      <td>Europe</td>\n",
       "      <td>77.926</td>\n",
       "      <td>2009245.0</td>\n",
       "      <td>25768.25759</td>\n",
       "      <td>SVN</td>\n",
       "      <td>705.0</td>\n",
       "      <td>36</td>\n",
       "      <td>26005.0</td>\n",
       "      <td>SVN</td>\n",
       "      <td>1.7</td>\n",
       "    </tr>\n",
       "    <tr>\n",
       "      <th>22</th>\n",
       "      <td>Spain</td>\n",
       "      <td>0.082357</td>\n",
       "      <td>998.607801</td>\n",
       "      <td>76.217246</td>\n",
       "      <td>468.386420</td>\n",
       "      <td>54.247584</td>\n",
       "      <td>0.124067</td>\n",
       "      <td>46.476323</td>\n",
       "      <td>1.409627</td>\n",
       "      <td>79.012006</td>\n",
       "      <td>Europe</td>\n",
       "      <td>80.941</td>\n",
       "      <td>40448191.0</td>\n",
       "      <td>28821.06370</td>\n",
       "      <td>ESP</td>\n",
       "      <td>724.0</td>\n",
       "      <td>34</td>\n",
       "      <td>30406.0</td>\n",
       "      <td>ESP</td>\n",
       "      <td>2.6</td>\n",
       "    </tr>\n",
       "    <tr>\n",
       "      <th>23</th>\n",
       "      <td>Sweden</td>\n",
       "      <td>0.048775</td>\n",
       "      <td>4519.677247</td>\n",
       "      <td>198.059755</td>\n",
       "      <td>980.508183</td>\n",
       "      <td>97.837710</td>\n",
       "      <td>0.106747</td>\n",
       "      <td>35.406580</td>\n",
       "      <td>0.690630</td>\n",
       "      <td>100.023876</td>\n",
       "      <td>Europe</td>\n",
       "      <td>80.884</td>\n",
       "      <td>9031088.0</td>\n",
       "      <td>33859.74835</td>\n",
       "      <td>SWE</td>\n",
       "      <td>752.0</td>\n",
       "      <td>13</td>\n",
       "      <td>55767.0</td>\n",
       "      <td>SWE</td>\n",
       "      <td>2.2</td>\n",
       "    </tr>\n",
       "    <tr>\n",
       "      <th>24</th>\n",
       "      <td>United Kingdom</td>\n",
       "      <td>0.039995</td>\n",
       "      <td>4221.084327</td>\n",
       "      <td>156.923815</td>\n",
       "      <td>890.418394</td>\n",
       "      <td>74.677813</td>\n",
       "      <td>0.086683</td>\n",
       "      <td>29.625941</td>\n",
       "      <td>0.997138</td>\n",
       "      <td>76.671543</td>\n",
       "      <td>Europe</td>\n",
       "      <td>79.425</td>\n",
       "      <td>60776238.0</td>\n",
       "      <td>33203.26128</td>\n",
       "      <td>GBR</td>\n",
       "      <td>826.0</td>\n",
       "      <td>24</td>\n",
       "      <td>42526.0</td>\n",
       "      <td>GBR</td>\n",
       "      <td>3.7</td>\n",
       "    </tr>\n",
       "  </tbody>\n",
       "</table>\n",
       "</div>"
      ],
      "text/plain": [
       "           country  con_days  count_days_s_pg  count_days_wg  \\\n",
       "0          Austria  0.056563       838.150476      47.999302   \n",
       "1          Belgium  0.046212      1549.708165      64.855814   \n",
       "2         Bulgaria  0.115894       698.817121      70.934321   \n",
       "3          Croatia  0.055237      5968.000000     329.652796   \n",
       "5   Czech Republic  0.122537      1652.059854     185.741363   \n",
       "6          Denmark  0.175383      5171.688619     839.784372   \n",
       "8          Finland  0.097595      1809.371451     176.515678   \n",
       "9           France  0.049470      3839.907209     180.520835   \n",
       "10         Germany  0.043800      4245.270708     149.468682   \n",
       "11          Greece  0.052654      1296.012974      67.281666   \n",
       "12         Hungary  0.113181      1644.425957     154.245702   \n",
       "13         Ireland  0.058410      3754.005704     190.867100   \n",
       "14           Italy  0.089043      2050.957287     142.473209   \n",
       "16     Netherlands  0.053230      1573.480980      76.272731   \n",
       "17          Poland  0.145523       802.411544     102.517247   \n",
       "18        Portugal  0.066414      1960.270965     107.563420   \n",
       "19         Romania  0.103380      2965.700624     212.423245   \n",
       "21        Slovenia  0.079642       407.000000      32.414216   \n",
       "22           Spain  0.082357       998.607801      76.217246   \n",
       "23          Sweden  0.048775      4519.677247     198.059755   \n",
       "24  United Kingdom  0.039995      4221.084327     156.923815   \n",
       "\n",
       "    count_subject_s_pg  count_subject_wg  per_customer  avg_chronic  \\\n",
       "0           644.102383         44.212534      0.089112    73.046957   \n",
       "1           747.512983         47.516518      0.074240    53.438021   \n",
       "2           436.884504         55.121788      0.135376    66.980027   \n",
       "3          2002.000000        191.022371      0.095416    59.993159   \n",
       "5           826.029927        135.440389      0.178405    50.392852   \n",
       "6           740.757141        261.996744      0.374534    25.033536   \n",
       "8           729.455350        102.629237      0.149774    35.439645   \n",
       "9           892.849334         90.500868      0.111448    31.589019   \n",
       "10         1899.874291        105.737947      0.084592    39.269496   \n",
       "11          407.809150         42.944691      0.121218    35.815959   \n",
       "12          548.141986         88.992512      0.193549    44.828551   \n",
       "13          722.033425         84.677504      0.125134    35.553160   \n",
       "14          683.652429         82.886208      0.150910    39.533670   \n",
       "16          786.740490         57.907404      0.079754    52.323109   \n",
       "17          802.411544        102.517247      0.145523    98.016863   \n",
       "18         1030.512614         79.539068      0.091844    45.091557   \n",
       "19          550.583619         84.935257      0.187375    63.684851   \n",
       "21          407.000000         32.414216      0.079642   121.312630   \n",
       "22          468.386420         54.247584      0.124067    46.476323   \n",
       "23          980.508183         97.837710      0.106747    35.406580   \n",
       "24          890.418394         74.677813      0.086683    29.625941   \n",
       "\n",
       "    avg_chronic_bw   avg_acute continent  lifeExp         pop    gdpPercap  \\\n",
       "0         1.195994  112.008878    Europe   79.829   8199783.0  36126.49270   \n",
       "1         1.142924   93.155975    Europe   79.441  10392226.0  33692.60508   \n",
       "2         2.090993   76.810736    Europe   73.005   7322858.0  10680.79282   \n",
       "3         0.810003  126.939513    Europe   75.748   4493312.0  14619.22272   \n",
       "5         1.154393   87.009075    Europe   76.486  10228744.0  22833.30851   \n",
       "6         0.634072   54.192655    Europe   78.332   5468120.0  35278.41874   \n",
       "8         1.045745   57.991373    Europe   79.313   5238460.0  33207.08440   \n",
       "9         0.867533   79.437501    Europe   80.657  61083916.0  30470.01670   \n",
       "10        1.082497   76.805758    Europe   79.406  82400996.0  32170.37442   \n",
       "11        1.067678  102.573951    Europe   79.483  10706290.0  27538.41188   \n",
       "12        0.637715   94.842838    Europe   73.338   9956108.0  18008.94444   \n",
       "13        0.481735   91.483253    Europe   78.885   4109086.0  40675.99635   \n",
       "14        1.296659   78.350935    Europe   80.546  58147733.0  28569.71970   \n",
       "16        1.124579   88.202058    Europe   79.762  16570613.0  36797.93332   \n",
       "17        2.371023   98.016863    Europe   75.563  38518241.0  15389.92468   \n",
       "18        1.244116   71.911405    Europe   78.098  10642836.0  20509.64777   \n",
       "19        1.486243  120.826458    Europe   72.476  22276056.0  10808.47561   \n",
       "21        1.699997  121.312630    Europe   77.926   2009245.0  25768.25759   \n",
       "22        1.409627   79.012006    Europe   80.941  40448191.0  28821.06370   \n",
       "23        0.690630  100.023876    Europe   80.884   9031088.0  33859.74835   \n",
       "24        0.997138   76.671543    Europe   79.425  60776238.0  33203.26128   \n",
       "\n",
       "   iso_alpha  iso_num Rank  GDP_US_2018 Country Code  mortality  \n",
       "0        AUT     40.0   15      51230.0          AUT        2.9  \n",
       "1        BEL     56.0   19      47293.0          BEL        2.8  \n",
       "2        BGR    100.0   73       9388.0          BGR        5.9  \n",
       "3        HRV    191.0   58      14674.0          HRV        4.1  \n",
       "5        CZE    203.0   41      22992.0          CZE        2.5  \n",
       "6        DNK    208.0   11      61834.0          DNK        3.3  \n",
       "8        FIN    246.0   16      50136.0          FIN        2.0  \n",
       "9        FRA    250.0   26      41358.0          FRA        3.7  \n",
       "10       DEU    276.0   18      47514.0          DEU        3.3  \n",
       "11       GRC    300.0   42      20731.0          GRC        3.5  \n",
       "12       HUN    348.0   53      16264.0          HUN        3.3  \n",
       "13       IRL    372.0    6      79415.0          IRL        2.9  \n",
       "14       ITA    380.0   28      34389.0          ITA        2.8  \n",
       "16       NLD    528.0   14      53583.0          NLD        3.4  \n",
       "17       POL    616.0   57      15444.0          POL        3.8  \n",
       "18       PRT    620.0   38      23478.0          PRT        3.0  \n",
       "19       ROU    642.0   59      12281.0          ROU        6.2  \n",
       "21       SVN    705.0   36      26005.0          SVN        1.7  \n",
       "22       ESP    724.0   34      30406.0          ESP        2.6  \n",
       "23       SWE    752.0   13      55767.0          SWE        2.2  \n",
       "24       GBR    826.0   24      42526.0          GBR        3.7  "
      ]
     },
     "execution_count": 44,
     "metadata": {},
     "output_type": "execute_result"
    }
   ],
   "source": [
    "df_means_short_mort_na"
   ]
  },
  {
   "cell_type": "code",
   "execution_count": 45,
   "metadata": {},
   "outputs": [
    {
     "data": {
      "text/html": [
       "<div>\n",
       "<style scoped>\n",
       "    .dataframe tbody tr th:only-of-type {\n",
       "        vertical-align: middle;\n",
       "    }\n",
       "\n",
       "    .dataframe tbody tr th {\n",
       "        vertical-align: top;\n",
       "    }\n",
       "\n",
       "    .dataframe thead th {\n",
       "        text-align: right;\n",
       "    }\n",
       "</style>\n",
       "<table border=\"1\" class=\"dataframe\">\n",
       "  <thead>\n",
       "    <tr style=\"text-align: right;\">\n",
       "      <th></th>\n",
       "      <th>country</th>\n",
       "      <th>avg_chronic</th>\n",
       "      <th>GDP_US_2018</th>\n",
       "      <th>mortality</th>\n",
       "      <th>lifeExp</th>\n",
       "      <th>pop</th>\n",
       "    </tr>\n",
       "  </thead>\n",
       "  <tbody>\n",
       "    <tr>\n",
       "      <th>0</th>\n",
       "      <td>Austria</td>\n",
       "      <td>73.046957</td>\n",
       "      <td>51230.0</td>\n",
       "      <td>2.9</td>\n",
       "      <td>79.829</td>\n",
       "      <td>8199783.0</td>\n",
       "    </tr>\n",
       "    <tr>\n",
       "      <th>1</th>\n",
       "      <td>Belgium</td>\n",
       "      <td>53.438021</td>\n",
       "      <td>47293.0</td>\n",
       "      <td>2.8</td>\n",
       "      <td>79.441</td>\n",
       "      <td>10392226.0</td>\n",
       "    </tr>\n",
       "    <tr>\n",
       "      <th>2</th>\n",
       "      <td>Bulgaria</td>\n",
       "      <td>66.980027</td>\n",
       "      <td>9388.0</td>\n",
       "      <td>5.9</td>\n",
       "      <td>73.005</td>\n",
       "      <td>7322858.0</td>\n",
       "    </tr>\n",
       "    <tr>\n",
       "      <th>3</th>\n",
       "      <td>Croatia</td>\n",
       "      <td>59.993159</td>\n",
       "      <td>14674.0</td>\n",
       "      <td>4.1</td>\n",
       "      <td>75.748</td>\n",
       "      <td>4493312.0</td>\n",
       "    </tr>\n",
       "    <tr>\n",
       "      <th>5</th>\n",
       "      <td>Czech Republic</td>\n",
       "      <td>50.392852</td>\n",
       "      <td>22992.0</td>\n",
       "      <td>2.5</td>\n",
       "      <td>76.486</td>\n",
       "      <td>10228744.0</td>\n",
       "    </tr>\n",
       "    <tr>\n",
       "      <th>6</th>\n",
       "      <td>Denmark</td>\n",
       "      <td>25.033536</td>\n",
       "      <td>61834.0</td>\n",
       "      <td>3.3</td>\n",
       "      <td>78.332</td>\n",
       "      <td>5468120.0</td>\n",
       "    </tr>\n",
       "    <tr>\n",
       "      <th>8</th>\n",
       "      <td>Finland</td>\n",
       "      <td>35.439645</td>\n",
       "      <td>50136.0</td>\n",
       "      <td>2.0</td>\n",
       "      <td>79.313</td>\n",
       "      <td>5238460.0</td>\n",
       "    </tr>\n",
       "    <tr>\n",
       "      <th>9</th>\n",
       "      <td>France</td>\n",
       "      <td>31.589019</td>\n",
       "      <td>41358.0</td>\n",
       "      <td>3.7</td>\n",
       "      <td>80.657</td>\n",
       "      <td>61083916.0</td>\n",
       "    </tr>\n",
       "    <tr>\n",
       "      <th>10</th>\n",
       "      <td>Germany</td>\n",
       "      <td>39.269496</td>\n",
       "      <td>47514.0</td>\n",
       "      <td>3.3</td>\n",
       "      <td>79.406</td>\n",
       "      <td>82400996.0</td>\n",
       "    </tr>\n",
       "    <tr>\n",
       "      <th>11</th>\n",
       "      <td>Greece</td>\n",
       "      <td>35.815959</td>\n",
       "      <td>20731.0</td>\n",
       "      <td>3.5</td>\n",
       "      <td>79.483</td>\n",
       "      <td>10706290.0</td>\n",
       "    </tr>\n",
       "    <tr>\n",
       "      <th>12</th>\n",
       "      <td>Hungary</td>\n",
       "      <td>44.828551</td>\n",
       "      <td>16264.0</td>\n",
       "      <td>3.3</td>\n",
       "      <td>73.338</td>\n",
       "      <td>9956108.0</td>\n",
       "    </tr>\n",
       "    <tr>\n",
       "      <th>13</th>\n",
       "      <td>Ireland</td>\n",
       "      <td>35.553160</td>\n",
       "      <td>79415.0</td>\n",
       "      <td>2.9</td>\n",
       "      <td>78.885</td>\n",
       "      <td>4109086.0</td>\n",
       "    </tr>\n",
       "    <tr>\n",
       "      <th>14</th>\n",
       "      <td>Italy</td>\n",
       "      <td>39.533670</td>\n",
       "      <td>34389.0</td>\n",
       "      <td>2.8</td>\n",
       "      <td>80.546</td>\n",
       "      <td>58147733.0</td>\n",
       "    </tr>\n",
       "    <tr>\n",
       "      <th>16</th>\n",
       "      <td>Netherlands</td>\n",
       "      <td>52.323109</td>\n",
       "      <td>53583.0</td>\n",
       "      <td>3.4</td>\n",
       "      <td>79.762</td>\n",
       "      <td>16570613.0</td>\n",
       "    </tr>\n",
       "    <tr>\n",
       "      <th>17</th>\n",
       "      <td>Poland</td>\n",
       "      <td>98.016863</td>\n",
       "      <td>15444.0</td>\n",
       "      <td>3.8</td>\n",
       "      <td>75.563</td>\n",
       "      <td>38518241.0</td>\n",
       "    </tr>\n",
       "    <tr>\n",
       "      <th>18</th>\n",
       "      <td>Portugal</td>\n",
       "      <td>45.091557</td>\n",
       "      <td>23478.0</td>\n",
       "      <td>3.0</td>\n",
       "      <td>78.098</td>\n",
       "      <td>10642836.0</td>\n",
       "    </tr>\n",
       "    <tr>\n",
       "      <th>19</th>\n",
       "      <td>Romania</td>\n",
       "      <td>63.684851</td>\n",
       "      <td>12281.0</td>\n",
       "      <td>6.2</td>\n",
       "      <td>72.476</td>\n",
       "      <td>22276056.0</td>\n",
       "    </tr>\n",
       "    <tr>\n",
       "      <th>21</th>\n",
       "      <td>Slovenia</td>\n",
       "      <td>121.312630</td>\n",
       "      <td>26005.0</td>\n",
       "      <td>1.7</td>\n",
       "      <td>77.926</td>\n",
       "      <td>2009245.0</td>\n",
       "    </tr>\n",
       "    <tr>\n",
       "      <th>22</th>\n",
       "      <td>Spain</td>\n",
       "      <td>46.476323</td>\n",
       "      <td>30406.0</td>\n",
       "      <td>2.6</td>\n",
       "      <td>80.941</td>\n",
       "      <td>40448191.0</td>\n",
       "    </tr>\n",
       "    <tr>\n",
       "      <th>23</th>\n",
       "      <td>Sweden</td>\n",
       "      <td>35.406580</td>\n",
       "      <td>55767.0</td>\n",
       "      <td>2.2</td>\n",
       "      <td>80.884</td>\n",
       "      <td>9031088.0</td>\n",
       "    </tr>\n",
       "    <tr>\n",
       "      <th>24</th>\n",
       "      <td>United Kingdom</td>\n",
       "      <td>29.625941</td>\n",
       "      <td>42526.0</td>\n",
       "      <td>3.7</td>\n",
       "      <td>79.425</td>\n",
       "      <td>60776238.0</td>\n",
       "    </tr>\n",
       "  </tbody>\n",
       "</table>\n",
       "</div>"
      ],
      "text/plain": [
       "           country  avg_chronic  GDP_US_2018  mortality  lifeExp         pop\n",
       "0          Austria    73.046957      51230.0        2.9   79.829   8199783.0\n",
       "1          Belgium    53.438021      47293.0        2.8   79.441  10392226.0\n",
       "2         Bulgaria    66.980027       9388.0        5.9   73.005   7322858.0\n",
       "3          Croatia    59.993159      14674.0        4.1   75.748   4493312.0\n",
       "5   Czech Republic    50.392852      22992.0        2.5   76.486  10228744.0\n",
       "6          Denmark    25.033536      61834.0        3.3   78.332   5468120.0\n",
       "8          Finland    35.439645      50136.0        2.0   79.313   5238460.0\n",
       "9           France    31.589019      41358.0        3.7   80.657  61083916.0\n",
       "10         Germany    39.269496      47514.0        3.3   79.406  82400996.0\n",
       "11          Greece    35.815959      20731.0        3.5   79.483  10706290.0\n",
       "12         Hungary    44.828551      16264.0        3.3   73.338   9956108.0\n",
       "13         Ireland    35.553160      79415.0        2.9   78.885   4109086.0\n",
       "14           Italy    39.533670      34389.0        2.8   80.546  58147733.0\n",
       "16     Netherlands    52.323109      53583.0        3.4   79.762  16570613.0\n",
       "17          Poland    98.016863      15444.0        3.8   75.563  38518241.0\n",
       "18        Portugal    45.091557      23478.0        3.0   78.098  10642836.0\n",
       "19         Romania    63.684851      12281.0        6.2   72.476  22276056.0\n",
       "21        Slovenia   121.312630      26005.0        1.7   77.926   2009245.0\n",
       "22           Spain    46.476323      30406.0        2.6   80.941  40448191.0\n",
       "23          Sweden    35.406580      55767.0        2.2   80.884   9031088.0\n",
       "24  United Kingdom    29.625941      42526.0        3.7   79.425  60776238.0"
      ]
     },
     "execution_count": 45,
     "metadata": {},
     "output_type": "execute_result"
    }
   ],
   "source": [
    "df_pair = df_means_short_mort_na[['country','avg_chronic','GDP_US_2018','mortality','lifeExp','pop']]\n",
    "df_pair"
   ]
  },
  {
   "cell_type": "code",
   "execution_count": null,
   "metadata": {},
   "outputs": [],
   "source": []
  },
  {
   "cell_type": "code",
   "execution_count": 46,
   "metadata": {},
   "outputs": [
    {
     "data": {
      "image/png": "[encoded data removed]",
      "text/plain": [
       "<Figure size 900x900 with 20 Axes>"
      ]
     },
     "metadata": {},
     "output_type": "display_data"
    }
   ],
   "source": [
    "#df = sns.load_dataset('tips') \n",
    "# pairplot with hue sex \n",
    "sns.pairplot(df_pair, corner=True) \n",
    "# to show \n",
    "plt.show()"
   ]
  },
  {
   "cell_type": "markdown",
   "metadata": {},
   "source": [
    "- Life expectancy values in this visualization are from 2007.\n",
    "- I'm not getting much from this plotting... added it to fullfill requirements."
   ]
  },
  {
   "cell_type": "code",
   "execution_count": null,
   "metadata": {},
   "outputs": [],
   "source": []
  },
  {
   "cell_type": "code",
   "execution_count": 191,
   "metadata": {},
   "outputs": [
    {
     "data": {
      "text/html": [
       "<div>\n",
       "<style scoped>\n",
       "    .dataframe tbody tr th:only-of-type {\n",
       "        vertical-align: middle;\n",
       "    }\n",
       "\n",
       "    .dataframe tbody tr th {\n",
       "        vertical-align: top;\n",
       "    }\n",
       "\n",
       "    .dataframe thead th {\n",
       "        text-align: right;\n",
       "    }\n",
       "</style>\n",
       "<table border=\"1\" class=\"dataframe\">\n",
       "  <thead>\n",
       "    <tr style=\"text-align: right;\">\n",
       "      <th>country</th>\n",
       "      <th>Austria</th>\n",
       "      <th>Belgium</th>\n",
       "      <th>Bulgaria</th>\n",
       "      <th>Croatia</th>\n",
       "      <th>Czech Republic</th>\n",
       "      <th>Denmark</th>\n",
       "      <th>Finland</th>\n",
       "      <th>France</th>\n",
       "      <th>Germany</th>\n",
       "      <th>Greece</th>\n",
       "      <th>...</th>\n",
       "      <th>Ireland</th>\n",
       "      <th>Italy</th>\n",
       "      <th>Netherlands</th>\n",
       "      <th>Poland</th>\n",
       "      <th>Portugal</th>\n",
       "      <th>Romania</th>\n",
       "      <th>Slovenia</th>\n",
       "      <th>Spain</th>\n",
       "      <th>Sweden</th>\n",
       "      <th>United Kingdom</th>\n",
       "    </tr>\n",
       "  </thead>\n",
       "  <tbody>\n",
       "    <tr>\n",
       "      <th>GDP_US_2018</th>\n",
       "      <td>5.123000e+04</td>\n",
       "      <td>4.729300e+04</td>\n",
       "      <td>9.388000e+03</td>\n",
       "      <td>1.467400e+04</td>\n",
       "      <td>2.299200e+04</td>\n",
       "      <td>6.183400e+04</td>\n",
       "      <td>5.013600e+04</td>\n",
       "      <td>4.135800e+04</td>\n",
       "      <td>4.751400e+04</td>\n",
       "      <td>2.073100e+04</td>\n",
       "      <td>...</td>\n",
       "      <td>7.941500e+04</td>\n",
       "      <td>3.438900e+04</td>\n",
       "      <td>5.358300e+04</td>\n",
       "      <td>1.544400e+04</td>\n",
       "      <td>2.347800e+04</td>\n",
       "      <td>1.228100e+04</td>\n",
       "      <td>2.600500e+04</td>\n",
       "      <td>3.040600e+04</td>\n",
       "      <td>5.576700e+04</td>\n",
       "      <td>4.252600e+04</td>\n",
       "    </tr>\n",
       "    <tr>\n",
       "      <th>avg_chronic</th>\n",
       "      <td>7.304696e+01</td>\n",
       "      <td>5.343802e+01</td>\n",
       "      <td>6.698003e+01</td>\n",
       "      <td>5.999316e+01</td>\n",
       "      <td>5.039285e+01</td>\n",
       "      <td>2.503354e+01</td>\n",
       "      <td>3.543964e+01</td>\n",
       "      <td>3.158902e+01</td>\n",
       "      <td>3.926950e+01</td>\n",
       "      <td>3.581596e+01</td>\n",
       "      <td>...</td>\n",
       "      <td>3.555316e+01</td>\n",
       "      <td>3.953367e+01</td>\n",
       "      <td>5.232311e+01</td>\n",
       "      <td>9.801686e+01</td>\n",
       "      <td>4.509156e+01</td>\n",
       "      <td>6.368485e+01</td>\n",
       "      <td>1.213126e+02</td>\n",
       "      <td>4.647632e+01</td>\n",
       "      <td>3.540658e+01</td>\n",
       "      <td>2.962594e+01</td>\n",
       "    </tr>\n",
       "    <tr>\n",
       "      <th>lifeExp</th>\n",
       "      <td>7.982900e+01</td>\n",
       "      <td>7.944100e+01</td>\n",
       "      <td>7.300500e+01</td>\n",
       "      <td>7.574800e+01</td>\n",
       "      <td>7.648600e+01</td>\n",
       "      <td>7.833200e+01</td>\n",
       "      <td>7.931300e+01</td>\n",
       "      <td>8.065700e+01</td>\n",
       "      <td>7.940600e+01</td>\n",
       "      <td>7.948300e+01</td>\n",
       "      <td>...</td>\n",
       "      <td>7.888500e+01</td>\n",
       "      <td>8.054600e+01</td>\n",
       "      <td>7.976200e+01</td>\n",
       "      <td>7.556300e+01</td>\n",
       "      <td>7.809800e+01</td>\n",
       "      <td>7.247600e+01</td>\n",
       "      <td>7.792600e+01</td>\n",
       "      <td>8.094100e+01</td>\n",
       "      <td>8.088400e+01</td>\n",
       "      <td>7.942500e+01</td>\n",
       "    </tr>\n",
       "    <tr>\n",
       "      <th>mortality</th>\n",
       "      <td>2.900000e+00</td>\n",
       "      <td>2.800000e+00</td>\n",
       "      <td>5.900000e+00</td>\n",
       "      <td>4.100000e+00</td>\n",
       "      <td>2.500000e+00</td>\n",
       "      <td>3.300000e+00</td>\n",
       "      <td>2.000000e+00</td>\n",
       "      <td>3.700000e+00</td>\n",
       "      <td>3.300000e+00</td>\n",
       "      <td>3.500000e+00</td>\n",
       "      <td>...</td>\n",
       "      <td>2.900000e+00</td>\n",
       "      <td>2.800000e+00</td>\n",
       "      <td>3.400000e+00</td>\n",
       "      <td>3.800000e+00</td>\n",
       "      <td>3.000000e+00</td>\n",
       "      <td>6.200000e+00</td>\n",
       "      <td>1.700000e+00</td>\n",
       "      <td>2.600000e+00</td>\n",
       "      <td>2.200000e+00</td>\n",
       "      <td>3.700000e+00</td>\n",
       "    </tr>\n",
       "    <tr>\n",
       "      <th>pop</th>\n",
       "      <td>8.199783e+06</td>\n",
       "      <td>1.039223e+07</td>\n",
       "      <td>7.322858e+06</td>\n",
       "      <td>4.493312e+06</td>\n",
       "      <td>1.022874e+07</td>\n",
       "      <td>5.468120e+06</td>\n",
       "      <td>5.238460e+06</td>\n",
       "      <td>6.108392e+07</td>\n",
       "      <td>8.240100e+07</td>\n",
       "      <td>1.070629e+07</td>\n",
       "      <td>...</td>\n",
       "      <td>4.109086e+06</td>\n",
       "      <td>5.814773e+07</td>\n",
       "      <td>1.657061e+07</td>\n",
       "      <td>3.851824e+07</td>\n",
       "      <td>1.064284e+07</td>\n",
       "      <td>2.227606e+07</td>\n",
       "      <td>2.009245e+06</td>\n",
       "      <td>4.044819e+07</td>\n",
       "      <td>9.031088e+06</td>\n",
       "      <td>6.077624e+07</td>\n",
       "    </tr>\n",
       "  </tbody>\n",
       "</table>\n",
       "<p>5 rows × 21 columns</p>\n",
       "</div>"
      ],
      "text/plain": [
       "country           Austria       Belgium      Bulgaria       Croatia  \\\n",
       "GDP_US_2018  5.123000e+04  4.729300e+04  9.388000e+03  1.467400e+04   \n",
       "avg_chronic  7.304696e+01  5.343802e+01  6.698003e+01  5.999316e+01   \n",
       "lifeExp      7.982900e+01  7.944100e+01  7.300500e+01  7.574800e+01   \n",
       "mortality    2.900000e+00  2.800000e+00  5.900000e+00  4.100000e+00   \n",
       "pop          8.199783e+06  1.039223e+07  7.322858e+06  4.493312e+06   \n",
       "\n",
       "country      Czech Republic       Denmark       Finland        France  \\\n",
       "GDP_US_2018    2.299200e+04  6.183400e+04  5.013600e+04  4.135800e+04   \n",
       "avg_chronic    5.039285e+01  2.503354e+01  3.543964e+01  3.158902e+01   \n",
       "lifeExp        7.648600e+01  7.833200e+01  7.931300e+01  8.065700e+01   \n",
       "mortality      2.500000e+00  3.300000e+00  2.000000e+00  3.700000e+00   \n",
       "pop            1.022874e+07  5.468120e+06  5.238460e+06  6.108392e+07   \n",
       "\n",
       "country           Germany        Greece  ...       Ireland         Italy  \\\n",
       "GDP_US_2018  4.751400e+04  2.073100e+04  ...  7.941500e+04  3.438900e+04   \n",
       "avg_chronic  3.926950e+01  3.581596e+01  ...  3.555316e+01  3.953367e+01   \n",
       "lifeExp      7.940600e+01  7.948300e+01  ...  7.888500e+01  8.054600e+01   \n",
       "mortality    3.300000e+00  3.500000e+00  ...  2.900000e+00  2.800000e+00   \n",
       "pop          8.240100e+07  1.070629e+07  ...  4.109086e+06  5.814773e+07   \n",
       "\n",
       "country       Netherlands        Poland      Portugal       Romania  \\\n",
       "GDP_US_2018  5.358300e+04  1.544400e+04  2.347800e+04  1.228100e+04   \n",
       "avg_chronic  5.232311e+01  9.801686e+01  4.509156e+01  6.368485e+01   \n",
       "lifeExp      7.976200e+01  7.556300e+01  7.809800e+01  7.247600e+01   \n",
       "mortality    3.400000e+00  3.800000e+00  3.000000e+00  6.200000e+00   \n",
       "pop          1.657061e+07  3.851824e+07  1.064284e+07  2.227606e+07   \n",
       "\n",
       "country          Slovenia         Spain        Sweden  United Kingdom  \n",
       "GDP_US_2018  2.600500e+04  3.040600e+04  5.576700e+04    4.252600e+04  \n",
       "avg_chronic  1.213126e+02  4.647632e+01  3.540658e+01    2.962594e+01  \n",
       "lifeExp      7.792600e+01  8.094100e+01  8.088400e+01    7.942500e+01  \n",
       "mortality    1.700000e+00  2.600000e+00  2.200000e+00    3.700000e+00  \n",
       "pop          2.009245e+06  4.044819e+07  9.031088e+06    6.077624e+07  \n",
       "\n",
       "[5 rows x 21 columns]"
      ]
     },
     "execution_count": 191,
     "metadata": {},
     "output_type": "execute_result"
    }
   ],
   "source": [
    "df_piv = pd.pivot_table(df_pair, columns=['country'])\n",
    "df_piv"
   ]
  },
  {
   "cell_type": "code",
   "execution_count": 213,
   "metadata": {},
   "outputs": [
    {
     "data": {
      "image/png": "[encoded data removed]",
      "text/plain": [
       "<Figure size 864x576 with 1 Axes>"
      ]
     },
     "metadata": {},
     "output_type": "display_data"
    }
   ],
   "source": [
    "#fig, ax = plt.subplots(figsize=(12,8));\n",
    "#g = sns.violinplot(data=df_pair, x='GDP_US_2018', y='mortality', hue='country', split=True, height=10, ax=ax)\n",
    "#ax.set_title('GDP_US_2018 / mortality')\n",
    "#ax.set_title('avg_chronic Alcohol Consumption for all Europe')\n",
    "#g.fig.set_figheight(6)\n",
    "#g.fig.set_figwidth(14)\n",
    "#g.fig.suptitle(\"Average Chronic Alcohol Consumption\");\n",
    "\n",
    "\n",
    "fig, ax = plt.subplots(figsize=(12,8));\n",
    "g = sns.violinplot(data=nutrition_data, y='avg_chronic', x='PopulationGroupL2DESC', height=10, ax=ax)\n",
    "#ax.legend(ncol = 2, bbox_to_anchor = (1,1));\n",
    "ax.set_title('PopulationGroupL2DESC / avg_chronic')\n",
    "plt.xticks(rotation=80);\n",
    "#ax.set_xticklabels(rotation=80)\n",
    "#ax.fig.suptitle(\"Violin\")"
   ]
  },
  {
   "cell_type": "markdown",
   "metadata": {},
   "source": [
    "The above violin plot shows that there exists Chronic Alcohol Consumption in toddlers and infants, albeit a bit flatter in all the groups of young children."
   ]
  },
  {
   "cell_type": "code",
   "execution_count": null,
   "metadata": {},
   "outputs": [],
   "source": []
  },
  {
   "cell_type": "markdown",
   "metadata": {},
   "source": [
    "- Describe anything you find in the data after each visualization. (check)"
   ]
  },
  {
   "cell_type": "code",
   "execution_count": null,
   "metadata": {},
   "outputs": [],
   "source": []
  },
  {
   "cell_type": "markdown",
   "metadata": {},
   "source": [
    "- What data visualization helped you understand about data distribution.<br><br>\n",
    "\n",
    "Histograms and barplots are a great place to start. They tend to show large and small conglomerations. <br><br>\n",
    "\n",
    "One of the most enlightening plots was a simple line plot of all the country mortality numbers over time. We could clearly identify the tragedy in Haiti and the conflict in Rwanda. I would have like to normalize those numbers acording to population density but we needed to focus on the task at hand.<br><br>\n",
    "\n",
    "(Please see <font color='orange'>4447-final_project__data_understanding.docx</font> for vastly more amounts of exploration content)"
   ]
  },
  {
   "cell_type": "code",
   "execution_count": null,
   "metadata": {},
   "outputs": [],
   "source": []
  },
  {
   "cell_type": "markdown",
   "metadata": {},
   "source": [
    "- What want done about possible outlier as per data distribution visualization. (Did you confirm with your client whether it is actually an outlier or put a disclosure statement in your notebook if you decided to remove it?)<br><br>\n",
    "\n",
    "We did a high level aggregation of the vast amounts of numbers into means by country in order to answer our research question.  This aggregation eliminated outlier situations.  In our exploration, we did run into situations where we were trying to plot color gradients on choropleth maps. The choropleth world map plot was showing high concentrations in South East Asia. In order to increase the gradient contrast across countries throughout the remaining world, we needed to set the range of the color ramp to essentially push/omit the greatest concentrations out of the range.\n"
   ]
  },
  {
   "cell_type": "code",
   "execution_count": null,
   "metadata": {},
   "outputs": [],
   "source": []
  },
  {
   "cell_type": "code",
   "execution_count": null,
   "metadata": {},
   "outputs": [],
   "source": []
  },
  {
   "cell_type": "code",
   "execution_count": null,
   "metadata": {},
   "outputs": [],
   "source": []
  },
  {
   "cell_type": "code",
   "execution_count": 57,
   "metadata": {},
   "outputs": [],
   "source": []
  },
  {
   "cell_type": "code",
   "execution_count": 66,
   "metadata": {},
   "outputs": [
    {
     "data": {
      "text/html": [
       "<div>\n",
       "<style scoped>\n",
       "    .dataframe tbody tr th:only-of-type {\n",
       "        vertical-align: middle;\n",
       "    }\n",
       "\n",
       "    .dataframe tbody tr th {\n",
       "        vertical-align: top;\n",
       "    }\n",
       "\n",
       "    .dataframe thead th {\n",
       "        text-align: right;\n",
       "    }\n",
       "</style>\n",
       "<table border=\"1\" class=\"dataframe\">\n",
       "  <thead>\n",
       "    <tr style=\"text-align: right;\">\n",
       "      <th></th>\n",
       "      <th>Country Name</th>\n",
       "      <th>Country Code</th>\n",
       "      <th>Indicator Name</th>\n",
       "      <th>Indicator Code</th>\n",
       "      <th>1960</th>\n",
       "      <th>1961</th>\n",
       "      <th>1962</th>\n",
       "      <th>1963</th>\n",
       "      <th>1964</th>\n",
       "      <th>1965</th>\n",
       "      <th>...</th>\n",
       "      <th>2010</th>\n",
       "      <th>2011</th>\n",
       "      <th>2012</th>\n",
       "      <th>2013</th>\n",
       "      <th>2014</th>\n",
       "      <th>2015</th>\n",
       "      <th>2016</th>\n",
       "      <th>2017</th>\n",
       "      <th>2018</th>\n",
       "      <th>2019</th>\n",
       "    </tr>\n",
       "  </thead>\n",
       "  <tbody>\n",
       "    <tr>\n",
       "      <th>124</th>\n",
       "      <td>Korea, Rep.</td>\n",
       "      <td>KOR</td>\n",
       "      <td>Mortality rate, infant (per 1,000 live births)</td>\n",
       "      <td>SP.DYN.IMRT.IN</td>\n",
       "      <td>79.7</td>\n",
       "      <td>76.2</td>\n",
       "      <td>73.0</td>\n",
       "      <td>69.9</td>\n",
       "      <td>66.9</td>\n",
       "      <td>63.7</td>\n",
       "      <td>...</td>\n",
       "      <td>3.5</td>\n",
       "      <td>3.4</td>\n",
       "      <td>3.3</td>\n",
       "      <td>3.2</td>\n",
       "      <td>3.1</td>\n",
       "      <td>3.0</td>\n",
       "      <td>2.9</td>\n",
       "      <td>2.8</td>\n",
       "      <td>2.8</td>\n",
       "      <td>2.7</td>\n",
       "    </tr>\n",
       "    <tr>\n",
       "      <th>175</th>\n",
       "      <td>Norway</td>\n",
       "      <td>NOR</td>\n",
       "      <td>Mortality rate, infant (per 1,000 live births)</td>\n",
       "      <td>SP.DYN.IMRT.IN</td>\n",
       "      <td>18.4</td>\n",
       "      <td>17.9</td>\n",
       "      <td>17.5</td>\n",
       "      <td>17.1</td>\n",
       "      <td>16.6</td>\n",
       "      <td>16.0</td>\n",
       "      <td>...</td>\n",
       "      <td>2.6</td>\n",
       "      <td>2.5</td>\n",
       "      <td>2.4</td>\n",
       "      <td>2.3</td>\n",
       "      <td>2.3</td>\n",
       "      <td>2.2</td>\n",
       "      <td>2.1</td>\n",
       "      <td>2.1</td>\n",
       "      <td>2.0</td>\n",
       "      <td>2.0</td>\n",
       "    </tr>\n",
       "  </tbody>\n",
       "</table>\n",
       "<p>2 rows × 64 columns</p>\n",
       "</div>"
      ],
      "text/plain": [
       "    Country Name Country Code                                  Indicator Name  \\\n",
       "124  Korea, Rep.          KOR  Mortality rate, infant (per 1,000 live births)   \n",
       "175       Norway          NOR  Mortality rate, infant (per 1,000 live births)   \n",
       "\n",
       "     Indicator Code  1960  1961  1962  1963  1964  1965  ...  2010  2011  \\\n",
       "124  SP.DYN.IMRT.IN  79.7  76.2  73.0  69.9  66.9  63.7  ...   3.5   3.4   \n",
       "175  SP.DYN.IMRT.IN  18.4  17.9  17.5  17.1  16.6  16.0  ...   2.6   2.5   \n",
       "\n",
       "     2012  2013  2014  2015  2016  2017  2018  2019  \n",
       "124   3.3   3.2   3.1   3.0   2.9   2.8   2.8   2.7  \n",
       "175   2.4   2.3   2.3   2.2   2.1   2.1   2.0   2.0  \n",
       "\n",
       "[2 rows x 64 columns]"
      ]
     },
     "execution_count": 66,
     "metadata": {},
     "output_type": "execute_result"
    }
   ],
   "source": [
    "mortality_data = pd.read_csv(\"data/HNP_StatsData2.csv\", skiprows=4)\n",
    "mortality_data.drop(columns=['2020'], inplace=True)\n",
    "mortality_data_na = mortality_data.dropna()\n",
    "mortality_data_na.sample(2)"
   ]
  },
  {
   "cell_type": "code",
   "execution_count": 95,
   "metadata": {},
   "outputs": [],
   "source": [
    "mortality_data_na.columns = ['country', 'Country Code', 'Indicator Name', 'Indicator Code',\n",
    "       '1960', '1961', '1962', '1963', '1964', '1965', '1966', '1967', '1968',\n",
    "       '1969', '1970', '1971', '1972', '1973', '1974', '1975', '1976', '1977',\n",
    "       '1978', '1979', '1980', '1981', '1982', '1983', '1984', '1985', '1986',\n",
    "       '1987', '1988', '1989', '1990', '1991', '1992', '1993', '1994', '1995',\n",
    "       '1996', '1997', '1998', '1999', '2000', '2001', '2002', '2003', '2004',\n",
    "       '2005', '2006', '2007', '2008', '2009', '2010', '2011', '2012', '2013',\n",
    "       '2014', '2015', '2016', '2017', '2018', '2019']"
   ]
  },
  {
   "cell_type": "code",
   "execution_count": 96,
   "metadata": {},
   "outputs": [
    {
     "data": {
      "text/plain": [
       "Index(['1960', '1961', '1962', '1963', '1964', '1965', '1966', '1967', '1968',\n",
       "       '1969', '1970', '1971', '1972', '1973', '1974', '1975', '1976', '1977',\n",
       "       '1978', '1979', '1980', '1981', '1982', '1983', '1984', '1985', '1986',\n",
       "       '1987', '1988', '1989', '1990', '1991', '1992', '1993', '1994', '1995',\n",
       "       '1996', '1997', '1998', '1999', '2000', '2001', '2002', '2003', '2004',\n",
       "       '2005', '2006', '2007', '2008', '2009', '2010', '2011', '2012', '2013',\n",
       "       '2014', '2015', '2016', '2017', '2018', '2019'],\n",
       "      dtype='object')"
      ]
     },
     "execution_count": 96,
     "metadata": {},
     "output_type": "execute_result"
    }
   ],
   "source": [
    "mortality_country = mortality_data_na.groupby('country').mean()\n",
    "mortality_country.columns"
   ]
  },
  {
   "cell_type": "code",
   "execution_count": 97,
   "metadata": {},
   "outputs": [
    {
     "data": {
      "text/plain": [
       "country\n",
       "Belgium                 10.908333\n",
       "Samoa                   32.471667\n",
       "Korea, Rep.             23.706667\n",
       "Japan                    7.696667\n",
       "Syrian Arab Republic    42.421667\n",
       "Libya                   52.213333\n",
       "Indonesia               69.581667\n",
       "Jamaica                 28.978333\n",
       "Canada                  10.380000\n",
       "Denmark                  8.393333\n",
       "dtype: float64"
      ]
     },
     "execution_count": 97,
     "metadata": {},
     "output_type": "execute_result"
    }
   ],
   "source": [
    "mortality_means = mortality_country.apply(lambda x:x.mean(), axis='columns')\n",
    "mortality_means.sample(10)"
   ]
  },
  {
   "cell_type": "code",
   "execution_count": 108,
   "metadata": {},
   "outputs": [
    {
     "data": {
      "text/html": [
       "<div>\n",
       "<style scoped>\n",
       "    .dataframe tbody tr th:only-of-type {\n",
       "        vertical-align: middle;\n",
       "    }\n",
       "\n",
       "    .dataframe tbody tr th {\n",
       "        vertical-align: top;\n",
       "    }\n",
       "\n",
       "    .dataframe thead th {\n",
       "        text-align: right;\n",
       "    }\n",
       "</style>\n",
       "<table border=\"1\" class=\"dataframe\">\n",
       "  <thead>\n",
       "    <tr style=\"text-align: right;\">\n",
       "      <th></th>\n",
       "      <th>Mortality</th>\n",
       "    </tr>\n",
       "    <tr>\n",
       "      <th>country</th>\n",
       "      <th></th>\n",
       "    </tr>\n",
       "  </thead>\n",
       "  <tbody>\n",
       "    <tr>\n",
       "      <th>Togo</th>\n",
       "      <td>94.288333</td>\n",
       "    </tr>\n",
       "    <tr>\n",
       "      <th>Trinidad and Tobago</th>\n",
       "      <td>31.061667</td>\n",
       "    </tr>\n",
       "    <tr>\n",
       "      <th>Turkey</th>\n",
       "      <td>68.753333</td>\n",
       "    </tr>\n",
       "    <tr>\n",
       "      <th>Uganda</th>\n",
       "      <td>94.815000</td>\n",
       "    </tr>\n",
       "    <tr>\n",
       "      <th>United Arab Emirates</th>\n",
       "      <td>33.755000</td>\n",
       "    </tr>\n",
       "    <tr>\n",
       "      <th>United Kingdom</th>\n",
       "      <td>10.281667</td>\n",
       "    </tr>\n",
       "    <tr>\n",
       "      <th>United States</th>\n",
       "      <td>11.930000</td>\n",
       "    </tr>\n",
       "    <tr>\n",
       "      <th>Uruguay</th>\n",
       "      <td>27.211667</td>\n",
       "    </tr>\n",
       "    <tr>\n",
       "      <th>Vanuatu</th>\n",
       "      <td>45.405000</td>\n",
       "    </tr>\n",
       "    <tr>\n",
       "      <th>Venezuela, RB</th>\n",
       "      <td>30.290000</td>\n",
       "    </tr>\n",
       "  </tbody>\n",
       "</table>\n",
       "</div>"
      ],
      "text/plain": [
       "                      Mortality\n",
       "country                        \n",
       "Togo                  94.288333\n",
       "Trinidad and Tobago   31.061667\n",
       "Turkey                68.753333\n",
       "Uganda                94.815000\n",
       "United Arab Emirates  33.755000\n",
       "United Kingdom        10.281667\n",
       "United States         11.930000\n",
       "Uruguay               27.211667\n",
       "Vanuatu               45.405000\n",
       "Venezuela, RB         30.290000"
      ]
     },
     "execution_count": 108,
     "metadata": {},
     "output_type": "execute_result"
    }
   ],
   "source": [
    "mortality_means = pd.DataFrame(data=mortality_means, columns=['Mortality'])\n",
    "mortality_means.iloc[100:110, 0:2]"
   ]
  },
  {
   "cell_type": "code",
   "execution_count": 129,
   "metadata": {},
   "outputs": [
    {
     "data": {
      "text/html": [
       "<div>\n",
       "<style scoped>\n",
       "    .dataframe tbody tr th:only-of-type {\n",
       "        vertical-align: middle;\n",
       "    }\n",
       "\n",
       "    .dataframe tbody tr th {\n",
       "        vertical-align: top;\n",
       "    }\n",
       "\n",
       "    .dataframe thead th {\n",
       "        text-align: right;\n",
       "    }\n",
       "</style>\n",
       "<table border=\"1\" class=\"dataframe\">\n",
       "  <thead>\n",
       "    <tr style=\"text-align: right;\">\n",
       "      <th></th>\n",
       "      <th>avg_mort</th>\n",
       "    </tr>\n",
       "    <tr>\n",
       "      <th>country</th>\n",
       "      <th></th>\n",
       "    </tr>\n",
       "  </thead>\n",
       "  <tbody>\n",
       "    <tr>\n",
       "      <th>Algeria</th>\n",
       "      <td>72.088333</td>\n",
       "    </tr>\n",
       "    <tr>\n",
       "      <th>Antigua and Barbuda</th>\n",
       "      <td>17.408333</td>\n",
       "    </tr>\n",
       "    <tr>\n",
       "      <th>Australia</th>\n",
       "      <td>9.540000</td>\n",
       "    </tr>\n",
       "    <tr>\n",
       "      <th>Austria</th>\n",
       "      <td>12.430000</td>\n",
       "    </tr>\n",
       "    <tr>\n",
       "      <th>Bahrain</th>\n",
       "      <td>31.395000</td>\n",
       "    </tr>\n",
       "  </tbody>\n",
       "</table>\n",
       "</div>"
      ],
      "text/plain": [
       "                      avg_mort\n",
       "country                       \n",
       "Algeria              72.088333\n",
       "Antigua and Barbuda  17.408333\n",
       "Australia             9.540000\n",
       "Austria              12.430000\n",
       "Bahrain              31.395000"
      ]
     },
     "execution_count": 129,
     "metadata": {},
     "output_type": "execute_result"
    }
   ],
   "source": [
    "mortality_means.rename(columns={'Mortality': 'avg_mort'}, inplace=True)\n",
    "mortality_means.head()"
   ]
  },
  {
   "cell_type": "code",
   "execution_count": 131,
   "metadata": {},
   "outputs": [],
   "source": [
    "# Merge resultant dataframe from above with mortality\n",
    "means_df = pd.merge(left=temp_df, right=mortality_means, left_on='country', right_on='country').dropna()"
   ]
  },
  {
   "cell_type": "code",
   "execution_count": 135,
   "metadata": {},
   "outputs": [
    {
     "data": {
      "text/html": [
       "<div>\n",
       "<style scoped>\n",
       "    .dataframe tbody tr th:only-of-type {\n",
       "        vertical-align: middle;\n",
       "    }\n",
       "\n",
       "    .dataframe tbody tr th {\n",
       "        vertical-align: top;\n",
       "    }\n",
       "\n",
       "    .dataframe thead th {\n",
       "        text-align: right;\n",
       "    }\n",
       "</style>\n",
       "<table border=\"1\" class=\"dataframe\">\n",
       "  <thead>\n",
       "    <tr style=\"text-align: right;\">\n",
       "      <th></th>\n",
       "      <th>country</th>\n",
       "      <th>dev2015</th>\n",
       "      <th>dev2016</th>\n",
       "      <th>dev2017</th>\n",
       "      <th>con_days</th>\n",
       "      <th>count_days_s_pg</th>\n",
       "      <th>count_days_wg</th>\n",
       "      <th>count_subject_s_pg</th>\n",
       "      <th>count_subject_wg</th>\n",
       "      <th>per_customer</th>\n",
       "      <th>avg_chronic</th>\n",
       "      <th>avg_chronic_bw</th>\n",
       "      <th>avg_acute</th>\n",
       "      <th>avg_mort</th>\n",
       "    </tr>\n",
       "  </thead>\n",
       "  <tbody>\n",
       "    <tr>\n",
       "      <th>11</th>\n",
       "      <td>Poland</td>\n",
       "      <td>6.285604e+10</td>\n",
       "      <td>6.535457e+10</td>\n",
       "      <td>7.533315e+10</td>\n",
       "      <td>0.145523</td>\n",
       "      <td>802.411544</td>\n",
       "      <td>102.517247</td>\n",
       "      <td>802.411544</td>\n",
       "      <td>102.517247</td>\n",
       "      <td>0.145523</td>\n",
       "      <td>98.016863</td>\n",
       "      <td>2.371023</td>\n",
       "      <td>98.016863</td>\n",
       "      <td>18.460000</td>\n",
       "    </tr>\n",
       "    <tr>\n",
       "      <th>10</th>\n",
       "      <td>Netherlands</td>\n",
       "      <td>5.309200e+10</td>\n",
       "      <td>5.322997e+10</td>\n",
       "      <td>6.137167e+10</td>\n",
       "      <td>0.053230</td>\n",
       "      <td>1573.480980</td>\n",
       "      <td>76.272731</td>\n",
       "      <td>786.740490</td>\n",
       "      <td>57.907404</td>\n",
       "      <td>0.079754</td>\n",
       "      <td>52.323109</td>\n",
       "      <td>1.124579</td>\n",
       "      <td>88.202058</td>\n",
       "      <td>7.873333</td>\n",
       "    </tr>\n",
       "    <tr>\n",
       "      <th>12</th>\n",
       "      <td>Portugal</td>\n",
       "      <td>1.179275e+10</td>\n",
       "      <td>1.230826e+10</td>\n",
       "      <td>1.367503e+10</td>\n",
       "      <td>0.066414</td>\n",
       "      <td>1960.270965</td>\n",
       "      <td>107.563420</td>\n",
       "      <td>1030.512614</td>\n",
       "      <td>79.539068</td>\n",
       "      <td>0.091844</td>\n",
       "      <td>45.091557</td>\n",
       "      <td>1.244116</td>\n",
       "      <td>71.911405</td>\n",
       "      <td>23.525000</td>\n",
       "    </tr>\n",
       "    <tr>\n",
       "      <th>15</th>\n",
       "      <td>United Kingdom</td>\n",
       "      <td>1.381636e+11</td>\n",
       "      <td>1.379735e+11</td>\n",
       "      <td>1.466025e+11</td>\n",
       "      <td>0.039995</td>\n",
       "      <td>4221.084327</td>\n",
       "      <td>156.923815</td>\n",
       "      <td>890.418394</td>\n",
       "      <td>74.677813</td>\n",
       "      <td>0.086683</td>\n",
       "      <td>29.625941</td>\n",
       "      <td>0.997138</td>\n",
       "      <td>76.671543</td>\n",
       "      <td>10.281667</td>\n",
       "    </tr>\n",
       "    <tr>\n",
       "      <th>0</th>\n",
       "      <td>Austria</td>\n",
       "      <td>2.212998e+10</td>\n",
       "      <td>2.303838e+10</td>\n",
       "      <td>2.570323e+10</td>\n",
       "      <td>0.056563</td>\n",
       "      <td>838.150476</td>\n",
       "      <td>47.999302</td>\n",
       "      <td>644.102383</td>\n",
       "      <td>44.212534</td>\n",
       "      <td>0.089112</td>\n",
       "      <td>73.046957</td>\n",
       "      <td>1.195994</td>\n",
       "      <td>112.008878</td>\n",
       "      <td>12.430000</td>\n",
       "    </tr>\n",
       "    <tr>\n",
       "      <th>8</th>\n",
       "      <td>Ireland</td>\n",
       "      <td>2.025694e+10</td>\n",
       "      <td>2.172981e+10</td>\n",
       "      <td>2.448018e+10</td>\n",
       "      <td>0.058410</td>\n",
       "      <td>3754.005704</td>\n",
       "      <td>190.867100</td>\n",
       "      <td>722.033425</td>\n",
       "      <td>84.677504</td>\n",
       "      <td>0.125134</td>\n",
       "      <td>35.553160</td>\n",
       "      <td>0.481735</td>\n",
       "      <td>91.483253</td>\n",
       "      <td>10.933333</td>\n",
       "    </tr>\n",
       "    <tr>\n",
       "      <th>6</th>\n",
       "      <td>Greece</td>\n",
       "      <td>1.126046e+10</td>\n",
       "      <td>1.104430e+10</td>\n",
       "      <td>1.253926e+10</td>\n",
       "      <td>0.052654</td>\n",
       "      <td>1296.012974</td>\n",
       "      <td>67.281666</td>\n",
       "      <td>407.809150</td>\n",
       "      <td>42.944691</td>\n",
       "      <td>0.121218</td>\n",
       "      <td>35.815959</td>\n",
       "      <td>1.067678</td>\n",
       "      <td>102.573951</td>\n",
       "      <td>14.343333</td>\n",
       "    </tr>\n",
       "    <tr>\n",
       "      <th>14</th>\n",
       "      <td>Sweden</td>\n",
       "      <td>1.278353e+11</td>\n",
       "      <td>1.336003e+11</td>\n",
       "      <td>1.487469e+11</td>\n",
       "      <td>0.048775</td>\n",
       "      <td>4519.677247</td>\n",
       "      <td>198.059755</td>\n",
       "      <td>980.508183</td>\n",
       "      <td>97.837710</td>\n",
       "      <td>0.106747</td>\n",
       "      <td>35.406580</td>\n",
       "      <td>0.690630</td>\n",
       "      <td>100.023876</td>\n",
       "      <td>6.583333</td>\n",
       "    </tr>\n",
       "    <tr>\n",
       "      <th>13</th>\n",
       "      <td>Romania</td>\n",
       "      <td>2.151141e+10</td>\n",
       "      <td>2.248069e+10</td>\n",
       "      <td>2.654368e+10</td>\n",
       "      <td>0.103380</td>\n",
       "      <td>2965.700624</td>\n",
       "      <td>212.423245</td>\n",
       "      <td>550.583619</td>\n",
       "      <td>84.935257</td>\n",
       "      <td>0.187375</td>\n",
       "      <td>63.684851</td>\n",
       "      <td>1.486243</td>\n",
       "      <td>120.826458</td>\n",
       "      <td>27.168333</td>\n",
       "    </tr>\n",
       "    <tr>\n",
       "      <th>7</th>\n",
       "      <td>Hungary</td>\n",
       "      <td>9.606287e+11</td>\n",
       "      <td>9.848938e+11</td>\n",
       "      <td>1.115520e+12</td>\n",
       "      <td>0.113181</td>\n",
       "      <td>1644.425957</td>\n",
       "      <td>154.245702</td>\n",
       "      <td>548.141986</td>\n",
       "      <td>88.992512</td>\n",
       "      <td>0.193549</td>\n",
       "      <td>44.828551</td>\n",
       "      <td>0.637715</td>\n",
       "      <td>94.842838</td>\n",
       "      <td>18.920000</td>\n",
       "    </tr>\n",
       "  </tbody>\n",
       "</table>\n",
       "</div>"
      ],
      "text/plain": [
       "           country       dev2015       dev2016       dev2017  con_days  \\\n",
       "11          Poland  6.285604e+10  6.535457e+10  7.533315e+10  0.145523   \n",
       "10     Netherlands  5.309200e+10  5.322997e+10  6.137167e+10  0.053230   \n",
       "12        Portugal  1.179275e+10  1.230826e+10  1.367503e+10  0.066414   \n",
       "15  United Kingdom  1.381636e+11  1.379735e+11  1.466025e+11  0.039995   \n",
       "0          Austria  2.212998e+10  2.303838e+10  2.570323e+10  0.056563   \n",
       "8          Ireland  2.025694e+10  2.172981e+10  2.448018e+10  0.058410   \n",
       "6           Greece  1.126046e+10  1.104430e+10  1.253926e+10  0.052654   \n",
       "14          Sweden  1.278353e+11  1.336003e+11  1.487469e+11  0.048775   \n",
       "13         Romania  2.151141e+10  2.248069e+10  2.654368e+10  0.103380   \n",
       "7          Hungary  9.606287e+11  9.848938e+11  1.115520e+12  0.113181   \n",
       "\n",
       "    count_days_s_pg  count_days_wg  count_subject_s_pg  count_subject_wg  \\\n",
       "11       802.411544     102.517247          802.411544        102.517247   \n",
       "10      1573.480980      76.272731          786.740490         57.907404   \n",
       "12      1960.270965     107.563420         1030.512614         79.539068   \n",
       "15      4221.084327     156.923815          890.418394         74.677813   \n",
       "0        838.150476      47.999302          644.102383         44.212534   \n",
       "8       3754.005704     190.867100          722.033425         84.677504   \n",
       "6       1296.012974      67.281666          407.809150         42.944691   \n",
       "14      4519.677247     198.059755          980.508183         97.837710   \n",
       "13      2965.700624     212.423245          550.583619         84.935257   \n",
       "7       1644.425957     154.245702          548.141986         88.992512   \n",
       "\n",
       "    per_customer  avg_chronic  avg_chronic_bw   avg_acute   avg_mort  \n",
       "11      0.145523    98.016863        2.371023   98.016863  18.460000  \n",
       "10      0.079754    52.323109        1.124579   88.202058   7.873333  \n",
       "12      0.091844    45.091557        1.244116   71.911405  23.525000  \n",
       "15      0.086683    29.625941        0.997138   76.671543  10.281667  \n",
       "0       0.089112    73.046957        1.195994  112.008878  12.430000  \n",
       "8       0.125134    35.553160        0.481735   91.483253  10.933333  \n",
       "6       0.121218    35.815959        1.067678  102.573951  14.343333  \n",
       "14      0.106747    35.406580        0.690630  100.023876   6.583333  \n",
       "13      0.187375    63.684851        1.486243  120.826458  27.168333  \n",
       "7       0.193549    44.828551        0.637715   94.842838  18.920000  "
      ]
     },
     "execution_count": 135,
     "metadata": {},
     "output_type": "execute_result"
    }
   ],
   "source": [
    "means_df.sample(10)"
   ]
  },
  {
   "cell_type": "code",
   "execution_count": 136,
   "metadata": {},
   "outputs": [
    {
     "data": {
      "text/html": [
       "<div>\n",
       "<style scoped>\n",
       "    .dataframe tbody tr th:only-of-type {\n",
       "        vertical-align: middle;\n",
       "    }\n",
       "\n",
       "    .dataframe tbody tr th {\n",
       "        vertical-align: top;\n",
       "    }\n",
       "\n",
       "    .dataframe thead th {\n",
       "        text-align: right;\n",
       "    }\n",
       "</style>\n",
       "<table border=\"1\" class=\"dataframe\">\n",
       "  <thead>\n",
       "    <tr style=\"text-align: right;\">\n",
       "      <th></th>\n",
       "      <th>Country Name</th>\n",
       "      <th>Country Code</th>\n",
       "      <th>2015</th>\n",
       "      <th>2016</th>\n",
       "      <th>2017</th>\n",
       "      <th>2018</th>\n",
       "      <th>2019</th>\n",
       "    </tr>\n",
       "  </thead>\n",
       "  <tbody>\n",
       "    <tr>\n",
       "      <th>0</th>\n",
       "      <td>Arab World</td>\n",
       "      <td>ARB</td>\n",
       "      <td>84.171599</td>\n",
       "      <td>84.510171</td>\n",
       "      <td>NaN</td>\n",
       "      <td>NaN</td>\n",
       "      <td>NaN</td>\n",
       "    </tr>\n",
       "    <tr>\n",
       "      <th>1</th>\n",
       "      <td>Arab World</td>\n",
       "      <td>ARB</td>\n",
       "      <td>88.720097</td>\n",
       "      <td>89.308602</td>\n",
       "      <td>90.283638</td>\n",
       "      <td>89.286856</td>\n",
       "      <td>NaN</td>\n",
       "    </tr>\n",
       "    <tr>\n",
       "      <th>2</th>\n",
       "      <td>Arab World</td>\n",
       "      <td>ARB</td>\n",
       "      <td>78.211000</td>\n",
       "      <td>79.065508</td>\n",
       "      <td>81.102134</td>\n",
       "      <td>79.248100</td>\n",
       "      <td>NaN</td>\n",
       "    </tr>\n",
       "    <tr>\n",
       "      <th>3</th>\n",
       "      <td>Arab World</td>\n",
       "      <td>ARB</td>\n",
       "      <td>96.936319</td>\n",
       "      <td>97.290083</td>\n",
       "      <td>97.467915</td>\n",
       "      <td>97.063959</td>\n",
       "      <td>NaN</td>\n",
       "    </tr>\n",
       "    <tr>\n",
       "      <th>4</th>\n",
       "      <td>Arab World</td>\n",
       "      <td>ARB</td>\n",
       "      <td>NaN</td>\n",
       "      <td>NaN</td>\n",
       "      <td>37.165211</td>\n",
       "      <td>NaN</td>\n",
       "      <td>NaN</td>\n",
       "    </tr>\n",
       "    <tr>\n",
       "      <th>...</th>\n",
       "      <td>...</td>\n",
       "      <td>...</td>\n",
       "      <td>...</td>\n",
       "      <td>...</td>\n",
       "      <td>...</td>\n",
       "      <td>...</td>\n",
       "      <td>...</td>\n",
       "    </tr>\n",
       "    <tr>\n",
       "      <th>380155</th>\n",
       "      <td>Zimbabwe</td>\n",
       "      <td>ZWE</td>\n",
       "      <td>14.500000</td>\n",
       "      <td>NaN</td>\n",
       "      <td>NaN</td>\n",
       "      <td>NaN</td>\n",
       "      <td>NaN</td>\n",
       "    </tr>\n",
       "    <tr>\n",
       "      <th>380156</th>\n",
       "      <td>Zimbabwe</td>\n",
       "      <td>ZWE</td>\n",
       "      <td>3.700000</td>\n",
       "      <td>NaN</td>\n",
       "      <td>NaN</td>\n",
       "      <td>NaN</td>\n",
       "      <td>5.4</td>\n",
       "    </tr>\n",
       "    <tr>\n",
       "      <th>380157</th>\n",
       "      <td>Zimbabwe</td>\n",
       "      <td>ZWE</td>\n",
       "      <td>32.400000</td>\n",
       "      <td>NaN</td>\n",
       "      <td>NaN</td>\n",
       "      <td>NaN</td>\n",
       "      <td>33.7</td>\n",
       "    </tr>\n",
       "    <tr>\n",
       "      <th>380158</th>\n",
       "      <td>Zimbabwe</td>\n",
       "      <td>ZWE</td>\n",
       "      <td>59.400000</td>\n",
       "      <td>59.500000</td>\n",
       "      <td>59.500000</td>\n",
       "      <td>59.600000</td>\n",
       "      <td>59.6</td>\n",
       "    </tr>\n",
       "    <tr>\n",
       "      <th>380159</th>\n",
       "      <td>Zimbabwe</td>\n",
       "      <td>ZWE</td>\n",
       "      <td>18000.000000</td>\n",
       "      <td>16000.000000</td>\n",
       "      <td>15000.000000</td>\n",
       "      <td>13000.000000</td>\n",
       "      <td>13000.0</td>\n",
       "    </tr>\n",
       "  </tbody>\n",
       "</table>\n",
       "<p>380160 rows × 7 columns</p>\n",
       "</div>"
      ],
      "text/plain": [
       "       Country Name Country Code          2015          2016          2017  \\\n",
       "0        Arab World          ARB     84.171599     84.510171           NaN   \n",
       "1        Arab World          ARB     88.720097     89.308602     90.283638   \n",
       "2        Arab World          ARB     78.211000     79.065508     81.102134   \n",
       "3        Arab World          ARB     96.936319     97.290083     97.467915   \n",
       "4        Arab World          ARB           NaN           NaN     37.165211   \n",
       "...             ...          ...           ...           ...           ...   \n",
       "380155     Zimbabwe          ZWE     14.500000           NaN           NaN   \n",
       "380156     Zimbabwe          ZWE      3.700000           NaN           NaN   \n",
       "380157     Zimbabwe          ZWE     32.400000           NaN           NaN   \n",
       "380158     Zimbabwe          ZWE     59.400000     59.500000     59.500000   \n",
       "380159     Zimbabwe          ZWE  18000.000000  16000.000000  15000.000000   \n",
       "\n",
       "                2018     2019  \n",
       "0                NaN      NaN  \n",
       "1          89.286856      NaN  \n",
       "2          79.248100      NaN  \n",
       "3          97.063959      NaN  \n",
       "4                NaN      NaN  \n",
       "...              ...      ...  \n",
       "380155           NaN      NaN  \n",
       "380156           NaN      5.4  \n",
       "380157           NaN     33.7  \n",
       "380158     59.600000     59.6  \n",
       "380159  13000.000000  13000.0  \n",
       "\n",
       "[380160 rows x 7 columns]"
      ]
     },
     "execution_count": 136,
     "metadata": {},
     "output_type": "execute_result"
    }
   ],
   "source": [
    "dev_data = pd.read_csv(\"data/WDIData.csv\", \n",
    "                       usecols=[\"Country Name\", \"Country Code\", \"2015\", \"2016\", \"2017\", \"2018\", \"2019\"]) \n",
    "\n",
    "dev_data\n"
   ]
  },
  {
   "cell_type": "code",
   "execution_count": 137,
   "metadata": {},
   "outputs": [],
   "source": [
    "dev_data.columns = ['country', 'Country Code', '2015', '2016', '2017', '2018', '2019']"
   ]
  },
  {
   "cell_type": "code",
   "execution_count": 138,
   "metadata": {},
   "outputs": [
    {
     "data": {
      "text/html": [
       "<div>\n",
       "<style scoped>\n",
       "    .dataframe tbody tr th:only-of-type {\n",
       "        vertical-align: middle;\n",
       "    }\n",
       "\n",
       "    .dataframe tbody tr th {\n",
       "        vertical-align: top;\n",
       "    }\n",
       "\n",
       "    .dataframe thead th {\n",
       "        text-align: right;\n",
       "    }\n",
       "</style>\n",
       "<table border=\"1\" class=\"dataframe\">\n",
       "  <thead>\n",
       "    <tr style=\"text-align: right;\">\n",
       "      <th></th>\n",
       "      <th>dev2015</th>\n",
       "      <th>dev2016</th>\n",
       "      <th>dev2017</th>\n",
       "    </tr>\n",
       "    <tr>\n",
       "      <th>country</th>\n",
       "      <th></th>\n",
       "      <th></th>\n",
       "      <th></th>\n",
       "    </tr>\n",
       "  </thead>\n",
       "  <tbody>\n",
       "    <tr>\n",
       "      <th>Afghanistan</th>\n",
       "      <td>2.208212e+10</td>\n",
       "      <td>2.363952e+10</td>\n",
       "      <td>2.535309e+10</td>\n",
       "    </tr>\n",
       "    <tr>\n",
       "      <th>Albania</th>\n",
       "      <td>3.438774e+10</td>\n",
       "      <td>3.513171e+10</td>\n",
       "      <td>3.307015e+10</td>\n",
       "    </tr>\n",
       "    <tr>\n",
       "      <th>Algeria</th>\n",
       "      <td>3.304549e+11</td>\n",
       "      <td>3.412238e+11</td>\n",
       "      <td>3.730634e+11</td>\n",
       "    </tr>\n",
       "    <tr>\n",
       "      <th>American Samoa</th>\n",
       "      <td>7.885675e+07</td>\n",
       "      <td>7.982978e+07</td>\n",
       "      <td>7.865861e+07</td>\n",
       "    </tr>\n",
       "    <tr>\n",
       "      <th>Andorra</th>\n",
       "      <td>9.201381e+07</td>\n",
       "      <td>9.468074e+07</td>\n",
       "      <td>1.111336e+08</td>\n",
       "    </tr>\n",
       "    <tr>\n",
       "      <th>...</th>\n",
       "      <td>...</td>\n",
       "      <td>...</td>\n",
       "      <td>...</td>\n",
       "    </tr>\n",
       "    <tr>\n",
       "      <th>West Bank and Gaza</th>\n",
       "      <td>8.795096e+08</td>\n",
       "      <td>9.017496e+08</td>\n",
       "      <td>9.845764e+08</td>\n",
       "    </tr>\n",
       "    <tr>\n",
       "      <th>World</th>\n",
       "      <td>2.923096e+12</td>\n",
       "      <td>2.985486e+12</td>\n",
       "      <td>3.267727e+12</td>\n",
       "    </tr>\n",
       "    <tr>\n",
       "      <th>Yemen, Rep.</th>\n",
       "      <td>7.540747e+10</td>\n",
       "      <td>7.136436e+10</td>\n",
       "      <td>1.067720e+11</td>\n",
       "    </tr>\n",
       "    <tr>\n",
       "      <th>Zambia</th>\n",
       "      <td>3.877185e+09</td>\n",
       "      <td>4.303499e+09</td>\n",
       "      <td>5.002193e+09</td>\n",
       "    </tr>\n",
       "    <tr>\n",
       "      <th>Zimbabwe</th>\n",
       "      <td>1.144381e+09</td>\n",
       "      <td>1.192266e+09</td>\n",
       "      <td>1.310517e+09</td>\n",
       "    </tr>\n",
       "  </tbody>\n",
       "</table>\n",
       "<p>264 rows × 3 columns</p>\n",
       "</div>"
      ],
      "text/plain": [
       "                         dev2015       dev2016       dev2017\n",
       "country                                                     \n",
       "Afghanistan         2.208212e+10  2.363952e+10  2.535309e+10\n",
       "Albania             3.438774e+10  3.513171e+10  3.307015e+10\n",
       "Algeria             3.304549e+11  3.412238e+11  3.730634e+11\n",
       "American Samoa      7.885675e+07  7.982978e+07  7.865861e+07\n",
       "Andorra             9.201381e+07  9.468074e+07  1.111336e+08\n",
       "...                          ...           ...           ...\n",
       "West Bank and Gaza  8.795096e+08  9.017496e+08  9.845764e+08\n",
       "World               2.923096e+12  2.985486e+12  3.267727e+12\n",
       "Yemen, Rep.         7.540747e+10  7.136436e+10  1.067720e+11\n",
       "Zambia              3.877185e+09  4.303499e+09  5.002193e+09\n",
       "Zimbabwe            1.144381e+09  1.192266e+09  1.310517e+09\n",
       "\n",
       "[264 rows x 3 columns]"
      ]
     },
     "execution_count": 138,
     "metadata": {},
     "output_type": "execute_result"
    }
   ],
   "source": [
    "dev_means = dev_data[['country', '2015', '2016', '2017']].groupby('country').mean()\n",
    "dev_means.columns = ['dev2015','dev2016','dev2017']\n",
    "dev_means"
   ]
  },
  {
   "cell_type": "code",
   "execution_count": 150,
   "metadata": {},
   "outputs": [
    {
     "data": {
      "text/html": [
       "<div>\n",
       "<style scoped>\n",
       "    .dataframe tbody tr th:only-of-type {\n",
       "        vertical-align: middle;\n",
       "    }\n",
       "\n",
       "    .dataframe tbody tr th {\n",
       "        vertical-align: top;\n",
       "    }\n",
       "\n",
       "    .dataframe thead th {\n",
       "        text-align: right;\n",
       "    }\n",
       "</style>\n",
       "<table border=\"1\" class=\"dataframe\">\n",
       "  <thead>\n",
       "    <tr style=\"text-align: right;\">\n",
       "      <th></th>\n",
       "      <th>country</th>\n",
       "      <th>dev2015</th>\n",
       "      <th>dev2016</th>\n",
       "      <th>dev2017</th>\n",
       "      <th>con_days</th>\n",
       "      <th>count_days_s_pg</th>\n",
       "      <th>count_days_wg</th>\n",
       "      <th>count_subject_s_pg</th>\n",
       "      <th>count_subject_wg</th>\n",
       "      <th>per_customer</th>\n",
       "      <th>avg_chronic</th>\n",
       "      <th>avg_chronic_bw</th>\n",
       "      <th>avg_acute</th>\n",
       "    </tr>\n",
       "  </thead>\n",
       "  <tbody>\n",
       "    <tr>\n",
       "      <th>0</th>\n",
       "      <td>Austria</td>\n",
       "      <td>2.212998e+10</td>\n",
       "      <td>2.303838e+10</td>\n",
       "      <td>2.570323e+10</td>\n",
       "      <td>0.056563</td>\n",
       "      <td>838.150476</td>\n",
       "      <td>47.999302</td>\n",
       "      <td>644.102383</td>\n",
       "      <td>44.212534</td>\n",
       "      <td>0.089112</td>\n",
       "      <td>73.046957</td>\n",
       "      <td>1.195994</td>\n",
       "      <td>112.008878</td>\n",
       "    </tr>\n",
       "    <tr>\n",
       "      <th>1</th>\n",
       "      <td>Belgium</td>\n",
       "      <td>3.077947e+10</td>\n",
       "      <td>3.165766e+10</td>\n",
       "      <td>3.489330e+10</td>\n",
       "      <td>0.046212</td>\n",
       "      <td>1549.708165</td>\n",
       "      <td>64.855814</td>\n",
       "      <td>747.512983</td>\n",
       "      <td>47.516518</td>\n",
       "      <td>0.074240</td>\n",
       "      <td>53.438021</td>\n",
       "      <td>1.142924</td>\n",
       "      <td>93.155975</td>\n",
       "    </tr>\n",
       "    <tr>\n",
       "      <th>2</th>\n",
       "      <td>Bulgaria</td>\n",
       "      <td>4.620747e+09</td>\n",
       "      <td>4.794953e+09</td>\n",
       "      <td>5.360640e+09</td>\n",
       "      <td>0.115894</td>\n",
       "      <td>698.817121</td>\n",
       "      <td>70.934321</td>\n",
       "      <td>436.884504</td>\n",
       "      <td>55.121788</td>\n",
       "      <td>0.135376</td>\n",
       "      <td>66.980027</td>\n",
       "      <td>2.090993</td>\n",
       "      <td>76.810736</td>\n",
       "    </tr>\n",
       "    <tr>\n",
       "      <th>3</th>\n",
       "      <td>Croatia</td>\n",
       "      <td>1.111149e+10</td>\n",
       "      <td>1.144908e+10</td>\n",
       "      <td>1.282938e+10</td>\n",
       "      <td>0.055237</td>\n",
       "      <td>5968.000000</td>\n",
       "      <td>329.652796</td>\n",
       "      <td>2002.000000</td>\n",
       "      <td>191.022371</td>\n",
       "      <td>0.095416</td>\n",
       "      <td>59.993159</td>\n",
       "      <td>0.810003</td>\n",
       "      <td>126.939513</td>\n",
       "    </tr>\n",
       "    <tr>\n",
       "      <th>4</th>\n",
       "      <td>Cyprus</td>\n",
       "      <td>1.509911e+09</td>\n",
       "      <td>1.406940e+09</td>\n",
       "      <td>1.742054e+09</td>\n",
       "      <td>0.078788</td>\n",
       "      <td>909.000000</td>\n",
       "      <td>71.617841</td>\n",
       "      <td>303.000000</td>\n",
       "      <td>46.550661</td>\n",
       "      <td>0.153633</td>\n",
       "      <td>45.526776</td>\n",
       "      <td>0.906919</td>\n",
       "      <td>109.515371</td>\n",
       "    </tr>\n",
       "    <tr>\n",
       "      <th>5</th>\n",
       "      <td>Czech Republic</td>\n",
       "      <td>1.328217e+11</td>\n",
       "      <td>1.369600e+11</td>\n",
       "      <td>1.547561e+11</td>\n",
       "      <td>0.122537</td>\n",
       "      <td>1652.059854</td>\n",
       "      <td>185.741363</td>\n",
       "      <td>826.029927</td>\n",
       "      <td>135.440389</td>\n",
       "      <td>0.178405</td>\n",
       "      <td>50.392852</td>\n",
       "      <td>1.154393</td>\n",
       "      <td>87.009075</td>\n",
       "    </tr>\n",
       "    <tr>\n",
       "      <th>6</th>\n",
       "      <td>Denmark</td>\n",
       "      <td>6.812738e+10</td>\n",
       "      <td>7.076457e+10</td>\n",
       "      <td>7.873592e+10</td>\n",
       "      <td>0.175383</td>\n",
       "      <td>5171.688619</td>\n",
       "      <td>839.784372</td>\n",
       "      <td>740.757141</td>\n",
       "      <td>261.996744</td>\n",
       "      <td>0.374534</td>\n",
       "      <td>25.033536</td>\n",
       "      <td>0.634072</td>\n",
       "      <td>54.192655</td>\n",
       "    </tr>\n",
       "    <tr>\n",
       "      <th>7</th>\n",
       "      <td>Estonia</td>\n",
       "      <td>1.514353e+09</td>\n",
       "      <td>1.560990e+09</td>\n",
       "      <td>1.782942e+09</td>\n",
       "      <td>0.068162</td>\n",
       "      <td>1461.569266</td>\n",
       "      <td>82.054666</td>\n",
       "      <td>803.924354</td>\n",
       "      <td>65.238456</td>\n",
       "      <td>0.097204</td>\n",
       "      <td>48.492113</td>\n",
       "      <td>1.274426</td>\n",
       "      <td>76.531734</td>\n",
       "    </tr>\n",
       "    <tr>\n",
       "      <th>8</th>\n",
       "      <td>Finland</td>\n",
       "      <td>1.272198e+10</td>\n",
       "      <td>1.325847e+10</td>\n",
       "      <td>1.434894e+10</td>\n",
       "      <td>0.097595</td>\n",
       "      <td>1809.371451</td>\n",
       "      <td>176.515678</td>\n",
       "      <td>729.455350</td>\n",
       "      <td>102.629237</td>\n",
       "      <td>0.149774</td>\n",
       "      <td>35.439645</td>\n",
       "      <td>1.045745</td>\n",
       "      <td>57.991373</td>\n",
       "    </tr>\n",
       "    <tr>\n",
       "      <th>9</th>\n",
       "      <td>France</td>\n",
       "      <td>1.396048e+11</td>\n",
       "      <td>1.425134e+11</td>\n",
       "      <td>1.567669e+11</td>\n",
       "      <td>0.049470</td>\n",
       "      <td>3839.907209</td>\n",
       "      <td>180.520835</td>\n",
       "      <td>892.849334</td>\n",
       "      <td>90.500868</td>\n",
       "      <td>0.111448</td>\n",
       "      <td>31.589019</td>\n",
       "      <td>0.867533</td>\n",
       "      <td>79.437501</td>\n",
       "    </tr>\n",
       "    <tr>\n",
       "      <th>10</th>\n",
       "      <td>Germany</td>\n",
       "      <td>1.937600e+11</td>\n",
       "      <td>1.971381e+11</td>\n",
       "      <td>2.354659e+11</td>\n",
       "      <td>0.043800</td>\n",
       "      <td>4245.270708</td>\n",
       "      <td>149.468682</td>\n",
       "      <td>1899.874291</td>\n",
       "      <td>105.737947</td>\n",
       "      <td>0.084592</td>\n",
       "      <td>39.269496</td>\n",
       "      <td>1.082497</td>\n",
       "      <td>76.805758</td>\n",
       "    </tr>\n",
       "    <tr>\n",
       "      <th>11</th>\n",
       "      <td>Greece</td>\n",
       "      <td>1.126046e+10</td>\n",
       "      <td>1.104430e+10</td>\n",
       "      <td>1.253926e+10</td>\n",
       "      <td>0.052654</td>\n",
       "      <td>1296.012974</td>\n",
       "      <td>67.281666</td>\n",
       "      <td>407.809150</td>\n",
       "      <td>42.944691</td>\n",
       "      <td>0.121218</td>\n",
       "      <td>35.815959</td>\n",
       "      <td>1.067678</td>\n",
       "      <td>102.573951</td>\n",
       "    </tr>\n",
       "    <tr>\n",
       "      <th>12</th>\n",
       "      <td>Hungary</td>\n",
       "      <td>9.606287e+11</td>\n",
       "      <td>9.848938e+11</td>\n",
       "      <td>1.115520e+12</td>\n",
       "      <td>0.113181</td>\n",
       "      <td>1644.425957</td>\n",
       "      <td>154.245702</td>\n",
       "      <td>548.141986</td>\n",
       "      <td>88.992512</td>\n",
       "      <td>0.193549</td>\n",
       "      <td>44.828551</td>\n",
       "      <td>0.637715</td>\n",
       "      <td>94.842838</td>\n",
       "    </tr>\n",
       "    <tr>\n",
       "      <th>13</th>\n",
       "      <td>Ireland</td>\n",
       "      <td>2.025694e+10</td>\n",
       "      <td>2.172981e+10</td>\n",
       "      <td>2.448018e+10</td>\n",
       "      <td>0.058410</td>\n",
       "      <td>3754.005704</td>\n",
       "      <td>190.867100</td>\n",
       "      <td>722.033425</td>\n",
       "      <td>84.677504</td>\n",
       "      <td>0.125134</td>\n",
       "      <td>35.553160</td>\n",
       "      <td>0.481735</td>\n",
       "      <td>91.483253</td>\n",
       "    </tr>\n",
       "    <tr>\n",
       "      <th>14</th>\n",
       "      <td>Italy</td>\n",
       "      <td>9.904950e+10</td>\n",
       "      <td>1.027422e+11</td>\n",
       "      <td>1.111255e+11</td>\n",
       "      <td>0.089043</td>\n",
       "      <td>2050.957287</td>\n",
       "      <td>142.473209</td>\n",
       "      <td>683.652429</td>\n",
       "      <td>82.886208</td>\n",
       "      <td>0.150910</td>\n",
       "      <td>39.533670</td>\n",
       "      <td>1.296659</td>\n",
       "      <td>78.350935</td>\n",
       "    </tr>\n",
       "    <tr>\n",
       "      <th>15</th>\n",
       "      <td>Latvia</td>\n",
       "      <td>1.679994e+09</td>\n",
       "      <td>1.697620e+09</td>\n",
       "      <td>1.982185e+09</td>\n",
       "      <td>0.069195</td>\n",
       "      <td>1331.668256</td>\n",
       "      <td>81.615922</td>\n",
       "      <td>694.650352</td>\n",
       "      <td>63.786006</td>\n",
       "      <td>0.103256</td>\n",
       "      <td>53.326142</td>\n",
       "      <td>1.491742</td>\n",
       "      <td>92.339423</td>\n",
       "    </tr>\n",
       "    <tr>\n",
       "      <th>16</th>\n",
       "      <td>Netherlands</td>\n",
       "      <td>5.309200e+10</td>\n",
       "      <td>5.322997e+10</td>\n",
       "      <td>6.137167e+10</td>\n",
       "      <td>0.053230</td>\n",
       "      <td>1573.480980</td>\n",
       "      <td>76.272731</td>\n",
       "      <td>786.740490</td>\n",
       "      <td>57.907404</td>\n",
       "      <td>0.079754</td>\n",
       "      <td>52.323109</td>\n",
       "      <td>1.124579</td>\n",
       "      <td>88.202058</td>\n",
       "    </tr>\n",
       "    <tr>\n",
       "      <th>17</th>\n",
       "      <td>Poland</td>\n",
       "      <td>6.285604e+10</td>\n",
       "      <td>6.535457e+10</td>\n",
       "      <td>7.533315e+10</td>\n",
       "      <td>0.145523</td>\n",
       "      <td>802.411544</td>\n",
       "      <td>102.517247</td>\n",
       "      <td>802.411544</td>\n",
       "      <td>102.517247</td>\n",
       "      <td>0.145523</td>\n",
       "      <td>98.016863</td>\n",
       "      <td>2.371023</td>\n",
       "      <td>98.016863</td>\n",
       "    </tr>\n",
       "    <tr>\n",
       "      <th>18</th>\n",
       "      <td>Portugal</td>\n",
       "      <td>1.179275e+10</td>\n",
       "      <td>1.230826e+10</td>\n",
       "      <td>1.367503e+10</td>\n",
       "      <td>0.066414</td>\n",
       "      <td>1960.270965</td>\n",
       "      <td>107.563420</td>\n",
       "      <td>1030.512614</td>\n",
       "      <td>79.539068</td>\n",
       "      <td>0.091844</td>\n",
       "      <td>45.091557</td>\n",
       "      <td>1.244116</td>\n",
       "      <td>71.911405</td>\n",
       "    </tr>\n",
       "    <tr>\n",
       "      <th>19</th>\n",
       "      <td>Romania</td>\n",
       "      <td>2.151141e+10</td>\n",
       "      <td>2.248069e+10</td>\n",
       "      <td>2.654368e+10</td>\n",
       "      <td>0.103380</td>\n",
       "      <td>2965.700624</td>\n",
       "      <td>212.423245</td>\n",
       "      <td>550.583619</td>\n",
       "      <td>84.935257</td>\n",
       "      <td>0.187375</td>\n",
       "      <td>63.684851</td>\n",
       "      <td>1.486243</td>\n",
       "      <td>120.826458</td>\n",
       "    </tr>\n",
       "    <tr>\n",
       "      <th>20</th>\n",
       "      <td>Slovenia</td>\n",
       "      <td>2.806464e+09</td>\n",
       "      <td>2.906028e+09</td>\n",
       "      <td>3.404084e+09</td>\n",
       "      <td>0.079642</td>\n",
       "      <td>407.000000</td>\n",
       "      <td>32.414216</td>\n",
       "      <td>407.000000</td>\n",
       "      <td>32.414216</td>\n",
       "      <td>0.079642</td>\n",
       "      <td>121.312630</td>\n",
       "      <td>1.699997</td>\n",
       "      <td>121.312630</td>\n",
       "    </tr>\n",
       "    <tr>\n",
       "      <th>21</th>\n",
       "      <td>Spain</td>\n",
       "      <td>6.774415e+10</td>\n",
       "      <td>6.775534e+10</td>\n",
       "      <td>7.739126e+10</td>\n",
       "      <td>0.082357</td>\n",
       "      <td>998.607801</td>\n",
       "      <td>76.217246</td>\n",
       "      <td>468.386420</td>\n",
       "      <td>54.247584</td>\n",
       "      <td>0.124067</td>\n",
       "      <td>46.476323</td>\n",
       "      <td>1.409627</td>\n",
       "      <td>79.012006</td>\n",
       "    </tr>\n",
       "    <tr>\n",
       "      <th>22</th>\n",
       "      <td>Sweden</td>\n",
       "      <td>1.278353e+11</td>\n",
       "      <td>1.336003e+11</td>\n",
       "      <td>1.487469e+11</td>\n",
       "      <td>0.048775</td>\n",
       "      <td>4519.677247</td>\n",
       "      <td>198.059755</td>\n",
       "      <td>980.508183</td>\n",
       "      <td>97.837710</td>\n",
       "      <td>0.106747</td>\n",
       "      <td>35.406580</td>\n",
       "      <td>0.690630</td>\n",
       "      <td>100.023876</td>\n",
       "    </tr>\n",
       "    <tr>\n",
       "      <th>23</th>\n",
       "      <td>United Kingdom</td>\n",
       "      <td>1.381636e+11</td>\n",
       "      <td>1.379735e+11</td>\n",
       "      <td>1.466025e+11</td>\n",
       "      <td>0.039995</td>\n",
       "      <td>4221.084327</td>\n",
       "      <td>156.923815</td>\n",
       "      <td>890.418394</td>\n",
       "      <td>74.677813</td>\n",
       "      <td>0.086683</td>\n",
       "      <td>29.625941</td>\n",
       "      <td>0.997138</td>\n",
       "      <td>76.671543</td>\n",
       "    </tr>\n",
       "  </tbody>\n",
       "</table>\n",
       "</div>"
      ],
      "text/plain": [
       "           country       dev2015       dev2016       dev2017  con_days  \\\n",
       "0          Austria  2.212998e+10  2.303838e+10  2.570323e+10  0.056563   \n",
       "1          Belgium  3.077947e+10  3.165766e+10  3.489330e+10  0.046212   \n",
       "2         Bulgaria  4.620747e+09  4.794953e+09  5.360640e+09  0.115894   \n",
       "3          Croatia  1.111149e+10  1.144908e+10  1.282938e+10  0.055237   \n",
       "4           Cyprus  1.509911e+09  1.406940e+09  1.742054e+09  0.078788   \n",
       "5   Czech Republic  1.328217e+11  1.369600e+11  1.547561e+11  0.122537   \n",
       "6          Denmark  6.812738e+10  7.076457e+10  7.873592e+10  0.175383   \n",
       "7          Estonia  1.514353e+09  1.560990e+09  1.782942e+09  0.068162   \n",
       "8          Finland  1.272198e+10  1.325847e+10  1.434894e+10  0.097595   \n",
       "9           France  1.396048e+11  1.425134e+11  1.567669e+11  0.049470   \n",
       "10         Germany  1.937600e+11  1.971381e+11  2.354659e+11  0.043800   \n",
       "11          Greece  1.126046e+10  1.104430e+10  1.253926e+10  0.052654   \n",
       "12         Hungary  9.606287e+11  9.848938e+11  1.115520e+12  0.113181   \n",
       "13         Ireland  2.025694e+10  2.172981e+10  2.448018e+10  0.058410   \n",
       "14           Italy  9.904950e+10  1.027422e+11  1.111255e+11  0.089043   \n",
       "15          Latvia  1.679994e+09  1.697620e+09  1.982185e+09  0.069195   \n",
       "16     Netherlands  5.309200e+10  5.322997e+10  6.137167e+10  0.053230   \n",
       "17          Poland  6.285604e+10  6.535457e+10  7.533315e+10  0.145523   \n",
       "18        Portugal  1.179275e+10  1.230826e+10  1.367503e+10  0.066414   \n",
       "19         Romania  2.151141e+10  2.248069e+10  2.654368e+10  0.103380   \n",
       "20        Slovenia  2.806464e+09  2.906028e+09  3.404084e+09  0.079642   \n",
       "21           Spain  6.774415e+10  6.775534e+10  7.739126e+10  0.082357   \n",
       "22          Sweden  1.278353e+11  1.336003e+11  1.487469e+11  0.048775   \n",
       "23  United Kingdom  1.381636e+11  1.379735e+11  1.466025e+11  0.039995   \n",
       "\n",
       "    count_days_s_pg  count_days_wg  count_subject_s_pg  count_subject_wg  \\\n",
       "0        838.150476      47.999302          644.102383         44.212534   \n",
       "1       1549.708165      64.855814          747.512983         47.516518   \n",
       "2        698.817121      70.934321          436.884504         55.121788   \n",
       "3       5968.000000     329.652796         2002.000000        191.022371   \n",
       "4        909.000000      71.617841          303.000000         46.550661   \n",
       "5       1652.059854     185.741363          826.029927        135.440389   \n",
       "6       5171.688619     839.784372          740.757141        261.996744   \n",
       "7       1461.569266      82.054666          803.924354         65.238456   \n",
       "8       1809.371451     176.515678          729.455350        102.629237   \n",
       "9       3839.907209     180.520835          892.849334         90.500868   \n",
       "10      4245.270708     149.468682         1899.874291        105.737947   \n",
       "11      1296.012974      67.281666          407.809150         42.944691   \n",
       "12      1644.425957     154.245702          548.141986         88.992512   \n",
       "13      3754.005704     190.867100          722.033425         84.677504   \n",
       "14      2050.957287     142.473209          683.652429         82.886208   \n",
       "15      1331.668256      81.615922          694.650352         63.786006   \n",
       "16      1573.480980      76.272731          786.740490         57.907404   \n",
       "17       802.411544     102.517247          802.411544        102.517247   \n",
       "18      1960.270965     107.563420         1030.512614         79.539068   \n",
       "19      2965.700624     212.423245          550.583619         84.935257   \n",
       "20       407.000000      32.414216          407.000000         32.414216   \n",
       "21       998.607801      76.217246          468.386420         54.247584   \n",
       "22      4519.677247     198.059755          980.508183         97.837710   \n",
       "23      4221.084327     156.923815          890.418394         74.677813   \n",
       "\n",
       "    per_customer  avg_chronic  avg_chronic_bw   avg_acute  \n",
       "0       0.089112    73.046957        1.195994  112.008878  \n",
       "1       0.074240    53.438021        1.142924   93.155975  \n",
       "2       0.135376    66.980027        2.090993   76.810736  \n",
       "3       0.095416    59.993159        0.810003  126.939513  \n",
       "4       0.153633    45.526776        0.906919  109.515371  \n",
       "5       0.178405    50.392852        1.154393   87.009075  \n",
       "6       0.374534    25.033536        0.634072   54.192655  \n",
       "7       0.097204    48.492113        1.274426   76.531734  \n",
       "8       0.149774    35.439645        1.045745   57.991373  \n",
       "9       0.111448    31.589019        0.867533   79.437501  \n",
       "10      0.084592    39.269496        1.082497   76.805758  \n",
       "11      0.121218    35.815959        1.067678  102.573951  \n",
       "12      0.193549    44.828551        0.637715   94.842838  \n",
       "13      0.125134    35.553160        0.481735   91.483253  \n",
       "14      0.150910    39.533670        1.296659   78.350935  \n",
       "15      0.103256    53.326142        1.491742   92.339423  \n",
       "16      0.079754    52.323109        1.124579   88.202058  \n",
       "17      0.145523    98.016863        2.371023   98.016863  \n",
       "18      0.091844    45.091557        1.244116   71.911405  \n",
       "19      0.187375    63.684851        1.486243  120.826458  \n",
       "20      0.079642   121.312630        1.699997  121.312630  \n",
       "21      0.124067    46.476323        1.409627   79.012006  \n",
       "22      0.106747    35.406580        0.690630  100.023876  \n",
       "23      0.086683    29.625941        0.997138   76.671543  "
      ]
     },
     "execution_count": 150,
     "metadata": {},
     "output_type": "execute_result"
    }
   ],
   "source": [
    "# Begin merging dataframes: development and nutrition\n",
    "temp_df = pd.merge(left=dev_means, right=nutrition_means, left_on='country', right_on='country').dropna()\n",
    "temp_df"
   ]
  },
  {
   "cell_type": "code",
   "execution_count": 146,
   "metadata": {},
   "outputs": [],
   "source": [
    "# Merge resultant dataframe from above with mortality\n",
    "#means_df = temp_df.merge(mortality_means, on='country').dropna()   "
   ]
  },
  {
   "cell_type": "code",
   "execution_count": 195,
   "metadata": {},
   "outputs": [],
   "source": [
    "# Merge resultant dataframe from above with mortality\n",
    "means_df = pd.merge(left=temp_df, right=mortality_means, left_on='country', right_on='country').dropna()"
   ]
  },
  {
   "cell_type": "code",
   "execution_count": 196,
   "metadata": {},
   "outputs": [
    {
     "data": {
      "text/html": [
       "<div>\n",
       "<style scoped>\n",
       "    .dataframe tbody tr th:only-of-type {\n",
       "        vertical-align: middle;\n",
       "    }\n",
       "\n",
       "    .dataframe tbody tr th {\n",
       "        vertical-align: top;\n",
       "    }\n",
       "\n",
       "    .dataframe thead th {\n",
       "        text-align: right;\n",
       "    }\n",
       "</style>\n",
       "<table border=\"1\" class=\"dataframe\">\n",
       "  <thead>\n",
       "    <tr style=\"text-align: right;\">\n",
       "      <th></th>\n",
       "      <th>country</th>\n",
       "      <th>dev2015</th>\n",
       "      <th>dev2016</th>\n",
       "      <th>dev2017</th>\n",
       "      <th>con_days</th>\n",
       "      <th>count_days_s_pg</th>\n",
       "      <th>count_days_wg</th>\n",
       "      <th>count_subject_s_pg</th>\n",
       "      <th>count_subject_wg</th>\n",
       "      <th>per_customer</th>\n",
       "      <th>avg_chronic</th>\n",
       "      <th>avg_chronic_bw</th>\n",
       "      <th>avg_acute</th>\n",
       "      <th>avg_mort</th>\n",
       "    </tr>\n",
       "  </thead>\n",
       "  <tbody>\n",
       "    <tr>\n",
       "      <th>3</th>\n",
       "      <td>Denmark</td>\n",
       "      <td>6.812738e+10</td>\n",
       "      <td>7.076457e+10</td>\n",
       "      <td>7.873592e+10</td>\n",
       "      <td>0.175383</td>\n",
       "      <td>5171.688619</td>\n",
       "      <td>839.784372</td>\n",
       "      <td>740.757141</td>\n",
       "      <td>261.996744</td>\n",
       "      <td>0.374534</td>\n",
       "      <td>25.033536</td>\n",
       "      <td>0.634072</td>\n",
       "      <td>54.192655</td>\n",
       "      <td>8.393333</td>\n",
       "    </tr>\n",
       "    <tr>\n",
       "      <th>10</th>\n",
       "      <td>Netherlands</td>\n",
       "      <td>5.309200e+10</td>\n",
       "      <td>5.322997e+10</td>\n",
       "      <td>6.137167e+10</td>\n",
       "      <td>0.053230</td>\n",
       "      <td>1573.480980</td>\n",
       "      <td>76.272731</td>\n",
       "      <td>786.740490</td>\n",
       "      <td>57.907404</td>\n",
       "      <td>0.079754</td>\n",
       "      <td>52.323109</td>\n",
       "      <td>1.124579</td>\n",
       "      <td>88.202058</td>\n",
       "      <td>7.873333</td>\n",
       "    </tr>\n",
       "    <tr>\n",
       "      <th>2</th>\n",
       "      <td>Bulgaria</td>\n",
       "      <td>4.620747e+09</td>\n",
       "      <td>4.794953e+09</td>\n",
       "      <td>5.360640e+09</td>\n",
       "      <td>0.115894</td>\n",
       "      <td>698.817121</td>\n",
       "      <td>70.934321</td>\n",
       "      <td>436.884504</td>\n",
       "      <td>55.121788</td>\n",
       "      <td>0.135376</td>\n",
       "      <td>66.980027</td>\n",
       "      <td>2.090993</td>\n",
       "      <td>76.810736</td>\n",
       "      <td>18.103333</td>\n",
       "    </tr>\n",
       "    <tr>\n",
       "      <th>13</th>\n",
       "      <td>Romania</td>\n",
       "      <td>2.151141e+10</td>\n",
       "      <td>2.248069e+10</td>\n",
       "      <td>2.654368e+10</td>\n",
       "      <td>0.103380</td>\n",
       "      <td>2965.700624</td>\n",
       "      <td>212.423245</td>\n",
       "      <td>550.583619</td>\n",
       "      <td>84.935257</td>\n",
       "      <td>0.187375</td>\n",
       "      <td>63.684851</td>\n",
       "      <td>1.486243</td>\n",
       "      <td>120.826458</td>\n",
       "      <td>27.168333</td>\n",
       "    </tr>\n",
       "    <tr>\n",
       "      <th>0</th>\n",
       "      <td>Austria</td>\n",
       "      <td>2.212998e+10</td>\n",
       "      <td>2.303838e+10</td>\n",
       "      <td>2.570323e+10</td>\n",
       "      <td>0.056563</td>\n",
       "      <td>838.150476</td>\n",
       "      <td>47.999302</td>\n",
       "      <td>644.102383</td>\n",
       "      <td>44.212534</td>\n",
       "      <td>0.089112</td>\n",
       "      <td>73.046957</td>\n",
       "      <td>1.195994</td>\n",
       "      <td>112.008878</td>\n",
       "      <td>12.430000</td>\n",
       "    </tr>\n",
       "    <tr>\n",
       "      <th>8</th>\n",
       "      <td>Ireland</td>\n",
       "      <td>2.025694e+10</td>\n",
       "      <td>2.172981e+10</td>\n",
       "      <td>2.448018e+10</td>\n",
       "      <td>0.058410</td>\n",
       "      <td>3754.005704</td>\n",
       "      <td>190.867100</td>\n",
       "      <td>722.033425</td>\n",
       "      <td>84.677504</td>\n",
       "      <td>0.125134</td>\n",
       "      <td>35.553160</td>\n",
       "      <td>0.481735</td>\n",
       "      <td>91.483253</td>\n",
       "      <td>10.933333</td>\n",
       "    </tr>\n",
       "    <tr>\n",
       "      <th>5</th>\n",
       "      <td>France</td>\n",
       "      <td>1.396048e+11</td>\n",
       "      <td>1.425134e+11</td>\n",
       "      <td>1.567669e+11</td>\n",
       "      <td>0.049470</td>\n",
       "      <td>3839.907209</td>\n",
       "      <td>180.520835</td>\n",
       "      <td>892.849334</td>\n",
       "      <td>90.500868</td>\n",
       "      <td>0.111448</td>\n",
       "      <td>31.589019</td>\n",
       "      <td>0.867533</td>\n",
       "      <td>79.437501</td>\n",
       "      <td>8.978333</td>\n",
       "    </tr>\n",
       "    <tr>\n",
       "      <th>9</th>\n",
       "      <td>Italy</td>\n",
       "      <td>9.904950e+10</td>\n",
       "      <td>1.027422e+11</td>\n",
       "      <td>1.111255e+11</td>\n",
       "      <td>0.089043</td>\n",
       "      <td>2050.957287</td>\n",
       "      <td>142.473209</td>\n",
       "      <td>683.652429</td>\n",
       "      <td>82.886208</td>\n",
       "      <td>0.150910</td>\n",
       "      <td>39.533670</td>\n",
       "      <td>1.296659</td>\n",
       "      <td>78.350935</td>\n",
       "      <td>13.938333</td>\n",
       "    </tr>\n",
       "    <tr>\n",
       "      <th>11</th>\n",
       "      <td>Poland</td>\n",
       "      <td>6.285604e+10</td>\n",
       "      <td>6.535457e+10</td>\n",
       "      <td>7.533315e+10</td>\n",
       "      <td>0.145523</td>\n",
       "      <td>802.411544</td>\n",
       "      <td>102.517247</td>\n",
       "      <td>802.411544</td>\n",
       "      <td>102.517247</td>\n",
       "      <td>0.145523</td>\n",
       "      <td>98.016863</td>\n",
       "      <td>2.371023</td>\n",
       "      <td>98.016863</td>\n",
       "      <td>18.460000</td>\n",
       "    </tr>\n",
       "    <tr>\n",
       "      <th>14</th>\n",
       "      <td>Sweden</td>\n",
       "      <td>1.278353e+11</td>\n",
       "      <td>1.336003e+11</td>\n",
       "      <td>1.487469e+11</td>\n",
       "      <td>0.048775</td>\n",
       "      <td>4519.677247</td>\n",
       "      <td>198.059755</td>\n",
       "      <td>980.508183</td>\n",
       "      <td>97.837710</td>\n",
       "      <td>0.106747</td>\n",
       "      <td>35.406580</td>\n",
       "      <td>0.690630</td>\n",
       "      <td>100.023876</td>\n",
       "      <td>6.583333</td>\n",
       "    </tr>\n",
       "  </tbody>\n",
       "</table>\n",
       "</div>"
      ],
      "text/plain": [
       "        country       dev2015       dev2016       dev2017  con_days  \\\n",
       "3       Denmark  6.812738e+10  7.076457e+10  7.873592e+10  0.175383   \n",
       "10  Netherlands  5.309200e+10  5.322997e+10  6.137167e+10  0.053230   \n",
       "2      Bulgaria  4.620747e+09  4.794953e+09  5.360640e+09  0.115894   \n",
       "13      Romania  2.151141e+10  2.248069e+10  2.654368e+10  0.103380   \n",
       "0       Austria  2.212998e+10  2.303838e+10  2.570323e+10  0.056563   \n",
       "8       Ireland  2.025694e+10  2.172981e+10  2.448018e+10  0.058410   \n",
       "5        France  1.396048e+11  1.425134e+11  1.567669e+11  0.049470   \n",
       "9         Italy  9.904950e+10  1.027422e+11  1.111255e+11  0.089043   \n",
       "11       Poland  6.285604e+10  6.535457e+10  7.533315e+10  0.145523   \n",
       "14       Sweden  1.278353e+11  1.336003e+11  1.487469e+11  0.048775   \n",
       "\n",
       "    count_days_s_pg  count_days_wg  count_subject_s_pg  count_subject_wg  \\\n",
       "3       5171.688619     839.784372          740.757141        261.996744   \n",
       "10      1573.480980      76.272731          786.740490         57.907404   \n",
       "2        698.817121      70.934321          436.884504         55.121788   \n",
       "13      2965.700624     212.423245          550.583619         84.935257   \n",
       "0        838.150476      47.999302          644.102383         44.212534   \n",
       "8       3754.005704     190.867100          722.033425         84.677504   \n",
       "5       3839.907209     180.520835          892.849334         90.500868   \n",
       "9       2050.957287     142.473209          683.652429         82.886208   \n",
       "11       802.411544     102.517247          802.411544        102.517247   \n",
       "14      4519.677247     198.059755          980.508183         97.837710   \n",
       "\n",
       "    per_customer  avg_chronic  avg_chronic_bw   avg_acute   avg_mort  \n",
       "3       0.374534    25.033536        0.634072   54.192655   8.393333  \n",
       "10      0.079754    52.323109        1.124579   88.202058   7.873333  \n",
       "2       0.135376    66.980027        2.090993   76.810736  18.103333  \n",
       "13      0.187375    63.684851        1.486243  120.826458  27.168333  \n",
       "0       0.089112    73.046957        1.195994  112.008878  12.430000  \n",
       "8       0.125134    35.553160        0.481735   91.483253  10.933333  \n",
       "5       0.111448    31.589019        0.867533   79.437501   8.978333  \n",
       "9       0.150910    39.533670        1.296659   78.350935  13.938333  \n",
       "11      0.145523    98.016863        2.371023   98.016863  18.460000  \n",
       "14      0.106747    35.406580        0.690630  100.023876   6.583333  "
      ]
     },
     "execution_count": 196,
     "metadata": {},
     "output_type": "execute_result"
    }
   ],
   "source": [
    "means_df.sample(10)"
   ]
  },
  {
   "cell_type": "code",
   "execution_count": null,
   "metadata": {},
   "outputs": [],
   "source": []
  },
  {
   "cell_type": "code",
   "execution_count": null,
   "metadata": {},
   "outputs": [],
   "source": []
  },
  {
   "cell_type": "code",
   "execution_count": null,
   "metadata": {},
   "outputs": [],
   "source": []
  },
  {
   "cell_type": "code",
   "execution_count": 197,
   "metadata": {},
   "outputs": [],
   "source": [
    "import statsmodels.api as sm\n",
    "import statsmodels.formula.api as smf\n",
    "from statsmodels.formula.api import ols\n",
    "from statsmodels.stats.anova import anova_lm\n",
    "from statsmodels.graphics.factorplots import interaction_plot"
   ]
  },
  {
   "cell_type": "code",
   "execution_count": 198,
   "metadata": {},
   "outputs": [
    {
     "name": "stdout",
     "output_type": "stream",
     "text": [
      "                 Generalized Linear Model Regression Results                  \n",
      "==============================================================================\n",
      "Dep. Variable:               avg_mort   No. Observations:                   16\n",
      "Model:                            GLM   Df Residuals:                       15\n",
      "Model Family:                   Gamma   Df Model:                            0\n",
      "Link Function:          inverse_power   Scale:                          6.7068\n",
      "Method:                          IRLS   Log-Likelihood:                -79.426\n",
      "Date:                Sun, 22 Nov 2020   Deviance:                       36.999\n",
      "Time:                        22:00:18   Pearson chi2:                     101.\n",
      "No. Iterations:                    10                                         \n",
      "Covariance Type:            nonrobust                                         \n",
      "==============================================================================\n",
      "                 coef    std err          z      P>|z|      [0.025      0.975]\n",
      "------------------------------------------------------------------------------\n",
      "dev2016     5.719e-13    3.7e-13      1.545      0.122   -1.54e-13     1.3e-12\n",
      "==============================================================================\n"
     ]
    },
    {
     "name": "stderr",
     "output_type": "stream",
     "text": [
      "/mnt/c/envs/env_unix/lib/python3.8/site-packages/statsmodels/genmod/generalized_linear_model.py:293: DomainWarning:\n",
      "\n",
      "The inverse_power link function does not respect the domain of the Gamma family.\n",
      "\n"
     ]
    }
   ],
   "source": [
    "# Examine change in mortality for changes in development index\n",
    "# means_df.avg_chronic = sm.add_constant(means_df.avg_chronic)\n",
    "\n",
    "# Instantiate a gamma family model with the default link function.\n",
    "gamma_model = sm.GLM(means_df.avg_mort, means_df.dev2016, family=sm.families.Gamma())\n",
    "gamma_results = gamma_model.fit()\n",
    "print(gamma_results.summary())"
   ]
  },
  {
   "cell_type": "code",
   "execution_count": 199,
   "metadata": {},
   "outputs": [
    {
     "name": "stdout",
     "output_type": "stream",
     "text": [
      "                 Generalized Linear Model Regression Results                  \n",
      "==============================================================================\n",
      "Dep. Variable:               avg_mort   No. Observations:                   16\n",
      "Model:                            GLM   Df Residuals:                       15\n",
      "Model Family:                   Gamma   Df Model:                            0\n",
      "Link Function:          inverse_power   Scale:                         0.33688\n",
      "Method:                          IRLS   Log-Likelihood:                -53.586\n",
      "Date:                Sun, 22 Nov 2020   Deviance:                       4.5437\n",
      "Time:                        22:00:21   Pearson chi2:                     5.05\n",
      "No. Iterations:                     7                                         \n",
      "Covariance Type:            nonrobust                                         \n",
      "==============================================================================\n",
      "                 coef    std err          z      P>|z|      [0.025      0.975]\n",
      "------------------------------------------------------------------------------\n",
      "avg_acute      0.0008      0.000      6.892      0.000       0.001       0.001\n",
      "==============================================================================\n"
     ]
    },
    {
     "name": "stderr",
     "output_type": "stream",
     "text": [
      "/mnt/c/envs/env_unix/lib/python3.8/site-packages/statsmodels/genmod/generalized_linear_model.py:293: DomainWarning:\n",
      "\n",
      "The inverse_power link function does not respect the domain of the Gamma family.\n",
      "\n"
     ]
    }
   ],
   "source": [
    "# Examine change in mortality for changes in development index and chronic consumption\n",
    "\n",
    "# means_df.avg_chronic = sm.add_constant(means_df.avg_chronic)\n",
    "\n",
    "# Instantiate a gamma family model with the default link function.\n",
    "gamma_model = sm.GLM(means_df.avg_mort, means_df.avg_acute, family=sm.families.Gamma())\n",
    "gamma_results = gamma_model.fit()\n",
    "print(gamma_results.summary())"
   ]
  },
  {
   "cell_type": "code",
   "execution_count": 200,
   "metadata": {},
   "outputs": [
    {
     "data": {
      "text/plain": [
       "<seaborn.axisgrid.FacetGrid at 0x7f5e6baaedf0>"
      ]
     },
     "execution_count": 200,
     "metadata": {},
     "output_type": "execute_result"
    },
    {
     "data": {
      "image/png": "[encoded data removed]",
      "text/plain": [
       "<Figure size 507.25x360 with 1 Axes>"
      ]
     },
     "metadata": {},
     "output_type": "display_data"
    }
   ],
   "source": [
    "# sns.set_theme()\n",
    "\n",
    "# Plot mortality as a function of acute consumption\n",
    "g = sns.lmplot(\n",
    "    data=means_df,\n",
    "    x=\"dev2016\", y=\"avg_mort\", hue=\"avg_acute\",\n",
    "    height=5)\n",
    "\n",
    "# Use more informative axis labels than are provided by default\n",
    "g.set_axis_labels(\"Development Index\", \"Mortality\")"
   ]
  },
  {
   "cell_type": "code",
   "execution_count": 201,
   "metadata": {},
   "outputs": [
    {
     "data": {
      "text/plain": [
       "Index(['country', 'PopulationGroup', 'ExposurehierarchyL1DESC', 'con_days',\n",
       "       'count_days_s_pg', 'count_days_wg', 'count_subject_s_pg',\n",
       "       'count_subject_wg', 'per_customer', 'avg_chronic', 'avg_chronic_bw',\n",
       "       'avg_acute', 'Diet'],\n",
       "      dtype='object')"
      ]
     },
     "execution_count": 201,
     "metadata": {},
     "output_type": "execute_result"
    }
   ],
   "source": [
    "# Rename Columns\n",
    "# nutrition_data.rename(columns={'ExposurehierarchyL1DESC': 'Diet'}, inplace=True)\n",
    "nutrition_data.rename(columns={'PopulationGroupL2DESC': 'PopulationGroup'}, inplace=True)\n",
    "nutrition_data.columns"
   ]
  },
  {
   "cell_type": "code",
   "execution_count": 202,
   "metadata": {},
   "outputs": [],
   "source": [
    "# Extract feature from long sentence variables for Diet\n",
    "\n",
    "import re, sys\n",
    "def findFeature(row):\n",
    "    regex = '^\\w+'\n",
    "    w = re.compile(regex)\n",
    "    found = re.findall(w, row)\n",
    "    if len(found)  > 0:\n",
    "        return found[0]\n",
    "    else:\n",
    "        return None\n",
    "\n",
    "nutrition_data['Diet'] = nutrition_data['ExposurehierarchyL1DESC'].apply(lambda x:  findFeature(x))\n",
    "# nutrition_data[[''ExposurehierarchyL1DESC, 'Diet']].sample(20)"
   ]
  },
  {
   "cell_type": "code",
   "execution_count": 203,
   "metadata": {},
   "outputs": [
    {
     "data": {
      "text/html": [
       "<div>\n",
       "<style scoped>\n",
       "    .dataframe tbody tr th:only-of-type {\n",
       "        vertical-align: middle;\n",
       "    }\n",
       "\n",
       "    .dataframe tbody tr th {\n",
       "        vertical-align: top;\n",
       "    }\n",
       "\n",
       "    .dataframe thead th {\n",
       "        text-align: right;\n",
       "    }\n",
       "</style>\n",
       "<table border=\"1\" class=\"dataframe\">\n",
       "  <thead>\n",
       "    <tr style=\"text-align: right;\">\n",
       "      <th></th>\n",
       "      <th>ExposurehierarchyL1DESC</th>\n",
       "      <th>Diet</th>\n",
       "    </tr>\n",
       "  </thead>\n",
       "  <tbody>\n",
       "    <tr>\n",
       "      <th>52351</th>\n",
       "      <td>Milk and dairy products</td>\n",
       "      <td>Milk</td>\n",
       "    </tr>\n",
       "    <tr>\n",
       "      <th>43959</th>\n",
       "      <td>Grains and grain-based products</td>\n",
       "      <td>Grains</td>\n",
       "    </tr>\n",
       "    <tr>\n",
       "      <th>1093</th>\n",
       "      <td>Seasoning, sauces and condiments</td>\n",
       "      <td>Seasoning</td>\n",
       "    </tr>\n",
       "    <tr>\n",
       "      <th>94594</th>\n",
       "      <td>Fruit and fruit products</td>\n",
       "      <td>Fruit</td>\n",
       "    </tr>\n",
       "    <tr>\n",
       "      <th>93596</th>\n",
       "      <td>Vegetables and vegetable products</td>\n",
       "      <td>Vegetables</td>\n",
       "    </tr>\n",
       "    <tr>\n",
       "      <th>98382</th>\n",
       "      <td>Meat and meat products</td>\n",
       "      <td>Meat</td>\n",
       "    </tr>\n",
       "    <tr>\n",
       "      <th>13542</th>\n",
       "      <td>Milk and dairy products</td>\n",
       "      <td>Milk</td>\n",
       "    </tr>\n",
       "    <tr>\n",
       "      <th>170573</th>\n",
       "      <td>Vegetables and vegetable products</td>\n",
       "      <td>Vegetables</td>\n",
       "    </tr>\n",
       "    <tr>\n",
       "      <th>2474</th>\n",
       "      <td>Grains and grain-based products</td>\n",
       "      <td>Grains</td>\n",
       "    </tr>\n",
       "    <tr>\n",
       "      <th>108685</th>\n",
       "      <td>Vegetables and vegetable products</td>\n",
       "      <td>Vegetables</td>\n",
       "    </tr>\n",
       "  </tbody>\n",
       "</table>\n",
       "</div>"
      ],
      "text/plain": [
       "                  ExposurehierarchyL1DESC        Diet\n",
       "52351             Milk and dairy products        Milk\n",
       "43959     Grains and grain-based products      Grains\n",
       "1093     Seasoning, sauces and condiments   Seasoning\n",
       "94594            Fruit and fruit products       Fruit\n",
       "93596   Vegetables and vegetable products  Vegetables\n",
       "98382              Meat and meat products        Meat\n",
       "13542             Milk and dairy products        Milk\n",
       "170573  Vegetables and vegetable products  Vegetables\n",
       "2474      Grains and grain-based products      Grains\n",
       "108685  Vegetables and vegetable products  Vegetables"
      ]
     },
     "execution_count": 203,
     "metadata": {},
     "output_type": "execute_result"
    }
   ],
   "source": [
    "nutrition_data[['ExposurehierarchyL1DESC', 'Diet']].sample(10)"
   ]
  },
  {
   "cell_type": "code",
   "execution_count": 204,
   "metadata": {},
   "outputs": [],
   "source": [
    "diet_means = nutrition_data[['Diet', \n",
    "                             'PopulationGroup', \n",
    "                             'avg_chronic', \n",
    "                             'avg_chronic_bw', \n",
    "                             'avg_acute']].groupby(['Diet', 'PopulationGroup']).mean()"
   ]
  },
  {
   "cell_type": "code",
   "execution_count": 205,
   "metadata": {},
   "outputs": [
    {
     "data": {
      "text/html": [
       "<div>\n",
       "<style scoped>\n",
       "    .dataframe tbody tr th:only-of-type {\n",
       "        vertical-align: middle;\n",
       "    }\n",
       "\n",
       "    .dataframe tbody tr th {\n",
       "        vertical-align: top;\n",
       "    }\n",
       "\n",
       "    .dataframe thead th {\n",
       "        text-align: right;\n",
       "    }\n",
       "</style>\n",
       "<table border=\"1\" class=\"dataframe\">\n",
       "  <thead>\n",
       "    <tr style=\"text-align: right;\">\n",
       "      <th></th>\n",
       "      <th></th>\n",
       "      <th>avg_chronic</th>\n",
       "      <th>avg_chronic_bw</th>\n",
       "      <th>avg_acute</th>\n",
       "    </tr>\n",
       "    <tr>\n",
       "      <th>Diet</th>\n",
       "      <th>PopulationGroup</th>\n",
       "      <th></th>\n",
       "      <th></th>\n",
       "      <th></th>\n",
       "    </tr>\n",
       "  </thead>\n",
       "  <tbody>\n",
       "    <tr>\n",
       "      <th>Major</th>\n",
       "      <th>Toddlers</th>\n",
       "      <td>1.075863</td>\n",
       "      <td>0.096734</td>\n",
       "      <td>2.226831</td>\n",
       "    </tr>\n",
       "    <tr>\n",
       "      <th>Eggs</th>\n",
       "      <th>Very elderly</th>\n",
       "      <td>21.091949</td>\n",
       "      <td>0.289538</td>\n",
       "      <td>43.264973</td>\n",
       "    </tr>\n",
       "    <tr>\n",
       "      <th>Animal</th>\n",
       "      <th>Other children</th>\n",
       "      <td>5.504939</td>\n",
       "      <td>0.236379</td>\n",
       "      <td>8.972919</td>\n",
       "    </tr>\n",
       "    <tr>\n",
       "      <th>Legumes</th>\n",
       "      <th>Toddlers</th>\n",
       "      <td>5.322462</td>\n",
       "      <td>0.436990</td>\n",
       "      <td>12.449404</td>\n",
       "    </tr>\n",
       "    <tr>\n",
       "      <th>Alcoholic</th>\n",
       "      <th>Infants</th>\n",
       "      <td>7.796476</td>\n",
       "      <td>0.815755</td>\n",
       "      <td>17.298956</td>\n",
       "    </tr>\n",
       "    <tr>\n",
       "      <th>Grains</th>\n",
       "      <th>Other children</th>\n",
       "      <td>24.344544</td>\n",
       "      <td>1.044752</td>\n",
       "      <td>50.268361</td>\n",
       "    </tr>\n",
       "    <tr>\n",
       "      <th>Composite</th>\n",
       "      <th>Adults</th>\n",
       "      <td>73.291294</td>\n",
       "      <td>1.019892</td>\n",
       "      <td>154.012985</td>\n",
       "    </tr>\n",
       "    <tr>\n",
       "      <th>Vegetables</th>\n",
       "      <th>Toddlers</th>\n",
       "      <td>12.161923</td>\n",
       "      <td>0.998914</td>\n",
       "      <td>25.559131</td>\n",
       "    </tr>\n",
       "    <tr>\n",
       "      <th>Major</th>\n",
       "      <th>Infants</th>\n",
       "      <td>1.353319</td>\n",
       "      <td>0.227891</td>\n",
       "      <td>2.064264</td>\n",
       "    </tr>\n",
       "    <tr>\n",
       "      <th>Coffee</th>\n",
       "      <th>Very elderly</th>\n",
       "      <td>168.971644</td>\n",
       "      <td>2.384614</td>\n",
       "      <td>236.302698</td>\n",
       "    </tr>\n",
       "  </tbody>\n",
       "</table>\n",
       "</div>"
      ],
      "text/plain": [
       "                            avg_chronic  avg_chronic_bw   avg_acute\n",
       "Diet       PopulationGroup                                         \n",
       "Major      Toddlers            1.075863        0.096734    2.226831\n",
       "Eggs       Very elderly       21.091949        0.289538   43.264973\n",
       "Animal     Other children      5.504939        0.236379    8.972919\n",
       "Legumes    Toddlers            5.322462        0.436990   12.449404\n",
       "Alcoholic  Infants             7.796476        0.815755   17.298956\n",
       "Grains     Other children     24.344544        1.044752   50.268361\n",
       "Composite  Adults             73.291294        1.019892  154.012985\n",
       "Vegetables Toddlers           12.161923        0.998914   25.559131\n",
       "Major      Infants             1.353319        0.227891    2.064264\n",
       "Coffee     Very elderly      168.971644        2.384614  236.302698"
      ]
     },
     "execution_count": 205,
     "metadata": {},
     "output_type": "execute_result"
    }
   ],
   "source": [
    "diet_means.sample(10)"
   ]
  },
  {
   "cell_type": "code",
   "execution_count": 206,
   "metadata": {},
   "outputs": [
    {
     "data": {
      "image/png": "[encoded data removed]",
      "text/plain": [
       "<Figure size 1296x432 with 1 Axes>"
      ]
     },
     "metadata": {},
     "output_type": "display_data"
    }
   ],
   "source": [
    "x = nutrition_data['Diet'].tolist()\n",
    "# print(x[0:5])\n",
    "\n",
    "# the histogram of the data\n",
    "plt.figure(figsize=(18,6))\n",
    "n, bins, patches = plt.hist(x,20, facecolor='b', alpha=0.75, width=0.8)\n",
    "\n",
    "plt.xlabel('Diet')\n",
    "plt.ylabel('avg_acute')\n",
    "plt.title('Hist Diet')\n",
    "plt.xticks(rotation=75)\n",
    "plt.style.use('seaborn-whitegrid')\n",
    "#plt.grid(True)\n",
    "plt.show()"
   ]
  },
  {
   "cell_type": "code",
   "execution_count": null,
   "metadata": {},
   "outputs": [],
   "source": []
  },
  {
   "cell_type": "code",
   "execution_count": null,
   "metadata": {},
   "outputs": [],
   "source": []
  },
  {
   "cell_type": "code",
   "execution_count": null,
   "metadata": {},
   "outputs": [],
   "source": []
  },
  {
   "cell_type": "code",
   "execution_count": null,
   "metadata": {},
   "outputs": [],
   "source": []
  },
  {
   "cell_type": "code",
   "execution_count": null,
   "metadata": {},
   "outputs": [],
   "source": []
  }
 ],
 "metadata": {
  "kernelspec": {
   "display_name": "Python 3",
   "language": "python",
   "name": "python3"
  },
  "language_info": {
   "codemirror_mode": {
    "name": "ipython",
    "version": 3
   },
   "file_extension": ".py",
   "mimetype": "text/x-python",
   "name": "python",
   "nbconvert_exporter": "python",
   "pygments_lexer": "ipython3",
   "version": "3.8.0"
  }
 },
 "nbformat": 4,
 "nbformat_minor": 4
}
